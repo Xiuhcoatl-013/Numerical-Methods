{
 "cells": [
  {
   "cell_type": "markdown",
   "metadata": {},
   "source": [
    "# Numerical Differentiation"
   ]
  },
  {
   "cell_type": "code",
   "execution_count": 1,
   "metadata": {},
   "outputs": [],
   "source": [
    "import numpy as np\n",
    "import matplotlib.pyplot as plt\n",
    "%matplotlib inline"
   ]
  },
  {
   "cell_type": "markdown",
   "metadata": {},
   "source": [
    "## Derivative\n",
    "\n",
    "The derivative of a function $f(x)$ at $x=a$ is the limit\n",
    "\n",
    "$$\n",
    "f'(a) = \\lim_{h \\to 0} \\frac{f(a+h) - f(a)}{h}\n",
    "$$"
   ]
  },
  {
   "cell_type": "markdown",
   "metadata": {},
   "source": [
    "## Difference Formulas\n",
    "\n",
    "There are 3 main [difference formulas](https://en.wikipedia.org/wiki/Finite_difference#Forward,_backward,_and_central_differences) for numerically approximating derivatives.\n",
    "\n",
    "The *forward difference formula* with step size $h$ is\n",
    "\n",
    "$$\n",
    "f'(a) \\approx \\frac{f(a + h) - f(a)}{h}\n",
    "$$\n",
    "\n",
    "The *backward difference formula* with step size $h$ is\n",
    "\n",
    "$$\n",
    "f'(a) \\approx \\frac{f(a) - f(a - h)}{h}\n",
    "$$\n",
    "\n",
    "The *central difference formula* with step size $h$ is the average of the forward and backwards difference formulas\n",
    "\n",
    "$$\n",
    "f'(a) \\approx \\frac{1}{2} \\left( \\frac{f(a + h) - f(a)}{h} + \\frac{f(a) - f(a - h)}{h} \\right) = \\frac{f(a + h) - f(a - h)}{2h}\n",
    "$$"
   ]
  },
  {
   "cell_type": "markdown",
   "metadata": {},
   "source": [
    "## Implementation\n",
    "\n",
    "Let's write a function called `derivative` which takes input parameters `f`, `a`, `method` and `h` (with default values `method='central'` and `h=0.01`) and returns the corresponding difference formula for $f'(a)$ with step size $h$."
   ]
  },
  {
   "cell_type": "code",
   "execution_count": 2,
   "metadata": {},
   "outputs": [],
   "source": [
    "def derivative(f,a,method='central',h=0.01):\n",
    "    '''Compute the difference formula for f'(a) with step size h.\n",
    "\n",
    "    Parameters\n",
    "    ----------\n",
    "    f : function\n",
    "        Vectorized function of one variable\n",
    "    a : number\n",
    "        Compute derivative at x = a\n",
    "    method : string\n",
    "        Difference formula: 'forward', 'backward' or 'central'\n",
    "    h : number\n",
    "        Step size in difference formula\n",
    "\n",
    "    Returns\n",
    "    -------\n",
    "    float\n",
    "        Difference formula:\n",
    "            central: f(a+h) - f(a-h))/2h\n",
    "            forward: f(a+h) - f(a))/h\n",
    "            backward: f(a) - f(a-h))/h            \n",
    "    '''\n",
    "    if method == 'central':\n",
    "        return (f(a + h) - f(a - h))/(2*h)\n",
    "    elif method == 'forward':\n",
    "        return (f(a + h) - f(a))/h\n",
    "    elif method == 'backward':\n",
    "        return (f(a) - f(a - h))/h\n",
    "    else:\n",
    "        raise ValueError(\"Method must be 'central', 'forward' or 'backward'.\")"
   ]
  },
  {
   "cell_type": "markdown",
   "metadata": {},
   "source": [
    "Let's test the function on some simple functions. For example, it si knowed\n",
    "\n",
    "$$\n",
    "\\left. \\frac{d}{dx} \\left( \\cos x \\right) \\, \\right|_{x=0} = -\\sin(0) = 0\n",
    "$$\n",
    "\n",
    "and computing"
   ]
  },
  {
   "cell_type": "code",
   "execution_count": 3,
   "metadata": {},
   "outputs": [
    {
     "data": {
      "text/plain": [
       "0.0"
      ]
     },
     "execution_count": 3,
     "metadata": {},
     "output_type": "execute_result"
    }
   ],
   "source": [
    "derivative(np.cos,0)"
   ]
  },
  {
   "cell_type": "code",
   "execution_count": 4,
   "metadata": {},
   "outputs": [
    {
     "data": {
      "text/plain": [
       "0.0"
      ]
     },
     "execution_count": 4,
     "metadata": {},
     "output_type": "execute_result"
    }
   ],
   "source": [
    "derivative(np.cos,0,method='forward',h=1e-8)"
   ]
  },
  {
   "cell_type": "markdown",
   "metadata": {},
   "source": [
    "We also know\n",
    "\n",
    "$$\n",
    "\\left. \\frac{d}{dx} \\left( e^x \\right) \\, \\right|_{x=0} = e^0 = 1\n",
    "$$\n",
    "\n",
    "and we compute"
   ]
  },
  {
   "cell_type": "code",
   "execution_count": 5,
   "metadata": {},
   "outputs": [
    {
     "data": {
      "text/plain": [
       "1.0000000016668897"
      ]
     },
     "execution_count": 5,
     "metadata": {},
     "output_type": "execute_result"
    }
   ],
   "source": [
    "derivative(np.exp,0,h=0.0001)"
   ]
  },
  {
   "cell_type": "code",
   "execution_count": 6,
   "metadata": {},
   "outputs": [
    {
     "data": {
      "text/plain": [
       "0.9999500016666385"
      ]
     },
     "execution_count": 6,
     "metadata": {},
     "output_type": "execute_result"
    }
   ],
   "source": [
    "derivative(np.exp,0,method='backward',h=0.0001)"
   ]
  },
  {
   "cell_type": "markdown",
   "metadata": {},
   "source": [
    "Notice that the function can take an array of inputs for $a$ and return the derivatives for each $a$ value. For example, we can plot the derivative of $\\sin(x)$:"
   ]
  },
  {
   "cell_type": "code",
   "execution_count": 7,
   "metadata": {},
   "outputs": [
    {
     "data": {
      "image/png": "[encoded data removed]",
      "text/plain": [
       "<Figure size 864x360 with 1 Axes>"
      ]
     },
     "metadata": {
      "needs_background": "light"
     },
     "output_type": "display_data"
    }
   ],
   "source": [
    "x = np.linspace(0,5*np.pi,100)\n",
    "dydx = derivative(np.sin,x)\n",
    "\n",
    "dYdx = np.cos(x)\n",
    "\n",
    "plt.figure(figsize=(12,5))\n",
    "plt.plot(x,dydx,'r.',label='Central Difference')\n",
    "plt.plot(x,dYdx,'b',label='True Value')\n",
    "\n",
    "plt.title('Central Difference Derivative of y = cos(x)')\n",
    "plt.legend(loc='best')\n",
    "plt.show()"
   ]
  },
  {
   "cell_type": "markdown",
   "metadata": {},
   "source": [
    "Let's compute and plot the derivative of a more complicated function\n",
    "\n",
    "$$\n",
    "y=\\left(\\frac{4x^2+2x+1}{x+2e^x}\\right)^x\n",
    "$$"
   ]
  },
  {
   "cell_type": "code",
   "execution_count": 8,
   "metadata": {},
   "outputs": [
    {
     "data": {
      "image/png": "[encoded data removed]",
      "text/plain": [
       "<Figure size 864x360 with 1 Axes>"
      ]
     },
     "metadata": {
      "needs_background": "light"
     },
     "output_type": "display_data"
    }
   ],
   "source": [
    "x = np.linspace(0,6,100)\n",
    "f = lambda x: ((4*x**2 + 2*x + 1)/(x + 2*np.exp(x)))**x\n",
    "y = f(x)\n",
    "dydx = derivative(f,x)\n",
    "\n",
    "plt.figure(figsize=(12,5))\n",
    "plt.plot(x,y,label='y=f(x)')\n",
    "plt.plot(x,dydx,label=\"Central Difference y=f'(x)\")\n",
    "plt.legend()\n",
    "plt.grid(True)\n",
    "\n",
    "plt.show()"
   ]
  },
  {
   "cell_type": "markdown",
   "metadata": {},
   "source": [
    "## Error Formulas\n",
    "    \n",
    "Natural questions arise: how good are the approximations given by the forward, backwards and central difference formulas? By deriving the error formulas from [Taylor's Theorem](https://en.wikipedia.org/wiki/Taylor%27s_theorem).\n",
    "\n",
    "---\n",
    "\n",
    "**Theorem.** The degree $n$ Taylor polynomial of $f(x)$ at $x=a$ with remainder term is\n",
    "\n",
    "$$\n",
    "f(x) = f(a) + f'(a)(x - a) + \\frac{f''(a)}{2}(x-a)^2 + \\cdots + \\frac{f^{(n)}(a)}{n!}(x-a)^n + \\frac{f^{(n+1)}(c)}{(n+1)!}(x-a)^{n+1}\n",
    "$$\n",
    "\n",
    "for some value $c$ between $x$ and $a$.\n",
    "\n",
    "---\n",
    "\n",
    "**Theorem.** The forward difference formula error is\n",
    "\n",
    "$$\n",
    "\\left| \\, \\frac{f(a+h) - f(a)}{h} - f'(a) \\, \\right| \\leq \\frac{hK_2}{2}\n",
    "$$\n",
    "\n",
    "where $\\left| \\, f''(x) \\, \\right| \\leq K_2$ for all $x \\in [a,a+h]$. The same error fomula holds for the backward difference formula.\n",
    "\n",
    "*Proof*. Look at the degree 1 Taylor formula:\n",
    "\n",
    "$$\n",
    "f(x) = f(a) + f'(a)(x-a) + \\frac{f''(c)}{2}(x-a)^{2}\n",
    "$$\n",
    "\n",
    "Let $x = a+h$ and manipulate the formula\n",
    "\n",
    "\\begin{align}\n",
    "f(a+h) &= f(a) + f'(a)h + \\frac{f''(c)}{2}h^{2} \\\\\\\n",
    "f(a+h) - f(a) &= f'(a)h + \\frac{f''(c)}{2}h^{2} \\\\\\\n",
    "\\frac{f(a+h) - f(a)}{h} &= f'(a) + \\frac{f''(c)}{2}h \\\\\\\n",
    "\\frac{f(a+h) - f(a)}{h} - f'(a) &= \\frac{f''(c)}{2}h\n",
    "\\end{align}\n",
    "\n",
    "Let $K_2$ such that $\\left| \\, f''(x) \\, \\right| \\leq K_2$ for all $x \\in [a,a+h]$ and see the result.\n",
    "\n",
    "---\n",
    "\n",
    "**Theorem.** The central difference formula error is:\n",
    "\n",
    "$$\n",
    "\\left| \\frac{f(a+h) - f(a-h)}{2h} - f'(a) \\right| \\leq \\frac{h^2K_3}{6}\n",
    "$$\n",
    "\n",
    "where $|f'''(x)| \\leq K_3$ for all $x \\in [a-h,a+h]$.\n",
    "\n",
    "*Proof*. Look at the Taylor polynomial of degree 2:\n",
    "\n",
    "$$\n",
    "f(x) = f(a) + f'(a)(x-a) + \\frac{f''(a)}{2}(x-a)^2 + \\frac{f'''(c)}{6}(x-a)^{3}\n",
    "$$\n",
    "\n",
    "Let $x = a + h$ and also $x = a - h$ and write:\n",
    "\n",
    "\\begin{align}\n",
    "f(a+h) &= f(a) + f'(a)h + \\frac{f''(a)}{2}h^2 + \\frac{f'''(c_1)}{6}h^{3} \\\\\\\n",
    "f(a-h) &= f(a) - f'(a)h + \\frac{f''(a)}{2}h^2 - \\frac{f'''(c_2)}{6}h^{3} \\\\\\\n",
    "f(a+h) - f(a-h) &= 2 f'(a)h + \\frac{f'''(c_1)}{6}h^{3} + \\frac{f'''(c_2)}{6}h^{3} \\\\\\\n",
    "\\frac{f(a+h) - f(a-h)}{2h} - f'(a) &= \\frac{f'''(c_1) + f'''(c_2)}{12}h^{2}\n",
    "\\end{align}\n",
    "\n",
    "Notice that $f'''(x)$ is continuous (by assumption) and $(f'''(c_1) + f'''(c_2))/2$ is between $f'''(c_1)$ and $f'''(c_2)$ and so there exists some $c$ between $c_1$ and $c_2$ such that\n",
    "\n",
    "$$\n",
    "f'''(c) = \\frac{f'''(c_1) + f'''(c_2)}{2}\n",
    "$$\n",
    "\n",
    "by the Intermediate Value Theorem. Let $K_3$ such that $\\left| \\, f'''(x) \\, \\right| \\leq K_3$ for all $x \\in [a-h,a+h]$ and see the result.\n",
    "\n",
    "---"
   ]
  },
  {
   "cell_type": "markdown",
   "metadata": {},
   "source": [
    "## scipy.misc.derivative\n",
    "\n",
    "The [SciPy](https://scipy.org/) function `scipy.misc.derivative` computes derivatives using the central difference formula."
   ]
  },
  {
   "cell_type": "code",
   "execution_count": 9,
   "metadata": {},
   "outputs": [],
   "source": [
    "from scipy.misc import derivative"
   ]
  },
  {
   "cell_type": "code",
   "execution_count": 10,
   "metadata": {},
   "outputs": [
    {
     "data": {
      "text/plain": [
       "array([ 1.0016675 ,  2.72281456,  7.40137735, 20.11902956, 54.68919246])"
      ]
     },
     "execution_count": 10,
     "metadata": {},
     "output_type": "execute_result"
    }
   ],
   "source": [
    "x = np.arange(0,5)\n",
    "derivative(np.exp,x,dx=0.1)"
   ]
  },
  {
   "cell_type": "markdown",
   "metadata": {},
   "source": [
    "## Higher Order Derivatives\n",
    "\n",
    "*Under construction*"
   ]
  },
  {
   "cell_type": "markdown",
   "metadata": {},
   "source": [
    "## Examples\n",
    "\n",
    "### Taylor series\n",
    "\n",
    "Let's plot the Taylor polynomial $T_3(x)$ of degree 3 centered at $x=0$ for $f(x) = \\frac{3e^x}{x^2 + x + 1}$ over the interval $x \\in [-3,3]$. First, let's plot the graph $y=f(x)$:"
   ]
  },
  {
   "cell_type": "code",
   "execution_count": 11,
   "metadata": {},
   "outputs": [
    {
     "data": {
      "image/png": "[encoded data removed]",
      "text/plain": [
       "<Figure size 432x288 with 1 Axes>"
      ]
     },
     "metadata": {
      "needs_background": "light"
     },
     "output_type": "display_data"
    }
   ],
   "source": [
    "x = np.linspace(-3,3,100)\n",
    "f = lambda x: 3*np.exp(x) / (x**2 + x + 1)\n",
    "y = f(x)\n",
    "plt.plot(x,y);\n",
    "plt.show()"
   ]
  },
  {
   "cell_type": "markdown",
   "metadata": {},
   "source": [
    "Let's compute the coefficients $a_n = \\frac{f^{(n)}(0)}{n!}$ for $n=0,1,2,3$:"
   ]
  },
  {
   "cell_type": "code",
   "execution_count": 12,
   "metadata": {},
   "outputs": [
    {
     "name": "stdout",
     "output_type": "stream",
     "text": [
      "3.0 1.9999983891239026e-06 -1.50000037502096 1.9999920608526622\n"
     ]
    }
   ],
   "source": [
    "a0 = f(0)\n",
    "a1 = derivative(f,0,dx=0.001,n=1)\n",
    "a2 = derivative(f,0,dx=0.001,n=2) / 2\n",
    "a3 = derivative(f,0,dx=0.001,n=3,order=5) / 6\n",
    "# The parameter order specifies the number of points to use\n",
    "# The value order must be odd and at least n + 1\n",
    "\n",
    "print(a0,a1,a2,a3)"
   ]
  },
  {
   "cell_type": "markdown",
   "metadata": {},
   "source": [
    "Finally, let's plot $f(x)$ and $T_3(x)$ together:"
   ]
  },
  {
   "cell_type": "code",
   "execution_count": 13,
   "metadata": {},
   "outputs": [
    {
     "data": {
      "image/png": "[encoded data removed]",
      "text/plain": [
       "<Figure size 432x288 with 1 Axes>"
      ]
     },
     "metadata": {
      "needs_background": "light"
     },
     "output_type": "display_data"
    }
   ],
   "source": [
    "T3 = a0 + a1*x + a2*x**2 + a3*x**3\n",
    "plt.plot(x,y,x,T3), plt.xlim([-3,3]), plt.ylim([0,5]);\n",
    "plt.show()"
   ]
  },
  {
   "cell_type": "markdown",
   "metadata": {},
   "source": [
    "### Arc length\n",
    "\n",
    "Write a function called `arc_length` which takes parameters `f`, `a`, `b`, `h` and `N` and returns an approximation of the arc length of $f(x)$ from $a$ to $b$\n",
    "\n",
    "$$\n",
    "L \\approx \\int_a^b \\sqrt{ 1 + \\left( f'(x) \\right)^2 } dx\n",
    "$$\n",
    "\n",
    "The function uses the trapezoid rule (`scipy.integrate.trapz`) to estimate the integral and the central difference formula to approximate $f'(x)$. Note that is not posible to use the central difference formula at the endpoints because they use $x$ values outside the interval $[a,b]$ and the computational function may not be defined there."
   ]
  },
  {
   "cell_type": "code",
   "execution_count": 14,
   "metadata": {},
   "outputs": [],
   "source": [
    "import scipy.integrate as spi\n",
    "\n",
    "def arc_length(f,a,b,h=0.001,N=1000):\n",
    "    '''Approximate the arc length of y=f(x) from x=a to x=b.\n",
    "\n",
    "    Parameters\n",
    "    ----------\n",
    "    f : (vectorized) function of one variable\n",
    "    a,b : numbers defining the interval [a,b]\n",
    "    h : step size to use in difference formulas\n",
    "    N : number of subintervals in trapezoid method\n",
    "\n",
    "    Returns\n",
    "    -------\n",
    "    Approximation of the integral \\int_a^b \\sqrt{1 + (f'(x))^2} dx\n",
    "    representing the arc length of y=f(x) from x=a to x=b.\n",
    "    '''\n",
    "    x = np.linspace(a,b,N+1)\n",
    "    y = f(x)\n",
    "\n",
    "    # Compute central difference formula for x_k for 1 &lt;= k &lt;= N-1\n",
    "    h = np.min([h,(b-a)/N]) # Make sure that h is smaller than the size of the subintervals\n",
    "    x_interior = x[1:-1]\n",
    "    df_interior = (f(x_interior + h) - f(x_interior - h))/(2*h)\n",
    "\n",
    "    # Use forward/backward difference formula at the endpoints\n",
    "    df_a = (f(a + h) - f(a))/h\n",
    "    df_b = (f(b) - f(b - h))/h\n",
    "    df = np.hstack([[df_a],df_interior,[df_b]])\n",
    "\n",
    "    # Compute values of the integrand in arc length formula\n",
    "    y = np.sqrt(1 + df**2)\n",
    "\n",
    "    # Compute the integral\n",
    "    L = spi.trapz(y,x)\n",
    "\n",
    "    return L"
   ]
  },
  {
   "cell_type": "markdown",
   "metadata": {},
   "source": [
    "Let's test our function with input where we know the exact output. For example, the arc length of $f(x)=x$ from $a=0$ to $b=1$ is $L=\\sqrt{2}$ and we compute"
   ]
  },
  {
   "cell_type": "code",
   "execution_count": 15,
   "metadata": {},
   "outputs": [
    {
     "data": {
      "text/plain": [
       "1.4142135623730958"
      ]
     },
     "execution_count": 15,
     "metadata": {},
     "output_type": "execute_result"
    }
   ],
   "source": [
    "arc_length(lambda x: x,0,1)"
   ]
  },
  {
   "cell_type": "markdown",
   "metadata": {},
   "source": [
    "and compare with the exact value"
   ]
  },
  {
   "cell_type": "code",
   "execution_count": 16,
   "metadata": {},
   "outputs": [
    {
     "data": {
      "text/plain": [
       "1.4142135623730951"
      ]
     },
     "execution_count": 16,
     "metadata": {},
     "output_type": "execute_result"
    }
   ],
   "source": [
    "np.sqrt(2)"
   ]
  },
  {
   "cell_type": "markdown",
   "metadata": {},
   "source": [
    "The arc length of $f(x)=\\sqrt{1 - x^2}$ from $a=0$ to $b=\\frac{1}{\\sqrt{2}}$ is $L=\\frac{\\pi}{4}$ and we compute"
   ]
  },
  {
   "cell_type": "code",
   "execution_count": 17,
   "metadata": {},
   "outputs": [
    {
     "data": {
      "text/plain": [
       "0.7853980801486478"
      ]
     },
     "execution_count": 17,
     "metadata": {},
     "output_type": "execute_result"
    }
   ],
   "source": [
    "arc_length(lambda x: np.sqrt(1 - x**2),0,1/np.sqrt(2))"
   ]
  },
  {
   "cell_type": "markdown",
   "metadata": {},
   "source": [
    "and compare to the exact value"
   ]
  },
  {
   "cell_type": "code",
   "execution_count": 18,
   "metadata": {},
   "outputs": [
    {
     "data": {
      "text/plain": [
       "0.7853981633974483"
      ]
     },
     "execution_count": 18,
     "metadata": {},
     "output_type": "execute_result"
    }
   ],
   "source": [
    "np.pi/4"
   ]
  },
  {
   "cell_type": "markdown",
   "metadata": {},
   "source": [
    "The arc length of $f(x)=\\frac{2x^{3/2}}{3}$ from $a=0$ to $b=1$ is $L = \\frac{2}{3}\\left( 2^{3/2} - 1 \\right)$ and we compute"
   ]
  },
  {
   "cell_type": "code",
   "execution_count": 19,
   "metadata": {},
   "outputs": [
    {
     "data": {
      "text/plain": [
       "1.2189514473173786"
      ]
     },
     "execution_count": 19,
     "metadata": {},
     "output_type": "execute_result"
    }
   ],
   "source": [
    "arc_length(lambda x: 2*(x**(3/2))/3,0,1,h=10**(-10),N=10**5)"
   ]
  },
  {
   "cell_type": "markdown",
   "metadata": {},
   "source": [
    "and compare to the exact value"
   ]
  },
  {
   "cell_type": "code",
   "execution_count": 20,
   "metadata": {},
   "outputs": [
    {
     "data": {
      "text/plain": [
       "1.2189514164974602"
      ]
     },
     "execution_count": 20,
     "metadata": {},
     "output_type": "execute_result"
    }
   ],
   "source": [
    "(2/3)*(2**(3/2) - 1)"
   ]
  },
  {
   "cell_type": "markdown",
   "metadata": {},
   "source": [
    "## Exercises\n",
    "\n",
    "1. Use `derivative` to compute values and then plot the derivative $f'(x)$ of the function\n",
    "\n",
    "    $$\n",
    "    f(x) = \\frac{7x^3-5x+1}{2x^4+x^2+1} \\ , \\ x \\in [-5,5]\n",
    "    $$\n",
    "\n",
    "    Compute the derivative of $f(x)$ by hand (using the quotient rule), plot the formula for $f'(x)$ and compare to the numerical approximation above.\n",
    "\n",
    "2. Plot the Taylor polynomial $T_4(x)$ of degree 4 centered at $x=0$ of the function\n",
    "\n",
    "    $$\n",
    "    f(x) = \\cos(x) + \\sin(2x)\n",
    "    $$\n",
    "\n",
    "    over the interval $x \\in [-\\pi,\\pi]$."
   ]
  }
 ],
 "metadata": {
  "kernelspec": {
   "display_name": "Python 3",
   "language": "python",
   "name": "python3"
  },
  "language_info": {
   "codemirror_mode": {
    "name": "ipython",
    "version": 3
   },
   "file_extension": ".py",
   "mimetype": "text/x-python",
   "name": "python",
   "nbconvert_exporter": "python",
   "pygments_lexer": "ipython3",
   "version": "3.7.6"
  }
 },
 "nbformat": 4,
 "nbformat_minor": 2
}
