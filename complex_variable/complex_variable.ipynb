{
 "cells": [
  {
   "cell_type": "markdown",
   "metadata": {},
   "source": [
    "# Complex Variable"
   ]
  },
  {
   "cell_type": "markdown",
   "metadata": {},
   "source": [
    "## 1. Introduction\n",
    "\n",
    "Throughout this chapter, it’ll give to the reader a really fast, strippeddown, ‘crash-course’ presentation of the very beginnings of complex function theory, and the application of that theory to one of the gems of mathematics: contour integration and its use in doing definite integrals.\n",
    "\n",
    "As start for this chapter, it is asumed only that the reader are familiar with complex numbers and their manipulation.\n",
    "\n",
    "The first several sections will lay the theoretical groundwork and then, quite suddenly, it’ll see how they all come together to bring the beautiful and powerful technique of contour integration. \n",
    "\n",
    "None of these preliminary sections is very difficult, but each is absolutely essential for understanding. Don’t skip them!\n",
    "\n",
    "In keeping with the usual spirit of the notes, the presentation leans heavily on intuitive, plausible arguments and, while thinking it were did anything wildly outrageous, there will admittedly be occasions where professional mathematicians might feel tiny stabs of pain. (Mathematicians are a pretty tough bunch, though, and they will survive!) As always, the vindication feeling will come when, after doing a series of manipulations, Python's numerical calculations agree with whatever theoretical result it has just derived."
   ]
  },
  {
   "cell_type": "markdown",
   "metadata": {},
   "source": [
    "## 2. Line Integrals\n",
    "\n",
    "Imagine two points, $A$ and $B$, in the two-dimensional $x, y$ plane. Further, imagine that $A$ and $B$ are the two end-points of the curve $C$ in the plane, as shown in Fig. 1. $A$ is the starting end-point and $B$ is the terminating end-point. Now, suppose that $C$ is divided into n parts (or arcs), with the $\\mathrm{k}$-th arc having length $\\Delta \\mathrm{s}_{\\mathrm{k}}$ (where $k$ runs from 1 to $n$ ). Each of these arcs has a projection on the $x$ -axis, where $\\Delta x_{k}$ is written as the $x$ -axis projection of $\\Delta s_{k} .$ In the same way, $\\Delta y_{k}$ as the y-axis projection of $\\Delta \\mathrm{s}_{\\mathrm{k}} .$ Again, see Fig. 1 Finally, it is assumed, as $\\mathrm{n} \\rightarrow \\infty$ that $\\Delta s_{k} \\rightarrow 0,$ that $\\Delta x_{k} \\rightarrow 0,$ and that $\\Delta y_{k} \\rightarrow 0,$ for each and every $k$ (that is, the points along $C$ that divide $C$ into $n$ arcs are distributed, loosely speaking, 'uniformly' along $\\mathrm{C}$ ).\n",
    "\n",
    "Continuing, suppose that some function $\\mathrm{h}(\\mathrm{x}, \\mathrm{y})$ is given, such function is defined at every point along $C$. If the two sums $\\sum_{k=1}^{n} h\\left(x_{k} are formed, y_{k}\\right) \\Delta x_{k}$ and $\\sum_{k=1}^{n} h\\left(x_{k}, y_{k}\\right) \\Delta y_{k}$\n",
    "where $\\left(x_{k}, y_{k}\\right)$ is an arbitrary point in the arc $\\Delta s_{k}$, then the limiting values [assuming that these two limits exist, then it will seen what that assumption brings] of these sums could be written as:\n",
    "\n",
    "$$\n",
    "\\lim _{n \\rightarrow \\infty} \\sum_{k=1}^{n} h\\left(x_{k}, y_{k}\\right) \\Delta x_{k}=\\int_{C} h(x, y) d x=I_{x}\n",
    "$$ [1]\n",
    "\n",
    "and\n",
    "\n",
    "$$\n",
    "\\lim _{n \\rightarrow \\infty} \\sum_{k=1}^{n} h\\left(x_{k}, y_{k}\\right) \\Delta y_{k}=\\int_{C} h(x, y) d y=I_{y}\n",
    "$$ [2]\n",
    "\n",
    "<br><br/>\n",
    "<p align=\"center\"><img src=\"images/curve_in_the_plane.png\" style=\"width:50%\"></p>\n",
    "<center> Fig. 1$\\quad$ A curve in the plane, and its projections on the x and y axes. </center>\n",
    "<br><br/>\n",
    "<br><br/>\n",
    "\n",
    "The $C$'s at the bottom of the integral signs in Eq.1 and Eq.2 are there to indicate that the integration is performed from A to B along C. The two limits in Eq.1 and Eq.2 will be named \"The Line Integrals\" (sometimes the term path integral is used, commonly by physicists). If $A=B$ that is, if $C$ is a closed loop in the non trivial case [There are, of course, two distinct ways it can have $A=B$. The trivial way is if $C$ simply has zero length, which immediately says $\\mathrm{I}_{\\mathrm{x}}=\\mathrm{I}_{\\mathrm{y}}=0$. The non-trivial way is if $C$ goes from $A$ out into the plane, wanders around for a while, and then returns to $A$ again (which now is re-label as B). It is this second way that gives a closed loop.], then the result is called a contour integral. When contour integrals are encounter, it is understood that $C$ never crosses itself (such a $C$ is said to be simple). Further, it is understood that a contour integral is done in the counter-clockwise sense; to reverse the direction of integration will reverse the algebraic sign of the integral.\n",
    "\n",
    "The value of a line integral depends, in general, on the coordinates of $A$ and $B$, the function $\\mathrm{h}(\\mathrm{x}, \\mathrm{y}),$ and on the specific path $C$ that connects $A$ and $B$. For example, suppose that $A=(0,0), B=(1,1),$ and that $h(x, y)=x y$. To start, let's suppose that $\\mathrm{C}=\\mathrm{C}_{1}$ is the broken path shown in Fig.2 The first part is along the $\\mathrm{x}$-axis from $\\mathrm{x}=0$ to $\\mathrm{x}=1$, and then the second part is straight-up from $\\mathrm{x}=1(\\mathrm{y}=0)$ to $\\mathrm{x}=1$ $(y=1)$. So, for this path we have $y=0$ along the $x$-axis and so $h(x, y)=0)$, and $\\mathrm{x}=1$ on the vertical portion of $\\mathrm{C}_{1}$ [and so $\\mathrm{h}(\\mathrm{x}, \\mathrm{y})=\\mathrm{y}$]. Thus, the two line integrals on this path are:\n",
    "\n",
    "\n",
    "<br><br/>\n",
    "<p align=\"center\"><img src=\"images/different_line_integral_paths.png\" style=\"width:50%\"></p>\n",
    "<center> Fig. 2$\\quad$ Two different line integral paths. </center>\n",
    "<br><br/>\n",
    "<br><br/>\n",
    "\n",
    "$$\n",
    "\\mathrm{I}_{\\mathrm{x}}=\\int_{\\mathrm{C}_{1}} \\mathrm{h}(\\mathrm{x}, \\mathrm{y}) \\mathrm{d} \\mathrm{x}=\\int_{0}^{1} 0 \\mathrm{d} \\mathrm{x}+\\int_{1}^{1} \\mathrm{y} \\mathrm{d} \\mathrm{x}=0+0=0\n",
    "$$\n",
    "\n",
    "and\n",
    "\n",
    "$$\n",
    "\\mathrm{I}_{\\mathrm{y}}=\\int_{\\mathrm{C}_{1}} \\mathrm{h}(\\mathrm{x}, \\mathrm{y}) \\mathrm{d} \\mathrm{y}=\\int_{0}^{0} 0 \\mathrm{d} \\mathrm{y}+\\int_{0}^{1} \\mathrm{ydy}=\\left.\\left(\\frac{1}{2} \\mathrm{y}^{2}\\right)\\right|_{0} ^{1}=\\frac{1}{2}\n",
    "$$\n",
    "\n",
    "Along the path $\\mathrm{C}_{2},$ on the other hand, having $\\mathrm{y}=\\mathrm{x}$ from $\\mathrm{A}$ to $\\mathrm{B},$ and $\\mathrm{so}$ $h(x, y)=x^{2}$ [or, equivalently,  $y^{2}$]. So, on this path the line integrals are\n",
    "\n",
    "$$\n",
    "\\mathrm{I}_{\\mathrm{x}}=\\int_{\\mathrm{C}_{2}} \\mathrm{h}(\\mathrm{x}, \\mathrm{y}) \\mathrm{d} \\mathrm{x}=\\int_{0}^{1} \\mathrm{x}^{2} \\mathrm{dx}=\\left.\\left(\\frac{1}{3} \\mathrm{x}^{3}\\right)\\right|_{0} ^{1}=\\frac{1}{3}\n",
    "$$\n",
    "\n",
    "and\n",
    "\n",
    "$$\n",
    "\\mathrm{I}_{\\mathrm{y}}=\\int_{\\mathrm{C}_{2}} \\mathrm{h}(\\mathrm{x}, \\mathrm{y}) \\mathrm{d} \\mathrm{y}=\\int_{0}^{1} \\mathrm{y}^{2} \\mathrm{d} \\mathrm{y}=\\left.\\left(\\frac{1}{3} \\mathrm{y}^{3}\\right)\\right|_{0} ^{1}=\\frac{1}{3}\n",
    "$$\n",
    "\n",
    "Clearly, the values of the $I_{x}, I_{y}$ line integrals are path-dependent and, for a given path, the $I_{x}, I_{y}$ line integrals may or may not be equal. It can combined the $I_{x}$ and $I_{y}$ line integrals to write the line integral along $\\mathrm{C}$ as $\\mathrm{I}_{\\mathrm{C}}=\\mathrm{I}_{\\mathrm{x}}+i \\mathrm{I}_{\\mathrm{y}},$ and so $\\mathrm{I}_{\\mathrm{C}_{1}}=i_{2}^{\\mathrm{l}}$ while\n",
    "\n",
    "$$\n",
    "\\mathrm{I}_{\\mathrm{C}_{2}}=\\frac{1}{3}+i \\frac{1}{3}\n",
    "$$\n",
    "\n",
    "Notice that in Fig.2 it could be written the unbroken line segment $\\mathrm{AB}$ as $\\mathrm{z}=\\mathrm{x}+$ iy or, as $\\mathrm{y}=\\mathrm{x}, \\mathrm{z}=\\mathrm{x}+i \\mathrm{x}=\\mathrm{x}(1+i)$ and so\n",
    "$\\mathrm{dz}=(1+i) \\mathrm{dx}$. Then, as $\\mathrm{h}(\\mathrm{x}, \\mathrm{y})=\\mathrm{h}(\\mathrm{x}, \\mathrm{x})=\\mathrm{x}^{2},$ it gets\n",
    "\n",
    "$$\n",
    "\\mathrm{I}_{\\mathrm{C}_{2}}=\\int_{0}^{1} \\mathrm{x}^{2}(1+i) \\mathrm{d} \\mathrm{x}=\\left.(1+i)\\left(\\frac{1}{3} \\mathrm{x}^{3}\\right)\\right|_{0} ^{1}=\\frac{1}{3}+i \\frac{1}{3}\n",
    "$$\n",
    "\n",
    "which is just as it has been calculated before. For now, it is put aside these considerations and turn to expanding this note's discussion from functions of a real variable to functions of a complex variable. Soon, however, It is going to be seen how this expanded view of functions will 'circle back' how appropriate!-to closed contour line integrals, and what it has been done in this section will prove to be most useful."
   ]
  },
  {
   "cell_type": "markdown",
   "metadata": {},
   "source": [
    "## 3. Functions of a Complex Variable"
   ]
  },
  {
   "cell_type": "markdown",
   "metadata": {},
   "source": [
    "## 4. The Cauchy-Riemann Equations and Analytic Functions"
   ]
  },
  {
   "cell_type": "markdown",
   "metadata": {},
   "source": [
    "## 5. Green’s Integral Theorem"
   ]
  },
  {
   "cell_type": "markdown",
   "metadata": {},
   "source": [
    "## 6. Cauchy’s First Integral Theorem"
   ]
  },
  {
   "cell_type": "markdown",
   "metadata": {},
   "source": [
    "## 7. Cauchy’s Second Integral Theorem"
   ]
  },
  {
   "cell_type": "markdown",
   "metadata": {},
   "source": [
    "## 8. Singularities and the Residue Theorem"
   ]
  },
  {
   "cell_type": "markdown",
   "metadata": {},
   "source": [
    "## 9. Integrals with Multi-valued Integrands"
   ]
  },
  {
   "cell_type": "markdown",
   "metadata": {},
   "source": [
    "## 10. Challenge Problems"
   ]
  }
 ],
 "metadata": {
  "kernelspec": {
   "display_name": "Python 3",
   "language": "python",
   "name": "python3"
  },
  "language_info": {
   "codemirror_mode": {
    "name": "ipython",
    "version": 3
   },
   "file_extension": ".py",
   "mimetype": "text/x-python",
   "name": "python",
   "nbconvert_exporter": "python",
   "pygments_lexer": "ipython3",
   "version": "3.7.6"
  }
 },
 "nbformat": 4,
 "nbformat_minor": 2
}
