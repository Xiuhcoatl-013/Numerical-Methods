{
 "cells": [
  {
   "cell_type": "markdown",
   "metadata": {},
   "source": [
    "# What is the Karplus-Strong Algorithm? "
   ]
  },
  {
   "cell_type": "markdown",
   "metadata": {},
   "source": [
    "The [Karplus-Strong algorithm](https://en.wikipedia.org/wiki/Karplus%E2%80%93Strong_string_synthesis), named after its two creators, was originally published in 1983 as the following [paper](https://github.com/Xiuhcoatl-013/Numerical-Methods/blob/master/karplus_strong_algorithm/references/Digital%20Synthesis%20of%20Plucked-String%20and%20Drum%20Timbres%20-%20K.%20Karplus%2C%20A.%20Strong%20%5Bpaper%5D.pdf):\n",
    "\n",
    "> Karplus, Kevin, and Alex Strong. “Digital Synthesis of Plucked-String and Drum Timbres.” Computer Music Journal 7, no. 2 (1983): 43–55.\n",
    "\n",
    "As the paper states, it is a simplified digital instrument that allows one to control pitch, amplitude and decay time. What is so interesting about the algorithm is that it yields realistic sounds even though it is very simple.\n",
    "\n",
    "How does the algorithm work?\n",
    "\n",
    "To answer that question, let's first briefly go over how wavetable synthesis works."
   ]
  },
  {
   "cell_type": "markdown",
   "metadata": {},
   "source": [
    "# Wavetable Synthesis "
   ]
  },
  {
   "cell_type": "markdown",
   "metadata": {},
   "source": [
    "Wavetable synthesis was invented in the 1970's. It is based on the following idea: suppose you have an array of points describing a wave."
   ]
  },
  {
   "cell_type": "code",
   "execution_count": 1,
   "metadata": {},
   "outputs": [],
   "source": [
    "%matplotlib inline\n",
    "import matplotlib.pyplot as plt\n",
    "import numpy as np"
   ]
  },
  {
   "cell_type": "code",
   "execution_count": 2,
   "metadata": {},
   "outputs": [],
   "source": [
    "t = np.linspace(0, 1, num=100)\n",
    "wavetable = np.sin(np.sin(2 * np.pi * t))"
   ]
  },
  {
   "cell_type": "code",
   "execution_count": 3,
   "metadata": {},
   "outputs": [
    {
     "data": {
      "text/plain": [
       "[<matplotlib.lines.Line2D at 0x1a5ffa303c8>]"
      ]
     },
     "execution_count": 3,
     "metadata": {},
     "output_type": "execute_result"
    },
    {
     "data": {
      "image/png": "[encoded data removed]",
      "text/plain": [
       "<Figure size 432x288 with 1 Axes>"
      ]
     },
     "metadata": {
      "needs_background": "light"
     },
     "output_type": "display_data"
    }
   ],
   "source": [
    "plt.plot(t, wavetable, '-o')"
   ]
  },
  {
   "cell_type": "markdown",
   "metadata": {},
   "source": [
    "What happens if it is imagine a pointer going through our wavetable at different speeds and picking the closest point it finds to generate a new waveform with it?"
   ]
  },
  {
   "cell_type": "code",
   "execution_count": 4,
   "metadata": {},
   "outputs": [
    {
     "ename": "ModuleNotFoundError",
     "evalue": "No module named 'moviepy'",
     "output_type": "error",
     "traceback": [
      "\u001b[1;31m---------------------------------------------------------------------------\u001b[0m",
      "\u001b[1;31mModuleNotFoundError\u001b[0m                       Traceback (most recent call last)",
      "\u001b[1;32m<ipython-input-4-a8932665af58>\u001b[0m in \u001b[0;36m<module>\u001b[1;34m\u001b[0m\n\u001b[1;32m----> 1\u001b[1;33m \u001b[1;32mfrom\u001b[0m \u001b[0mmoviepy\u001b[0m\u001b[1;33m.\u001b[0m\u001b[0meditor\u001b[0m \u001b[1;32mimport\u001b[0m \u001b[0mVideoClip\u001b[0m\u001b[1;33m\u001b[0m\u001b[1;33m\u001b[0m\u001b[0m\n\u001b[0m\u001b[0;32m      2\u001b[0m \u001b[1;32mfrom\u001b[0m \u001b[0mmoviepy\u001b[0m\u001b[1;33m.\u001b[0m\u001b[0mvideo\u001b[0m\u001b[1;33m.\u001b[0m\u001b[0mio\u001b[0m\u001b[1;33m.\u001b[0m\u001b[0mbindings\u001b[0m \u001b[1;32mimport\u001b[0m \u001b[0mmplfig_to_npimage\u001b[0m\u001b[1;33m\u001b[0m\u001b[1;33m\u001b[0m\u001b[0m\n\u001b[0;32m      3\u001b[0m \u001b[1;33m\u001b[0m\u001b[0m\n\u001b[0;32m      4\u001b[0m \u001b[0mduration\u001b[0m \u001b[1;33m=\u001b[0m \u001b[1;36m2\u001b[0m\u001b[1;33m\u001b[0m\u001b[1;33m\u001b[0m\u001b[0m\n\u001b[0;32m      5\u001b[0m \u001b[1;33m\u001b[0m\u001b[0m\n",
      "\u001b[1;31mModuleNotFoundError\u001b[0m: No module named 'moviepy'"
     ]
    }
   ],
   "source": [
    "from moviepy.editor import VideoClip\n",
    "from moviepy.video.io.bindings import mplfig_to_npimage\n",
    "\n",
    "duration = 2\n",
    "\n",
    "pointer1 = 1\n",
    "pointer2 = 2\n",
    "points1 = []\n",
    "points2 = []\n",
    "fig, axes = plt.subplots(2, 1)\n",
    "def make_frame(time):\n",
    "    ax = axes[0]\n",
    "    ax.clear()\n",
    "    ax.plot(t, wavetable)\n",
    "    ax.vlines(pointer1 * time / duration, -1, 1, color='red', label='slow pointer')\n",
    "    ax.vlines(pointer2 * time / duration % 1, -1, 1, color='blue', label='fast pointer')\n",
    "    for pointer, color, points in zip([pointer1, pointer2], ['red', 'blue'], [points1, points2]):\n",
    "        arg = np.argmin(np.abs(t - (pointer * time / duration % 1)))\n",
    "        ax.plot(t[arg], wavetable[arg], 'o', color=color)\n",
    "        points.append(wavetable[arg])\n",
    "    ax.set_xlim(0, 1)\n",
    "    ax.legend(loc='lower left')\n",
    "    \n",
    "    ax2 = axes[1]\n",
    "    ax2.clear()\n",
    "    ax2.plot(points1, '-or')\n",
    "    ax2.plot(points2, '-ob')\n",
    "    ax2.set_xlim(0, 41)\n",
    "    ax2.set_ylim(-1, 1)\n",
    "    return mplfig_to_npimage(fig)\n",
    "\n",
    "animation = VideoClip(make_frame, duration=duration)\n",
    "plt.close(fig)\n",
    "animation.ipython_display(fps=20, loop=True, autoplay=True)"
   ]
  },
  {
   "cell_type": "markdown",
   "metadata": {},
   "source": [
    "As it can bee seen from the above diagram, the fast pointer goes trough the waveform twice as fast as the original pointer. However, as it reaches the end of the wave, it starts over at the beginning. Using this method, then new waveforms could be easily derived from the original wavetable by looping over the wavetable and going back to the beginning when the end of the wavetable is reached. Fun fact, this is how low end electronical devices use to generates sounds.\n",
    "\n",
    "Let's write a function that implements the wavetable synthesis principle."
   ]
  },
  {
   "cell_type": "code",
   "execution_count": null,
   "metadata": {},
   "outputs": [],
   "source": [
    "def synthesize(sampling_speed, wavetable, n_samples):\n",
    "    \"\"\"Synthesizes a new waveform from an existing wavetable.\"\"\"\n",
    "    samples = []\n",
    "    current_sample = 0\n",
    "    while len(samples) < n_samples:\n",
    "        current_sample += sampling_speed\n",
    "        current_sample = current_sample % wavetable.size\n",
    "        samples.append(wavetable[current_sample])\n",
    "        current_sample += 1\n",
    "    return np.array(samples)"
   ]
  },
  {
   "cell_type": "markdown",
   "metadata": {},
   "source": [
    "Let's see what the outputs look like."
   ]
  },
  {
   "cell_type": "code",
   "execution_count": null,
   "metadata": {},
   "outputs": [],
   "source": [
    "sample1 = synthesize(1, wavetable, 300)\n",
    "sample2 = synthesize(2, wavetable, 300)"
   ]
  },
  {
   "cell_type": "code",
   "execution_count": null,
   "metadata": {},
   "outputs": [],
   "source": [
    "plt.plot(sample1)\n",
    "plt.plot(sample2)\n",
    "plt.xlabel('sample number')"
   ]
  },
  {
   "cell_type": "markdown",
   "metadata": {},
   "source": [
    "What is seen, is that the waveforms look quite similar except for the fact that one has a higher frequency than the other."
   ]
  },
  {
   "cell_type": "markdown",
   "metadata": {},
   "source": [
    "Let's generate some sounds at interesting frequencies. First generate a new wavetable designed for a sampling rate of $f_s$ = 8000 Hz."
   ]
  },
  {
   "cell_type": "code",
   "execution_count": null,
   "metadata": {},
   "outputs": [],
   "source": [
    "fs = 8000"
   ]
  },
  {
   "cell_type": "code",
   "execution_count": null,
   "metadata": {},
   "outputs": [],
   "source": [
    "t = np.linspace(0, 1, num=fs)\n",
    "wavetable = np.sin(np.sin(2 * np.pi * t))"
   ]
  },
  {
   "cell_type": "code",
   "execution_count": null,
   "metadata": {},
   "outputs": [],
   "source": [
    "plt.plot(t, wavetable, '-o')"
   ]
  },
  {
   "cell_type": "markdown",
   "metadata": {},
   "source": [
    "Now, let's generate a sinusoid at 220 Hz and one at 440 Hz."
   ]
  },
  {
   "cell_type": "code",
   "execution_count": null,
   "metadata": {},
   "outputs": [],
   "source": [
    "sample1 = synthesize(220, wavetable, 2 * fs)\n",
    "sample2 = synthesize(440, wavetable, 2 * fs)"
   ]
  },
  {
   "cell_type": "markdown",
   "metadata": {},
   "source": [
    "them can be played for lisen it, by using the IPython rich output:"
   ]
  },
  {
   "cell_type": "code",
   "execution_count": null,
   "metadata": {},
   "outputs": [],
   "source": [
    "from IPython.display import Audio"
   ]
  },
  {
   "cell_type": "code",
   "execution_count": null,
   "metadata": {},
   "outputs": [],
   "source": [
    "Audio(sample1, rate=fs)"
   ]
  },
  {
   "cell_type": "code",
   "execution_count": null,
   "metadata": {},
   "outputs": [],
   "source": [
    "Audio(sample2, rate=fs)"
   ]
  },
  {
   "cell_type": "markdown",
   "metadata": {},
   "source": [
    "Indeed the sampling scheme works, `sample2` has a higher frequency than `sample1`."
   ]
  },
  {
   "cell_type": "markdown",
   "metadata": {},
   "source": [
    "One of the strenghts of this type of wavetable synthesis is that you can easily move to more complex sounds, with harmonics and still use the same model. For instance, we can use a triangle shape:"
   ]
  },
  {
   "cell_type": "code",
   "execution_count": null,
   "metadata": {},
   "outputs": [],
   "source": [
    "wavetable = t * (t < 0.5) + (-(t - 1)) * (t>= 0.5)"
   ]
  },
  {
   "cell_type": "code",
   "execution_count": null,
   "metadata": {},
   "outputs": [],
   "source": [
    "plt.plot(t, wavetable, '-o')"
   ]
  },
  {
   "cell_type": "markdown",
   "metadata": {},
   "source": [
    "Again, let's sample two sounds:"
   ]
  },
  {
   "cell_type": "code",
   "execution_count": null,
   "metadata": {},
   "outputs": [],
   "source": [
    "sample1 = synthesize(220, wavetable, 2 * fs)\n",
    "sample2 = synthesize(440, wavetable, 2 * fs)"
   ]
  },
  {
   "cell_type": "code",
   "execution_count": null,
   "metadata": {},
   "outputs": [],
   "source": [
    "Audio(sample1, rate=fs)"
   ]
  },
  {
   "cell_type": "code",
   "execution_count": null,
   "metadata": {},
   "outputs": [],
   "source": [
    "Audio(sample2, rate=fs)"
   ]
  },
  {
   "cell_type": "markdown",
   "metadata": {},
   "source": [
    "Or, a more complex sine based wavetable."
   ]
  },
  {
   "cell_type": "code",
   "execution_count": null,
   "metadata": {},
   "outputs": [],
   "source": [
    "def make_sine_wavetable(n_samples, amps, phases, freqs):\n",
    "    \"\"\"Makes a wavetable from a sum of sines.\"\"\"\n",
    "    t = np.linspace(0, 1, num=n_samples)\n",
    "    wavetable = np.zeros_like(t)\n",
    "    for amp, phase, freq in zip(amps, \n",
    "                                phases,\n",
    "                                freqs):\n",
    "        wavetable += amp * np.sin(np.sin(2 * np.pi * freq * t + phase)) + \\\n",
    "                         amp / 2 * np.sin(np.sin(2 * np.pi * 2 * freq * t + phase))\n",
    "    return wavetable"
   ]
  },
  {
   "cell_type": "code",
   "execution_count": null,
   "metadata": {},
   "outputs": [],
   "source": [
    "wavetable = make_sine_wavetable(t.size, [0.1, 0.5, 0.8, 0.3], \n",
    "                            [0, 0.3, 0.4, 0.7],\n",
    "                            [1, 2.1, 3, 4.3])"
   ]
  },
  {
   "cell_type": "code",
   "execution_count": null,
   "metadata": {},
   "outputs": [],
   "source": [
    "plt.plot(t, wavetable, '-o')"
   ]
  },
  {
   "cell_type": "code",
   "execution_count": null,
   "metadata": {},
   "outputs": [],
   "source": [
    "sample1 = synthesize(220, wavetable, 2 * fs)\n",
    "sample2 = synthesize(440, wavetable, 2 * fs)"
   ]
  },
  {
   "cell_type": "code",
   "execution_count": null,
   "metadata": {},
   "outputs": [],
   "source": [
    "Audio(sample1, rate=fs)"
   ]
  },
  {
   "cell_type": "code",
   "execution_count": null,
   "metadata": {},
   "outputs": [],
   "source": [
    "Audio(sample2, rate=fs)"
   ]
  },
  {
   "cell_type": "markdown",
   "metadata": {},
   "source": [
    "Now of course this does not sound like a realistic instrument, for several reasons.\n",
    "\n",
    "- the wavetable has not the shape of a realistic instrument sound\n",
    "- there is no dynamic part in the generated sound like attack and decay "
   ]
  },
  {
   "cell_type": "markdown",
   "metadata": {},
   "source": [
    "Indeed, if we wanted to, we could use more complex wavetables like this one:\n",
    "\n",
    "<br><br/>\n",
    "<p align=\"center\"><img src=\"images/wavetable-synthesis.gif\" style=\"width:90%\"></p>\n",
    "<center> Fig. 2$\\quad$ Wavetable Synthesis.gif. </center>\n",
    "<br><br/>\n",
    "<br><br/>\n",
    "\n",
    "And we could also add some an [ADSR envelope](https://en.wikipedia.org/wiki/Synthesizer#Attack_Decay_Sustain_Release_.28ADSR.29_envelope) (attack, delay, sustain, release) to the waveform.\n",
    "\n",
    "\n",
    "However, let's skip this for a moment and move on to the Karplus-Strong algorithm instead."
   ]
  },
  {
   "cell_type": "markdown",
   "metadata": {},
   "source": [
    "# Changing The Wavetable: The Karplus-Strong Algorithm "
   ]
  },
  {
   "cell_type": "markdown",
   "metadata": {},
   "source": [
    "As explained in the original article:\n",
    "\n",
    "> The wavetable-synthesis technique is very simple but rather dull musically, since it produces purely periodic tones. Traditional musical instruments produce sounds that vary with time. This variation can be achieved in many ways on computers. The approach in FM synthesis, additive synthesis, subtractive synthesis, and waveshaping is to do further processing of the samples after taking them from the wavetable. All the algorithms described in this paper produce the variation in sound by modifying the wavetable itself. \n",
    "\n",
    "In the paper's notation:\n",
    "\n",
    "$$\n",
    "Y_t = \\frac{1}{2} (Y_{t-p} + Y_{t-p-1})\n",
    "$$\n",
    "\n",
    "So, let's modify the wavetable during sampling! The first modification proposed is quite simply to average the last two values in the table. \n",
    "\n",
    "Contrary to the wavetable synthesis shown above, it wasn't keept sampling the wavetable at different speeds here. Thus, the length of the wavetable already determines the main frequency of the sound."
   ]
  },
  {
   "cell_type": "code",
   "execution_count": null,
   "metadata": {},
   "outputs": [],
   "source": [
    "def karplus_strong(wavetable, n_samples):\n",
    "    \"\"\"Synthesizes a new waveform from an existing wavetable, modifies last sample by averaging.\"\"\"\n",
    "    samples = []\n",
    "    current_sample = 0\n",
    "    previous_value = 0\n",
    "    while len(samples) < n_samples:\n",
    "        wavetable[current_sample] = 0.5 * (wavetable[current_sample] + previous_value)\n",
    "        samples.append(wavetable[current_sample])\n",
    "        previous_value = samples[-1]\n",
    "        current_sample += 1\n",
    "        current_sample = current_sample % wavetable.size\n",
    "    return np.array(samples)"
   ]
  },
  {
   "cell_type": "markdown",
   "metadata": {},
   "source": [
    "Let's try this. The authors recommend to use a wavetable made using a random signal containing either 1s or -1s."
   ]
  },
  {
   "cell_type": "code",
   "execution_count": null,
   "metadata": {},
   "outputs": [],
   "source": [
    "wavetable_size = fs // 55 \n",
    "\n",
    "wavetable = (2 * np.random.randint(0, 2, wavetable_size) - 1).astype(np.float)"
   ]
  },
  {
   "cell_type": "code",
   "execution_count": null,
   "metadata": {},
   "outputs": [],
   "source": [
    "plt.plot(wavetable)"
   ]
  },
  {
   "cell_type": "markdown",
   "metadata": {},
   "source": [
    "Now, let's synthesize a sound and look at it."
   ]
  },
  {
   "cell_type": "code",
   "execution_count": null,
   "metadata": {},
   "outputs": [],
   "source": [
    "sample1 = karplus_strong(wavetable, 2 * fs)"
   ]
  },
  {
   "cell_type": "code",
   "execution_count": null,
   "metadata": {},
   "outputs": [],
   "source": [
    "Audio(sample1, rate=fs)"
   ]
  },
  {
   "cell_type": "code",
   "execution_count": null,
   "metadata": {},
   "outputs": [],
   "source": [
    "plt.subplot(211)\n",
    "plt.plot(sample1)\n",
    "plt.subplot(212)\n",
    "plt.plot(sample1)\n",
    "plt.xlim(0, 1000)"
   ]
  },
  {
   "cell_type": "markdown",
   "metadata": {},
   "source": [
    "Let's do this for a higher frequency:"
   ]
  },
  {
   "cell_type": "code",
   "execution_count": null,
   "metadata": {},
   "outputs": [],
   "source": [
    "wavetable_size = fs // 110 \n",
    "\n",
    "wavetable = (2 * np.random.randint(0, 2, wavetable_size) - 1).astype(np.float)"
   ]
  },
  {
   "cell_type": "code",
   "execution_count": null,
   "metadata": {},
   "outputs": [],
   "source": [
    "sample2 = karplus_strong(wavetable, 2 * fs)"
   ]
  },
  {
   "cell_type": "code",
   "execution_count": null,
   "metadata": {},
   "outputs": [],
   "source": [
    "Audio(sample2, rate=fs)"
   ]
  },
  {
   "cell_type": "code",
   "execution_count": null,
   "metadata": {},
   "outputs": [],
   "source": [
    "sample2 = karplus_strong(wavetable, 2 * fs)"
   ]
  },
  {
   "cell_type": "code",
   "execution_count": null,
   "metadata": {},
   "outputs": [],
   "source": [
    "plt.subplot(211)\n",
    "plt.plot(sample2)\n",
    "plt.subplot(212)\n",
    "plt.plot(sample2)\n",
    "plt.xlim(0, 1000)"
   ]
  },
  {
   "cell_type": "markdown",
   "metadata": {},
   "source": [
    "Interestingly, this gives very nice physical sounds, as explained in the paper. Also, as can be seen from the waveforms, the initial randomness dies out very quickly, so that we don't really hear it in the synthesized sound.\n",
    "\n",
    "Let's make some more sounds with this. By playing an A chromatic scale starting at 55 Hz."
   ]
  },
  {
   "cell_type": "code",
   "execution_count": null,
   "metadata": {},
   "outputs": [],
   "source": [
    "from IPython.display import display"
   ]
  },
  {
   "cell_type": "code",
   "execution_count": null,
   "metadata": {},
   "outputs": [],
   "source": [
    "freqs = np.logspace(0, 1, num=13, base=2) * 55"
   ]
  },
  {
   "cell_type": "code",
   "execution_count": null,
   "metadata": {},
   "outputs": [],
   "source": [
    "for freq in freqs:\n",
    "    wavetable_size = fs // int(freq)\n",
    "    wavetable = (2 * np.random.randint(0, 2, wavetable_size) - 1).astype(np.float)\n",
    "    sample = karplus_strong(wavetable, 1 * fs)\n",
    "    display(Audio(sample, rate=fs))"
   ]
  },
  {
   "cell_type": "markdown",
   "metadata": {},
   "source": [
    "Indeed, the sounds are pretty cool!"
   ]
  },
  {
   "cell_type": "markdown",
   "metadata": {},
   "source": [
    "Let's plot the waveforms as well as the spectrograms of these sounds to better understand what is happening."
   ]
  },
  {
   "cell_type": "code",
   "execution_count": null,
   "metadata": {},
   "outputs": [],
   "source": [
    "waveforms = []\n",
    "for ind, freq in enumerate(freqs):\n",
    "    wavetable_size = fs // int(freq)\n",
    "    wavetable = (2 * np.random.randint(0, 2, wavetable_size) - 1).astype(np.float)\n",
    "    sample = karplus_strong(wavetable, 2 * fs)\n",
    "    waveforms.append(sample)"
   ]
  },
  {
   "cell_type": "code",
   "execution_count": null,
   "metadata": {},
   "outputs": [],
   "source": [
    "plt.figure(figsize=(10, 7))\n",
    "for ind, (waveform, freq) in enumerate(zip(waveforms, freqs[:-1])):\n",
    "    plt.plot(waveform - ind, label='{:.2f} Hz'.format(freq))\n",
    "plt.legend(loc='upper right')\n",
    "plt.title('full waveforms')\n",
    "\n",
    "a = plt.axes([.5, .1, .4, .4], facecolor='white')\n",
    "plt.yticks([])\n",
    "for ind, (waveform, freq) in enumerate(zip(waveforms, freqs)):\n",
    "    plt.plot(waveform - ind, label='{:.2f} Hz'.format(freq))\n",
    "plt.xlim(0, 1500)\n",
    "plt.title('first samples')\n",
    "plt.tight_layout()"
   ]
  },
  {
   "cell_type": "code",
   "execution_count": null,
   "metadata": {},
   "outputs": [],
   "source": [
    "plt.figure(figsize=(10, 10))\n",
    "for ind, (waveform, freq) in enumerate(zip(waveforms, freqs[:-1])):\n",
    "    plt.subplot(3, 4, ind+1)\n",
    "    plt.specgram(waveform, Fs=fs, NFFT=4096, noverlap=3500, cmap='Reds')\n",
    "    plt.title('{:.2f} Hz'.format(freq))\n",
    "plt.tight_layout()"
   ]
  },
  {
   "cell_type": "markdown",
   "metadata": {},
   "source": [
    "Several things could be said about the above plots, which are all described in the original paper:\n",
    "\n",
    "- The algorithm introduces decay, as seen in the time domain plots\n",
    "- However that decay depends on frequency, as seen in the spectrograms where it is shown that the higher frequencies die out much more quickly than the low frequencies - this effect is also very well heard in the synthesized sounds\n",
    "- The sounds are realistic in the sense that they do sound like plucked strings"
   ]
  },
  {
   "cell_type": "markdown",
   "metadata": {},
   "source": [
    "# The Drum Algorithm"
   ]
  },
  {
   "cell_type": "markdown",
   "metadata": {},
   "source": [
    "The original paper describes a very cool variant of the algorithm called the drum algorithm. It involves using a random number to decide whether to change the sign of the new sample.\n",
    "\n",
    "$$\n",
    "Y_t = \n",
    "\\left \\{\n",
    "\\begin{array}\n",
    "+ \\frac{1}{2} (Y_{t-p} + Y_{t-p-1}) && \\text{probability }b \\\\ \n",
    "- \\frac{1}{2} (Y_{t-p} + Y_{t-p-1}) && \\text{probability }1-b \\\\ \n",
    "\\end{array}\n",
    "\\right.\n",
    "$$"
   ]
  },
  {
   "cell_type": "code",
   "execution_count": null,
   "metadata": {},
   "outputs": [],
   "source": [
    "def karplus_strong_drum(wavetable, n_samples, prob):\n",
    "    \"\"\"Synthesizes a new waveform from an existing wavetable, modifies last sample by averaging.\"\"\"\n",
    "    samples = []\n",
    "    current_sample = 0\n",
    "    previous_value = 0\n",
    "    while len(samples) < n_samples:\n",
    "        r = np.random.binomial(1, prob)\n",
    "        sign = float(r == 1) * 2 - 1\n",
    "        wavetable[current_sample] = sign * 0.5 * (wavetable[current_sample] + previous_value)\n",
    "        samples.append(wavetable[current_sample])\n",
    "        previous_value = samples[-1]\n",
    "        current_sample += 1\n",
    "        current_sample = current_sample % wavetable.size\n",
    "    return np.array(samples)"
   ]
  },
  {
   "cell_type": "markdown",
   "metadata": {},
   "source": [
    "Let's test this. This time, the recommend wavetable is full of ones."
   ]
  },
  {
   "cell_type": "code",
   "execution_count": null,
   "metadata": {},
   "outputs": [],
   "source": [
    "wavetable_size = fs // 40 \n",
    "wavetable = np.ones(wavetable_size)"
   ]
  },
  {
   "cell_type": "code",
   "execution_count": null,
   "metadata": {},
   "outputs": [],
   "source": [
    "plt.plot(wavetable)"
   ]
  },
  {
   "cell_type": "markdown",
   "metadata": {},
   "source": [
    "Now, let's synthesize a sound and look at it."
   ]
  },
  {
   "cell_type": "code",
   "execution_count": null,
   "metadata": {},
   "outputs": [],
   "source": [
    "sample1 = karplus_strong_drum(wavetable, 1 * fs, 0.3)"
   ]
  },
  {
   "cell_type": "code",
   "execution_count": null,
   "metadata": {},
   "outputs": [],
   "source": [
    "Audio(sample1, rate=fs)"
   ]
  },
  {
   "cell_type": "code",
   "execution_count": null,
   "metadata": {},
   "outputs": [],
   "source": [
    "plt.subplot(211)\n",
    "plt.plot(sample1)\n",
    "plt.subplot(212)\n",
    "plt.plot(sample1)\n",
    "plt.xlim(0, 1000)"
   ]
  },
  {
   "cell_type": "markdown",
   "metadata": {},
   "source": [
    "This is very interesting, indeed the result sounds like a drum. Let's do a parametric study of this using different values of $b$."
   ]
  },
  {
   "cell_type": "code",
   "execution_count": null,
   "metadata": {},
   "outputs": [],
   "source": [
    "bs = np.arange(0, 1.1, 0.1)"
   ]
  },
  {
   "cell_type": "code",
   "execution_count": null,
   "metadata": {},
   "outputs": [],
   "source": [
    "for b in bs:\n",
    "    wavetable = np.ones(wavetable_size)\n",
    "    sample = karplus_strong_drum(wavetable, 1 * fs, b)\n",
    "    display(Audio(sample, rate=fs))"
   ]
  },
  {
   "cell_type": "markdown",
   "metadata": {},
   "source": [
    "Again, the findings by the paper could be replicated:\n",
    "\n",
    "- A value of $b = 0$ shows a behaviour of its own\n",
    "- Intermediate values of $b$ around 0.5 sound like drums\n",
    "- $b=1$ recovers a plucked string sound"
   ]
  },
  {
   "cell_type": "markdown",
   "metadata": {},
   "source": [
    "Let's explore some more values of $b=0$, with different pitches. A variety of sounds could be observed."
   ]
  },
  {
   "cell_type": "code",
   "execution_count": null,
   "metadata": {},
   "outputs": [],
   "source": [
    "fs = 20000\n",
    "for freq in [20, 55, 110, 220, 440, 880, 1288]:\n",
    "    wavetable_size = fs // freq \n",
    "    wavetable = np.ones(wavetable_size)\n",
    "    sample = karplus_strong_drum(wavetable, 2 * fs, 0)\n",
    "    display(Audio(sample, rate=fs))"
   ]
  },
  {
   "cell_type": "markdown",
   "metadata": {},
   "source": [
    "# Modifying the Algorithm for Longer Delays "
   ]
  },
  {
   "cell_type": "markdown",
   "metadata": {},
   "source": [
    "A last modification is obtained to get longer delays."
   ]
  },
  {
   "cell_type": "code",
   "execution_count": null,
   "metadata": {},
   "outputs": [],
   "source": [
    "def karplus_strong_decay(wavetable, n_samples, stretch_factor):\n",
    "    \"\"\"Synthesizes a new waveform from an existing wavetable, modifies last sample by averaging.\n",
    "    Uses a stretch_factor to control for decay.\"\"\"\n",
    "    samples = []\n",
    "    current_sample = 0\n",
    "    previous_value = 0\n",
    "    while len(samples) < n_samples:\n",
    "        r = np.random.binomial(1, 1 - 1/stretch_factor)\n",
    "        if r == 0:\n",
    "            wavetable[current_sample] =  0.5 * (wavetable[current_sample] + previous_value)\n",
    "        samples.append(wavetable[current_sample])\n",
    "        previous_value = samples[-1]\n",
    "        current_sample += 1\n",
    "        current_sample = current_sample % wavetable.size\n",
    "    return np.array(samples)"
   ]
  },
  {
   "cell_type": "markdown",
   "metadata": {},
   "source": [
    "What the stretch_factor does is to keep the initial waveform longer unmodified."
   ]
  },
  {
   "cell_type": "code",
   "execution_count": null,
   "metadata": {},
   "outputs": [],
   "source": [
    "fs = 8000"
   ]
  },
  {
   "cell_type": "code",
   "execution_count": null,
   "metadata": {},
   "outputs": [],
   "source": [
    "stretch_factors = [1, 2.1, 3.5, 4, 8]"
   ]
  },
  {
   "cell_type": "code",
   "execution_count": null,
   "metadata": {},
   "outputs": [],
   "source": [
    "freq = 220"
   ]
  },
  {
   "cell_type": "code",
   "execution_count": null,
   "metadata": {},
   "outputs": [],
   "source": [
    "waveforms = []\n",
    "for ind, stretch_factor in enumerate(stretch_factors):\n",
    "    wavetable_size = fs // int(freq)\n",
    "    wavetable = (2 * np.random.randint(0, 2, wavetable_size) - 1).astype(np.float)\n",
    "    sample = karplus_strong_decay(wavetable, 2 * fs, stretch_factor)\n",
    "    waveforms.append(sample)"
   ]
  },
  {
   "cell_type": "code",
   "execution_count": null,
   "metadata": {},
   "outputs": [],
   "source": [
    "for waveform in waveforms:\n",
    "    display(Audio(waveform, rate=fs))"
   ]
  },
  {
   "cell_type": "code",
   "execution_count": null,
   "metadata": {},
   "outputs": [],
   "source": [
    "plt.figure(figsize=(10, 7))\n",
    "for ind, (waveform, stretch_factor) in enumerate(zip(waveforms, stretch_factors)):\n",
    "    plt.plot(waveform - 2 * ind, label='{:.2f} stretch'.format(stretch_factor))\n",
    "plt.legend(loc='upper right')\n",
    "plt.title('full waveforms')\n",
    "\n",
    "a = plt.axes([.5, .1, .4, .4], facecolor='white')\n",
    "plt.yticks([])\n",
    "for ind, (waveform, stretch_factor) in enumerate(zip(waveforms, stretch_factors)):\n",
    "    plt.plot(waveform - 2 * ind, label='{:.2f} stretch'.format(stretch_factor))\n",
    "plt.xlim(0, 1500)\n",
    "plt.title('first samples')\n",
    "plt.tight_layout()"
   ]
  },
  {
   "cell_type": "markdown",
   "metadata": {},
   "source": [
    "What is seen in the previous plot is that indeed the stretch factor prevents the decay from being to rapid. Also it could be heared some sort of artifacts in the sounds, which is consistent with the paper explaining that the pitch of the sound is also affected by this algorithm."
   ]
  },
  {
   "cell_type": "markdown",
   "metadata": {},
   "source": [
    "The paper mentions that \n",
    "\n",
    "> If nonrandom wavetable loads are used with large values of S (long decays), woodwindlike sounds can be produced.\n",
    "\n",
    "Let's try to achieve just that."
   ]
  },
  {
   "cell_type": "code",
   "execution_count": null,
   "metadata": {},
   "outputs": [],
   "source": [
    "wavetable_size = fs // int(freq)\n",
    "wavetable = make_sine_wavetable(wavetable_size, [0.3, 0.5, 0.3], [0, 0.5, 0], [1, 3, 9])\n",
    "sample = karplus_strong_decay(wavetable, 5 * fs, stretch_factor=20)\n",
    "plt.subplot(211)\n",
    "plt.plot(sample)\n",
    "plt.subplot(212)\n",
    "plt.plot(sample)\n",
    "plt.xlim(0, 1000)\n",
    "\n",
    "Audio(sample, rate=fs)"
   ]
  },
  {
   "cell_type": "markdown",
   "metadata": {},
   "source": [
    "Too bad, even after experimenting, It was not possible to produce woodwindlike sounds at all!"
   ]
  },
  {
   "cell_type": "markdown",
   "metadata": {},
   "source": [
    "# Putting it all Together: A Virtual Guitar "
   ]
  },
  {
   "cell_type": "markdown",
   "metadata": {},
   "source": [
    "Since arrived here, why not put everything seen above together and create a virtual guitar? To do that, it is needed strings that can add a sample of their own to the overall waveform (a feedback closed loop for some resonance behaviour)."
   ]
  },
  {
   "cell_type": "code",
   "execution_count": null,
   "metadata": {},
   "outputs": [],
   "source": [
    "class GuitarString:\n",
    "    def __init__(self, pitch, starting_sample, sampling_freq, stretch_factor):\n",
    "        \"\"\"Inits the guitar string.\"\"\"\n",
    "        self.pitch = pitch\n",
    "        self.starting_sample = starting_sample\n",
    "        self.sampling_freq = sampling_freq\n",
    "        self.stretch_factor = stretch_factor\n",
    "        self.init_wavetable()\n",
    "        self.current_sample = 0\n",
    "        self.previous_value = 0\n",
    "        \n",
    "    def init_wavetable(self):\n",
    "        \"\"\"Generates a new wavetable for the string.\"\"\"\n",
    "        wavetable_size = self.sampling_freq // int(self.pitch)\n",
    "        self.wavetable = (2 * np.random.randint(0, 2, wavetable_size) - 1).astype(np.float)\n",
    "        \n",
    "    def get_sample(self):\n",
    "        \"\"\"Returns next sample from string.\"\"\"\n",
    "        if self.current_sample >= self.starting_sample:\n",
    "            current_sample_mod = self.current_sample % self.wavetable.size\n",
    "            r = np.random.binomial(1, 1 - 1/self.stretch_factor)\n",
    "            if r == 0:\n",
    "                self.wavetable[current_sample_mod] =  0.5 * (self.wavetable[current_sample_mod] + self.previous_value)\n",
    "            sample = self.wavetable[current_sample_mod]\n",
    "            self.previous_value = sample\n",
    "            self.current_sample += 1\n",
    "        else:\n",
    "            self.current_sample += 1\n",
    "            sample = 0\n",
    "        return sample"
   ]
  },
  {
   "cell_type": "markdown",
   "metadata": {},
   "source": [
    "Let's now initialize a set of strings that pluck a G major chord, up and down."
   ]
  },
  {
   "cell_type": "code",
   "execution_count": null,
   "metadata": {},
   "outputs": [],
   "source": [
    "freqs = [98, 123, 147, 196, 294, 392, 392, 294, 196, 147, 123, 98]\n",
    "unit_delay = fs//3\n",
    "delays = [unit_delay * _ for _ in range(len(freqs))]\n",
    "stretch_factors = [2 * f/98 for f in freqs]"
   ]
  },
  {
   "cell_type": "code",
   "execution_count": null,
   "metadata": {},
   "outputs": [],
   "source": [
    "strings = []\n",
    "for freq, delay, stretch_factor in zip(freqs, delays, stretch_factors):\n",
    "    string = GuitarString(freq, delay, fs, stretch_factor)\n",
    "    strings.append(string)"
   ]
  },
  {
   "cell_type": "markdown",
   "metadata": {},
   "source": [
    "Let's now synthesize a few seconds of this."
   ]
  },
  {
   "cell_type": "code",
   "execution_count": null,
   "metadata": {},
   "outputs": [],
   "source": [
    "guitar_sound = [sum(string.get_sample() for string in strings) for _ in range(fs * 6)]"
   ]
  },
  {
   "cell_type": "code",
   "execution_count": null,
   "metadata": {},
   "outputs": [],
   "source": [
    "plt.subplot(211)\n",
    "plt.plot(guitar_sound)\n",
    "plt.subplot(212)\n",
    "plt.plot(guitar_sound)\n",
    "plt.xlim(0, 1000)\n",
    "\n",
    "Audio(guitar_sound, rate=fs)"
   ]
  },
  {
   "cell_type": "markdown",
   "metadata": {},
   "source": [
    "Interesting! This almost sounds like a real guitar!"
   ]
  },
  {
   "cell_type": "markdown",
   "metadata": {},
   "source": [
    "Let's finish this with a demonstration of strumming. The difference with the plucking case is that all notes are played simultaneously."
   ]
  },
  {
   "cell_type": "code",
   "execution_count": null,
   "metadata": {},
   "outputs": [],
   "source": [
    "freqs = [98, 123, 147, 196, 294, 392]\n",
    "unit_delay = fs//50\n",
    "delays = [unit_delay * _ for _ in range(len(freqs))]\n",
    "stretch_factors = [2 * f/98 for f in freqs]"
   ]
  },
  {
   "cell_type": "code",
   "execution_count": null,
   "metadata": {},
   "outputs": [],
   "source": [
    "strings = []\n",
    "for freq, delay, stretch_factor in zip(freqs, delays, stretch_factors):\n",
    "    string = GuitarString(freq, delay, fs, stretch_factor)\n",
    "    strings.append(string)"
   ]
  },
  {
   "cell_type": "code",
   "execution_count": null,
   "metadata": {},
   "outputs": [],
   "source": [
    "guitar_sound = [sum(string.get_sample() for string in strings) for _ in range(fs * 6)]"
   ]
  },
  {
   "cell_type": "code",
   "execution_count": null,
   "metadata": {},
   "outputs": [],
   "source": [
    "plt.subplot(211)\n",
    "plt.plot(guitar_sound)\n",
    "plt.subplot(212)\n",
    "plt.plot(guitar_sound)\n",
    "plt.xlim(0, 2000)\n",
    "\n",
    "Audio(guitar_sound, rate=fs)"
   ]
  },
  {
   "cell_type": "markdown",
   "metadata": {},
   "source": [
    "Again, this works nicely. It sounds just like an almost real guitar."
   ]
  },
  {
   "cell_type": "markdown",
   "metadata": {},
   "source": [
    "# Conclusions\n",
    "\n",
    "Time for some conclusions. In this notes, some parts of the original Karplus-Strong paper were replicated. To do so, it was make a detour through wavetable synthesis, then implemented the original algorithm described in the paper, found that it indeed produces physically interesting sounds and then also implemented the drum algorithm as well as the sound stretch variation of the original algorithm. Finally, the model was manipulated by synthesizing both picked and strummed guitar sounds.\n",
    "\n",
    "It turns out that this exploration was not as complicated as someone would has expected. In particular, the original paper is quite clear about how to replicate these results. However, there are a lot of open directions from here:\n",
    "\n",
    "- The original paper describes the math behind the frequency dependent decay that is observed. Why is the decay stronger for higher frequency?\n",
    "- Subsequent studies related the algorithm to an approximate solution of the wave equation: what is the link between the two? Some answers could be founded in the [Digital Waveguides](https://github.com/Xiuhcoatl-013/Numerical-Methods/blob/master/digital_waveguides/digital_waveguides.ipynb) notes, to delve in the link between the digital waveguide model and the Karplus-Strong algorithm.\n",
    "- How does one deal with fractional frequencies in this algorithm? [also for future notes development]\n",
    "\n",
    "For a fully Karplus-Strong guitar implementation with many more options, in particular, a model that takes into account the shaoed body of the guitar, checkout this Javascript [demo](https://github.com/Xiuhcoatl-013/Numerical-Methods/blob/master/karplus_strong_algorithm/java_script/)."
   ]
  }
 ],
 "metadata": {
  "kernelspec": {
   "display_name": "Python 3",
   "language": "python",
   "name": "python3"
  },
  "language_info": {
   "codemirror_mode": {
    "name": "ipython",
    "version": 3
   },
   "file_extension": ".py",
   "mimetype": "text/x-python",
   "name": "python",
   "nbconvert_exporter": "python",
   "pygments_lexer": "ipython3",
   "version": "3.7.6"
  }
 },
 "nbformat": 4,
 "nbformat_minor": 1
}
