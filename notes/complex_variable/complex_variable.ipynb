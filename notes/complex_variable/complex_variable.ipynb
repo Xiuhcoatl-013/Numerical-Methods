{
 "cells": [
  {
   "cell_type": "markdown",
   "metadata": {},
   "source": [
    "# Complex Variable\n",
    "\n",
    "\n",
    "\"Ramanujan’s theory of primes was vitiated by his ignorance of the theory of functions of a complex variable. It was (so to say) what the theory might be if the Zeta-function had no complex zeros. His method depended upon a wholesale use of divergent series… That his proofs should have been invalid was only to be expected. But the mistakes went deeper than that, and many of the actual results were false. He had obtained the dominant terms of the classical formulae, although by invalid methods; but none of them are such close approximations as he supposed.\"\n",
    "__Godfrey Harold Hardy__"
   ]
  },
  {
   "cell_type": "markdown",
   "metadata": {},
   "source": [
    "## 1. Introduction\n",
    "\n",
    "Throughout this chapter, it’ll give to the reader a really fast, strippeddown, ‘crash-course’ presentation of the very beginnings of complex function theory, and the application of that theory to one of the gems of mathematics: contour integration and its use in doing definite integrals.\n",
    "\n",
    "As start for this chapter, it is asumed only that the reader are familiar with complex numbers and their manipulation.\n",
    "\n",
    "The first several sections will lay the theoretical groundwork and then, quite suddenly, it’ll see how they all come together to bring the beautiful and powerful technique of contour integration. \n",
    "\n",
    "None of these preliminary sections is very difficult, but each is absolutely essential for understanding. Don’t skip them!\n",
    "\n",
    "In keeping with the usual spirit of the notes, the presentation leans heavily on intuitive, plausible arguments and, while thinking it were did anything wildly outrageous, there will admittedly be occasions where professional mathematicians might feel tiny stabs of pain. (Mathematicians are a pretty tough bunch, though, and they will survive!) As always, the vindication feeling will come when, after doing a series of manipulations, Python's numerical calculations agree with whatever theoretical result it has just derived."
   ]
  },
  {
   "cell_type": "markdown",
   "metadata": {},
   "source": [
    "## 2. Line Integrals\n",
    "\n",
    "Imagine two points, $A$ and $B$, in the two-dimensional $x, y$ plane. Further, imagine that $A$ and $B$ are the two end-points of the curve $C$ in the plane, as shown in Fig. 1. $A$ is the starting end-point and $B$ is the terminating end-point. Now, suppose that $C$ is divided into n parts (or arcs), with the $\\mathrm{k}$-th arc having length $\\Delta \\mathrm{s}_{\\mathrm{k}}$ (where $k$ runs from 1 to $n$ ). Each of these arcs has a projection on the $x$ -axis, where $\\Delta x_{k}$ is written as the $x$ -axis projection of $\\Delta s_{k} .$ In the same way, $\\Delta y_{k}$ as the y-axis projection of $\\Delta \\mathrm{s}_{\\mathrm{k}} .$ Again, see Fig. 1 Finally, it is assumed, as $\\mathrm{n} \\rightarrow \\infty$ that $\\Delta s_{k} \\rightarrow 0,$ that $\\Delta x_{k} \\rightarrow 0,$ and that $\\Delta y_{k} \\rightarrow 0,$ for each and every $k$ (that is, the points along $C$ that divide $C$ into $n$ arcs are distributed, loosely speaking, 'uniformly' along $\\mathrm{C}$ ).\n",
    "\n",
    "Continuing, suppose that some function $\\mathrm{h}(\\mathrm{x}, \\mathrm{y})$ is given, such function is defined at every point along $C$. If the two sums $\\sum_{k=1}^{n} h\\left(x_{k}, y_{k}\\right) \\Delta x_{k}$ and $\\sum_{k=1}^{n} h\\left(x_{k}, y_{k}\\right) \\Delta y_{k}$\n",
    "where $\\left(x_{k}, y_{k}\\right)$ is an arbitrary point in the arc $\\Delta s_{k}$, then the limiting values [assuming that these two limits exist, then it will seen what that assumption brings] of these sums could be written as:\n",
    "\n",
    "$$\n",
    "\\lim _{n \\rightarrow \\infty} \\sum_{k=1}^{n} h\\left(x_{k}, y_{k}\\right) \\Delta x_{k}=\\int_{C} h(x, y) d x=I_{x}\n",
    "$$ [Eq.21]\n",
    "\n",
    "and\n",
    "\n",
    "$$\n",
    "\\lim _{n \\rightarrow \\infty} \\sum_{k=1}^{n} h\\left(x_{k}, y_{k}\\right) \\Delta y_{k}=\\int_{C} h(x, y) d y=I_{y}\n",
    "$$ [Eq.22]\n",
    "\n",
    "<br><br/>\n",
    "<p align=\"center\"><img src=\"images/curve_in_the_plane.png\" style=\"width:50%\"></p>\n",
    "<center> Fig. 1$\\quad$ A curve in the plane, and its projections on the x and y axes. </center>\n",
    "<br><br/>\n",
    "<br><br/>\n",
    "\n",
    "The $C$'s at the bottom of the integral signs in [Eq.21] and [Eq.22] are there to indicate that the integration is performed from A to B along C. The two limits in [Eq.21] and [Eq.2] will be named \"The Line Integrals\" (sometimes the term path integral is used, commonly by physicists). If $A=B$ that is, if $C$ is a closed loop in the non trivial case [There are, of course, two distinct ways it can have $A=B$. The trivial way is if $C$ simply has zero length, which immediately says $\\mathrm{I}_{\\mathrm{x}}=\\mathrm{I}_{\\mathrm{y}}=0$. The non-trivial way is if $C$ goes from $A$ out into the plane, wanders around for a while, and then returns to $A$ again (which now is re-label as B). It is this second way that gives a closed loop.], then the result is called a contour integral. When contour integrals are encounter, it is understood that $C$ never crosses itself (such a $C$ is said to be simple). Further, it is understood that a contour integral is done in the counter-clockwise sense; to reverse the direction of integration will reverse the algebraic sign of the integral.\n",
    "\n",
    "The value of a line integral depends, in general, on the coordinates of $A$ and $B$, the function $\\mathrm{h}(\\mathrm{x}, \\mathrm{y}),$ and on the specific path $C$ that connects $A$ and $B$. For example, suppose that $A=(0,0), B=(1,1),$ and that $h(x, y)=x y$. To start, let's suppose that $\\mathrm{C}=\\mathrm{C}_{1}$ is the broken path shown in Fig.2 The first part is along the $\\mathrm{x}$-axis from $\\mathrm{x}=0$ to $\\mathrm{x}=1$, and then the second part is straight-up from $\\mathrm{x}=1(\\mathrm{y}=0)$ to $\\mathrm{x}=1$ $(y=1)$. So, but for this path $y=0$ along the $x$-axis and so $h(x, y)=0)$, and $\\mathrm{x}=1$ on the vertical portion of $\\mathrm{C}_{1}$ [and so $\\mathrm{h}(\\mathrm{x}, \\mathrm{y})=\\mathrm{y}$]. Thus, the two line integrals on this path are:\n",
    "\n",
    "\n",
    "<br><br/>\n",
    "<p align=\"center\"><img src=\"images/different_line_integral_paths.png\" style=\"width:50%\"></p>\n",
    "<center> Fig. 2$\\quad$ Two different line integral paths. </center>\n",
    "<br><br/>\n",
    "<br><br/>\n",
    "\n",
    "$$\n",
    "\\mathrm{I}_{\\mathrm{x}}=\\int_{\\mathrm{C}_{1}} \\mathrm{h}(\\mathrm{x}, \\mathrm{y}) \\mathrm{d} \\mathrm{x}=\\int_{0}^{1} 0 \\mathrm{d} \\mathrm{x}+\\int_{1}^{1} \\mathrm{y} \\mathrm{d} \\mathrm{x}=0+0=0\n",
    "$$\n",
    "\n",
    "and\n",
    "\n",
    "$$\n",
    "\\mathrm{I}_{\\mathrm{y}}=\\int_{\\mathrm{C}_{1}} \\mathrm{h}(\\mathrm{x}, \\mathrm{y}) \\mathrm{d} \\mathrm{y}=\\int_{0}^{0} 0 \\mathrm{d} \\mathrm{y}+\\int_{0}^{1} \\mathrm{ydy}=\\left.\\left(\\frac{1}{2} \\mathrm{y}^{2}\\right)\\right|_{0} ^{1}=\\frac{1}{2}\n",
    "$$\n",
    "\n",
    "Along the path $\\mathrm{C}_{2},$ on the other hand, having $\\mathrm{y}=\\mathrm{x}$ from $\\mathrm{A}$ to $\\mathrm{B},$ and $\\mathrm{so}$ $h(x, y)=x^{2}$ [or, equivalently,  $y^{2}$]. So, on this path the line integrals are\n",
    "\n",
    "$$\n",
    "\\mathrm{I}_{\\mathrm{x}}=\\int_{\\mathrm{C}_{2}} \\mathrm{h}(\\mathrm{x}, \\mathrm{y}) \\mathrm{d} \\mathrm{x}=\\int_{0}^{1} \\mathrm{x}^{2} \\mathrm{dx}=\\left.\\left(\\frac{1}{3} \\mathrm{x}^{3}\\right)\\right|_{0} ^{1}=\\frac{1}{3}\n",
    "$$\n",
    "\n",
    "and\n",
    "\n",
    "$$\n",
    "\\mathrm{I}_{\\mathrm{y}}=\\int_{\\mathrm{C}_{2}} \\mathrm{h}(\\mathrm{x}, \\mathrm{y}) \\mathrm{d} \\mathrm{y}=\\int_{0}^{1} \\mathrm{y}^{2} \\mathrm{d} \\mathrm{y}=\\left.\\left(\\frac{1}{3} \\mathrm{y}^{3}\\right)\\right|_{0} ^{1}=\\frac{1}{3}\n",
    "$$\n",
    "\n",
    "Clearly, the values of the $I_{x}, I_{y}$ line integrals are path-dependent and, for a given path, the $I_{x}, I_{y}$ line integrals may or may not be equal. It can combined the $I_{x}$ and $I_{y}$ line integrals to write the line integral along $\\mathrm{C}$ as $\\mathrm{I}_{\\mathrm{C}}=\\mathrm{I}_{\\mathrm{x}}+i \\mathrm{I}_{\\mathrm{y}},$ and so $\\mathrm{I}_{\\mathrm{C}_{1}}=i_{2}^{\\mathrm{l}}$ while\n",
    "\n",
    "$$\n",
    "\\mathrm{I}_{\\mathrm{C}_{2}}=\\frac{1}{3}+i \\frac{1}{3}\n",
    "$$\n",
    "\n",
    "Notice that in Fig.2 it could be written the unbroken line segment $\\mathrm{AB}$ as $\\mathrm{z}=\\mathrm{x}+$ iy or, as $\\mathrm{y}=\\mathrm{x}, \\mathrm{z}=\\mathrm{x}+i \\mathrm{x}=\\mathrm{x}(1+i)$ and so\n",
    "$\\mathrm{dz}=(1+i) \\mathrm{dx}$. Then, as $\\mathrm{h}(\\mathrm{x}, \\mathrm{y})=\\mathrm{h}(\\mathrm{x}, \\mathrm{x})=\\mathrm{x}^{2},$ it gets\n",
    "\n",
    "$$\n",
    "\\mathrm{I}_{\\mathrm{C}_{2}}=\\int_{0}^{1} \\mathrm{x}^{2}(1+i) \\mathrm{d} \\mathrm{x}=\\left.(1+i)\\left(\\frac{1}{3} \\mathrm{x}^{3}\\right)\\right|_{0} ^{1}=\\frac{1}{3}+i \\frac{1}{3}\n",
    "$$\n",
    "\n",
    "which is just as it has been calculated before. For now, it is put aside these considerations and turn to expanding this note's discussion from functions of a real variable to functions of a complex variable. Soon, however, It is going to be seen how this expanded view of functions will 'circle back' how appropriate!-to closed contour line integrals, and what it has been done in this section will prove to be most useful."
   ]
  },
  {
   "cell_type": "markdown",
   "metadata": {},
   "source": [
    "## 3. Functions of a Complex Variable\n",
    "\n",
    "Let's write the complex variable $z$ as\n",
    "\n",
    "$$\n",
    "z=x+i y\n",
    "$$ [Eq.31]\n",
    "\n",
    "where $x$ and $y$ are each real with each varying over the doubly-infinite interval $-\\infty$ to $+\\infty,$ and $i=\\sqrt{-1}$. Geometrically, By interpreting $z$ as a point in an infinite, two-dimensional plane (called the complex plane) with $x$ measured along a horizontal axis and $y$ measured along a vertical axis. And considering a complex function of the complex variable $z$ as\n",
    "\n",
    "$$\n",
    "\\mathrm{f}(\\mathrm{z})=\\mathrm{f}(\\mathrm{x}+i \\mathrm{y})=\\mathrm{u}(\\mathrm{x}, \\mathrm{y})+i \\mathrm{v}(\\mathrm{x}, \\mathrm{y})\n",
    "$$ [Eq.32]\n",
    "\n",
    "where $u$ and $v$ are each real-valued functions of the two real-valued variables $x$ and $y$. For example, if\n",
    "\n",
    "$$\n",
    "f(z)=z^{2}=(x+i y)^{2}=x^{2}-y^{2}+i 2 x y\n",
    "$$\n",
    "\n",
    "then, in this case, $u=x^{2}-y^{2}$ and $v=2 x y$. In $x, y$ notation, It is said to be working in rectangular (or Cartesian) coordinates.\n",
    "\n",
    "It is often convenient to work in polar coordinates, which means the complex variable $z$ is written as\n",
    "\n",
    "$$\n",
    "z=r e^{i \\theta}\n",
    "$$ [Eq.33]\n",
    "\n",
    "where $r$ and $\\theta$ are each real: $r$ is the radial distance from the origin of the coordinate system of the complex plane to the point $z$ (and so $0 \\leq r<\\infty$ ), and $\\theta$ is the angle of the radius vector (of length $\\mathrm{r}$ ) measured counter-clockwise from the positive horizontal x-axis to the radius vector (and so it is $0 \\leq \\theta<2 \\pi$ usually taken). Note, carefully, however, that $\\theta$ is not uniquely determined, as it could be added (or subtract) any multiple of $2 \\pi$ from $\\theta$ and still be talking about the same point in the complex plane.\n",
    "\n",
    "From Euler's fabulous formula, it is obtained from [Eq.33] that\n",
    "\n",
    "$$\n",
    "z=r\\{\\cos (\\theta)+i \\sin (\\theta)\\}\n",
    "$$ [Eq.34]\n",
    "\n",
    "For example, if $f(z)=z^{2}$ then\n",
    "\n",
    "$$\n",
    "f(z)=\\left(r e^{i \\theta}\\right)^{2}=r^{2}\\{\\cos (\\theta)+i \\sin (\\theta)\\}^{2}\n",
    "$$\n",
    "\n",
    "or, expanding both sides of the last equality,\n",
    "\n",
    "$$\n",
    "r^{2} e^{i 2 \\theta}=r^{2}\\{\\cos (2 \\theta)+i \\sin (2 \\theta)\\}=r^{2}\\left\\{\\cos ^{2}(\\theta)-\\sin ^{2}(\\theta)+i 2 \\cos (\\theta) \\sin (\\theta)\\right\\}\n",
    "$$\n",
    "\n",
    "since the real and imaginary parts of the expressions in the last equality must be separately equal, it is concluded that $\\cos (2 \\theta)=\\cos ^{2}(\\theta)-\\sin ^{2}(\\theta)$ as well as $\\sin (2 \\theta)= 2 \\cos (\\theta) \\sin (\\theta)$. These two formulas are the well-known double-angle formulas from trigonometry, and so already it is a nice illustration of the powerful capability of complex functions to do useful work for calculi. [If, instead, it has started with $f(z)=z^{3}=\\left(r e^{B}\\right)^{3}=r^{3} e^{i 30}=r^{3}(\\cos (\\theta)+i \\sin (\\theta)\\}^{3},$ then it could has just as easily has derived the triple-angle formulas that are not so easy to get by other means (just take a look at any high school trigonometry text).]"
   ]
  },
  {
   "cell_type": "markdown",
   "metadata": {},
   "source": [
    "This section will end with two more spectacular demonstrations of that power. First, the calculation of\n",
    "\n",
    "$$\n",
    "\\int_{0}^{2 \\pi} \\mathrm{e}^{\\cos (\\theta)} \\mathrm{d} \\theta\n",
    "$$\n",
    "\n",
    "an integral (absolutely sure) anyone have never seen done by the 'routine' integration techniques of freshman calculus. It will be performed in here (using the polar form of $z$) with a contour integration in the complex plane. With $z=e^{i \\theta},$ which puts $z$ is on the unit circle $(r=1)$ centered on the origin, it could be written\n",
    "\n",
    "$$\n",
    "\\cos (\\theta)=\\frac{1}{2}\\left(z+\\frac{1}{z}\\right)\n",
    "$$\n",
    "\n",
    "because $\\frac{1}{z}=\\mathrm{e}^{-i \\theta}$ and Euler's formula says this is $\\cos (\\theta)-i \\sin (\\theta)$. Now, consider the complex function\n",
    "\n",
    "$$\n",
    "f(z)=\\frac{e^{\\frac{l}{z}\\left(z+\\frac{1}{z}\\right)}}{z}\n",
    "$$\n",
    "\n",
    "which will be integrated counter-clockwise once around the unit circle. That is, it will be computed\n",
    "\n",
    "$$\n",
    "\\oint_{C} \\frac{e^{\\frac{1}{2}\\left(z+\\frac{1}{2}\\right)}}{z} d z\n",
    "$$\n",
    "\n",
    "where $C$ is the circle $z=e^{i \\theta}$. [The circle on the integral sign is there simply to emphasize that work is being performed with a closed line integral.].\n",
    "\n",
    "The reason for the $z$ in the denominator of the integrand is because $d z=i e^{i \\theta} d \\theta$ and it is needed an $\\mathrm{e}^{i \\theta}$ in the denominator to cancel the $\\mathrm{e}^{i \\theta}$ in $\\mathrm{dz}$. So,\n",
    "\n",
    "$$\n",
    "\\oint_{C} \\frac{\\mathrm{e}^{\\frac{1}{2}\\left(\\mathrm{z}+\\frac{1}{2}\\right)}}{\\mathrm{z}} \\mathrm{d} \\mathrm{z}=\\int_{0}^{2 \\pi} \\frac{\\mathrm{e}^{\\cos (\\theta)}}{\\mathrm{e}^{i \\theta}} i \\mathrm{e}^{i \\theta} \\mathrm{d} \\theta=i \\int_{0}^{2 \\pi} \\mathrm{e}^{\\cos (\\theta)} \\mathrm{d} \\theta\n",
    "$$ [Eq.35]\n",
    "\n",
    "That is, the contour integral at the left in [Eq.35] is the integral it were the interest on after multiplied by $i$. To directly calculate the contour integral, let's start by expanding the exponential in the left-most integral in a power series. That is,\n",
    "\n",
    "$$\n",
    "\\oint_{\\mathrm{C}} \\frac{\\mathrm{e}^{\\frac{1}{2}\\left(\\mathrm{z}+\\frac{1}{2}\\right)}}{\\mathrm{z}} \\mathrm{d} z=\\oint_{\\mathrm{C}} \\frac{1}{\\mathrm{z}} \\sum_{\\mathrm{n}=0}^{\\infty} \\frac{\\left\\{\\frac{1}{2}\\left(\\mathrm{z}+\\frac{1}{\\mathrm{z}}\\right)\\right\\}^{\\mathrm{n}}}{\\mathrm{n} !} \\mathrm{d} \\mathrm{z}=\\oint_{\\mathrm{C}} \\frac{1}{\\mathrm{z}} \\sum_{\\mathrm{n}=0}^{\\infty} \\frac{1}{2^{\\mathrm{n}} \\mathrm{n} !}\\left(\\mathrm{z}+\\frac{1}{\\mathrm{z}}\\right)^{\\mathrm{n}} \\mathrm{d} z\n",
    "$$\n",
    "\n",
    "Using the binomial theorem to write\n",
    "\n",
    "$$\n",
    "\\left(z+\\frac{1}{z}\\right)^{n}=\\sum_{k=0}^{n}\\left(\\begin{array}{l}\n",
    "n \\\\\n",
    "k\n",
    "\\end{array}\\right) z^{k}\\left(\\frac{1}{z}\\right)^{n-k}=\\sum_{k=0}^{n}\\left(\\begin{array}{l}\n",
    "n \\\\\n",
    "k\n",
    "\\end{array}\\right) z^{k} \\frac{1}{z^{n-k}}=\\sum_{k=0}^{n}\\left(\\begin{array}{l}\n",
    "n \\\\\n",
    "k\n",
    "\\end{array}\\right) \\frac{z^{2 k}}{z^{n}}\n",
    "$$\n",
    "\n",
    "it is obtained\n",
    "\n",
    "$$\n",
    "\\begin{aligned}\n",
    "\\oint_{C} \\frac{e^{\\frac{1}{2}\\left(z+\\frac{1}{z}\\right)}}{z} d z &=\\oint_{C} \\frac{1}{z} \\sum_{n=0}^{\\infty} \\frac{1}{2^{n} n !}\\left\\{\\sum_{k=0}^{n}\\left(\\begin{array}{c}\n",
    "n \\\\\n",
    "k\n",
    "\\end{array}\\right) \\frac{z^{2 k}}{z^{n}}\\right\\} d z \\\\\n",
    "&=\\oint_{C} \\sum_{n=0}^{\\infty} \\frac{1}{2^{n} n !}\\left\\{\\sum_{k=0}^{n}\\left(\\begin{array}{c}\n",
    "n \\\\\n",
    "k\n",
    "\\end{array}\\right) z^{2 k-n-1}\\right\\} d z \\\\\n",
    "&=\\sum_{n=0}^{\\infty} \\frac{1}{2^{n} n !}\\left\\{\\sum_{k=0}^{n}\\left(\\begin{array}{c}\n",
    "n \\\\\n",
    "k\n",
    "\\end{array}\\right) \\oint_{C} z^{2 k-n-1}\\right\\} d z\n",
    "\\end{aligned}\n",
    "$$\n",
    "\n",
    "Now, concentrate on that last integral, where it is replaced $z$ with $e^{i \\theta}$ and $d z$ with $i \\mathrm{e}^{i \\theta} \\mathrm{d} \\theta$\n",
    "\n",
    "$$\n",
    "\\oint_{\\mathrm{C}} \\mathrm{z}^{2 \\mathrm{k}-\\mathrm{n}-1} \\mathrm{d} z=\\int_{0}^{2 \\pi}\\left(\\mathrm{e}^{\\mathrm{i} \\theta}\\right)^{2 \\mathrm{k}-\\mathrm{n}-1} i \\mathrm{e}^{i \\theta} \\mathrm{d} \\theta=i \\int_{0}^{2 \\pi} \\mathrm{e}^{i(2 \\mathrm{k}-\\mathrm{n}) \\theta} \\mathrm{d} \\theta=\\begin{array}{c}\n",
    "2 \\pi i \\text { if } 2 \\mathrm{k}-\\mathrm{n}=0 \\\\\n",
    "0 \\text { if } 2 \\mathrm{k}-\\mathrm{n} \\neq 0\n",
    "\\end{array}\n",
    "$$\n",
    "\n",
    "This is remarkable! Every one of these integrals on the right vanishes as $n$ and $k$ run through their values except for those cases where $k=\\frac{n}{2}$. This has a profound implication, as then $\\mathrm{k}$ can be an integer (which of course it is) only if $\\mathrm{n}$ is even. For all odd values of $n$ the integrals vanish, and in the cases of $n$ even they vanish, too, if $\\mathrm{k} \\neq \\frac{\\mathrm{n}}{2} .$ It could be possible to include all the integrals that don't vanish with the simple trick of writing $n=2 \\mathrm{m},$ where $\\mathrm{m}=0,1,2,3, \\ldots,$ and so to have\n",
    "\n",
    "$$\n",
    "\\begin{aligned}\n",
    "\\oint_{C} \\frac{\\mathrm{e}^{\\frac{1}{2}\\left(\\mathrm{z}+\\frac{1}{2}\\right)}}{\\mathrm{z}} \\mathrm{d} \\mathrm{z} &=\\sum_{\\mathrm{m}=0}^{\\infty} \\frac{1}{2^{2 \\mathrm{m}}(2 \\mathrm{m} !)}\\left(\\begin{array}{c}\n",
    "2 \\mathrm{m} \\\\\n",
    "\\mathrm{m}\n",
    "\\end{array}\\right) 2 \\pi \\mathrm{i}=2 \\pi \\mathrm{i} \\sum_{\\mathrm{m}=0}^{\\infty} \\frac{1}{2^{2 \\mathrm{m}}(2 \\mathrm{m} !)} \\frac{(2 \\mathrm{m} !)}{\\mathrm{m} ! \\mathrm{m} !} \\\\\n",
    "&=2 \\pi \\mathrm{i} \\sum_{\\mathrm{m}=0}^{\\infty} \\frac{1}{2^{2 \\mathrm{m}}(\\mathrm{m} !)^{2}}\n",
    "\\end{aligned}\n",
    "$$\n",
    "\n",
    "From [Eq.35] it can now be written\n",
    "\n",
    "$$\n",
    "2 \\pi \\mathrm{i} \\sum_{\\mathrm{m}=0}^{\\infty} \\frac{1}{2^{2 \\mathrm{m}}(\\mathrm{m} !)^{2}}=i \\int_{0}^{2 \\pi} \\mathrm{e}^{\\cos (\\theta)} \\mathrm{d} \\theta\n",
    "$$\n",
    "\n",
    "or, cancelling the $i$'s, obtaining then, the pursuited answer, as:\n",
    "\n",
    "$$\n",
    "\\int_{0}^{2 \\pi} e^{\\cos (\\theta)} d \\theta=2 \\pi \\sum_{m=0}^{\\infty} \\frac{1}{2^{2 m}(m !)^{2}}\n",
    "$$ [Eq.36]\n",
    "\n",
    "The terms in the series on the right decrease very rapidly and so the series quickly converges. Using just the first four terms the sum is $2 \\pi\\left(1+\\frac{1}{4}+\\frac{1}{64}+\\frac{1}{2,304}\\right)=7.95488$ and PYTHON code agrees."
   ]
  },
  {
   "cell_type": "code",
   "execution_count": null,
   "metadata": {},
   "outputs": [],
   "source": []
  },
  {
   "cell_type": "markdown",
   "metadata": {},
   "source": [
    "For the second and final demonstration in this section (this one from physics) of the amazing utility of complex functions, imagine a point mass $\\mathrm{m}$ moving in a plane along the path given by [Eq.33]\n",
    "\n",
    "$$\n",
    "z(t)=r(t) e^{i \\theta(t)}\n",
    "$$[Eq.37]"
   ]
  },
  {
   "cell_type": "markdown",
   "metadata": {},
   "source": [
    "## 4. The Cauchy-Riemann Equations and Analytic Functions"
   ]
  },
  {
   "cell_type": "markdown",
   "metadata": {},
   "source": [
    "## 5. Green’s Integral Theorem"
   ]
  },
  {
   "cell_type": "markdown",
   "metadata": {},
   "source": [
    "## 6. Cauchy’s First Integral Theorem"
   ]
  },
  {
   "cell_type": "markdown",
   "metadata": {},
   "source": [
    "## 7. Cauchy’s Second Integral Theorem"
   ]
  },
  {
   "cell_type": "markdown",
   "metadata": {},
   "source": [
    "## 8. Singularities and the Residue Theorem"
   ]
  },
  {
   "cell_type": "markdown",
   "metadata": {},
   "source": [
    "## 9. Integrals with Multi-valued Integrands"
   ]
  },
  {
   "cell_type": "markdown",
   "metadata": {},
   "source": [
    "## 10. Challenge Problems"
   ]
  },
  {
   "cell_type": "markdown",
   "metadata": {},
   "source": [
    "The entropy flux of incident solar radiation at the top of the earth atmosphere is given as $3.1 \\times 10^{-5}\\left[\\mathrm{J} \\mathrm{cm}^{-2} \\mathrm{s}^{-1} \\mathrm{K}^{-1}\\right]$. The entropy production on the earth is calculated from balance equations of radiation energy and entropy and shown to be $1.2 \\times 10^{-4}\\left[\\mathrm{J} \\mathrm{cm}^{-2} \\mathrm{s}^{-1} \\mathrm{K}^{-1}\\right]$. Those for other planets of the solar system are also given."
   ]
  },
  {
   "cell_type": "code",
   "execution_count": 11,
   "metadata": {},
   "outputs": [
    {
     "data": {
      "text/plain": [
       "-9.028018815182229"
      ]
     },
     "execution_count": 11,
     "metadata": {},
     "output_type": "execute_result"
    }
   ],
   "source": [
    "import numpy as np\n",
    "np.log(0.00012)"
   ]
  },
  {
   "cell_type": "code",
   "execution_count": 12,
   "metadata": {},
   "outputs": [
    {
     "data": {
      "text/plain": [
       "9.869604401089358"
      ]
     },
     "execution_count": 12,
     "metadata": {},
     "output_type": "execute_result"
    }
   ],
   "source": [
    "np.pi**2"
   ]
  },
  {
   "cell_type": "markdown",
   "metadata": {},
   "source": [
    "Solve the integral \n",
    "\n",
    "$$\n",
    "\\int_{-\\infty}^{\\infty} e^{\\left(a x^{4}+b x^{3}+c x^{2}+d x+f\\right)} d x\n",
    "$$"
   ]
  },
  {
   "cell_type": "markdown",
   "metadata": {},
   "source": [
    "Solve the [complete elliptic integral of the first kind](https://en.wikipedia.org/wiki/Elliptic_integral#Complete_elliptic_integral_of_the_first_kind):\n",
    "\n",
    "$$\n",
    "K(k)=\\int_{0}^{\\frac{\\pi}{2}} \\frac{d \\theta}{\\sqrt{1-k^{2} \\sin ^{2} \\theta}}\n",
    "$$\n",
    "\n",
    "This integral appears in G. S. Carr’s [\"Synopsis of Pure Mathematics\"](https://en.wikipedia.org/wiki/Synopsis_of_Pure_Mathematics).\n",
    "\n",
    "#### Solution:\n",
    "Using the general form of the binomial theorem, the integrand expands to\n",
    "\n",
    "$$\n",
    "\\left(1-k^{2} \\sin ^{2} \\theta\\right)^{-\\frac{1}{2}}=\\sum_{n=0}^{\\infty}\\left(\\begin{array}{c}\n",
    "-\\frac{1}{2} \\\\\n",
    "n\n",
    "\\end{array}\\right)(-1)^{n} k^{2 n} \\sin ^{2 n} \\theta\n",
    "$$\n",
    "\n",
    "where\n",
    "\n",
    "$$\n",
    "\\left(\\begin{array}{c}\n",
    "-\\frac{1}{2} \\\\\n",
    "n\n",
    "\\end{array}\\right)=\\frac{\\left(-\\frac{1}{2}\\right)\\left(-\\frac{1}{2}-1\\right)\\left(-\\frac{1}{2}-2\\right) \\ldots\\left(-\\frac{1}{2}-(n-1)\\right)}{n !}\n",
    "$$\n",
    "\n",
    "which simplifies to\n",
    "\n",
    "$$\n",
    "(-1)^{n} \\frac{1 \\cdot 3 \\cdot 5 \\ldots(2 n-1)}{2^{n} n !}=(-1)^{n} \\frac{(2 n) !}{\\left(2^{n} n !\\right)^{2}}\n",
    "$$\n",
    "\n",
    "It follows that to have\n",
    "\n",
    "$$\n",
    "K(k)=\\sum_{n=0}^{\\infty} \\frac{(2 n) !}{\\left(2^{n} n !\\right)^{2}}\\left(\\int_{0}^{\\frac{\\pi}{2}} \\sin ^{2 n} \\theta d \\theta\\right) k^{2 n}\n",
    "$$\n",
    "\n",
    "so the remaining works left with computing the integral of $\\sin ^{2 n} \\theta$. This is straightforward to compute using Euler's formula, which gives\n",
    "\n",
    "$$\n",
    "\\int_{0}^{\\frac{\\pi}{2}} \\sin ^{2 n} \\theta d \\theta=\\int_{0}^{\\frac{\\pi}{2}}\\left(\\frac{e^{i \\theta}-e^{-i \\theta}}{2 i}\\right)^{2 n} d \\theta\n",
    "$$\n",
    "\n",
    "Using a second application of the binomial theorem, the $k^{t h}$ term is\n",
    "\n",
    "$$\n",
    "\\frac{(-1)^{n+k}}{4^{n}}\\left(\\begin{array}{c}\n",
    "2 n \\\\\n",
    "k\n",
    "\\end{array}\\right) \\int_{0}^{\\frac{\\pi}{2}} e^{i(2 n-2 k) \\theta} d \\theta\n",
    "$$\n",
    "\n",
    "Since it is known the answer is real, the imaginary part of this integral can be ignored and just focus on its real part. The integral of the real part is\n",
    "\n",
    "$$\n",
    "\\int_{0}^{\\frac{\\pi}{2}} \\cos (2 n-2 k) \\theta d \\theta\n",
    "$$\n",
    "\n",
    "vanishes unless $k=n$ by symmetry considerations, so $k=n$ is the only relevant term and from this, it is gotten\n",
    "\n",
    "$$\n",
    "\\int_{0}^{\\frac{\\pi}{2}} \\sin ^{2 n} \\theta d \\theta=\\frac{1}{4^{n}}\\left(\\begin{array}{c}\n",
    "2 n \\\\\n",
    "n\n",
    "\\end{array}\\right) \\int_{0}^{\\frac{\\pi}{2}} 1 d \\theta\n",
    "$$\n",
    "\n",
    "where the integral is just $\\frac{\\pi}{2} .$ This gives the final answer\n",
    "\n",
    "$$\n",
    "K(k)=\\frac{\\pi}{2} \\sum_{n=0}^{\\infty} \\frac{(2 n) !^{2}}{\\left(2^{n} n !\\right)^{4}} k^{2 n}\n",
    "$$\n",
    "\n",
    "$$\n",
    "K(k)=\\frac{\\pi}{2}\\left(1+\\left(\\frac{1}{2}\\right)^{2} k^{2}+\\left(\\frac{1 \\cdot 3}{2 \\cdot 4}\\right)^{2} k^{4}+\\left(\\frac{1 \\cdot 3 \\cdot 5}{2 \\cdot 4 \\cdot 6}\\right)^{2} k^{6}+\\ldots\\right)\n",
    "$$"
   ]
  },
  {
   "cell_type": "code",
   "execution_count": null,
   "metadata": {},
   "outputs": [],
   "source": []
  }
 ],
 "metadata": {
  "kernelspec": {
   "display_name": "Python 3",
   "language": "python",
   "name": "python3"
  },
  "language_info": {
   "codemirror_mode": {
    "name": "ipython",
    "version": 3
   },
   "file_extension": ".py",
   "mimetype": "text/x-python",
   "name": "python",
   "nbconvert_exporter": "python",
   "pygments_lexer": "ipython3",
   "version": "3.7.6"
  }
 },
 "nbformat": 4,
 "nbformat_minor": 2
}
