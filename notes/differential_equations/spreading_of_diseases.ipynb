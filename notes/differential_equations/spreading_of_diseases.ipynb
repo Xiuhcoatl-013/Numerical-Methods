{
 "cells": [
  {
   "cell_type": "markdown",
   "metadata": {},
   "source": [
    "# Spreading of Diseases"
   ]
  },
  {
   "cell_type": "code",
   "execution_count": 4,
   "metadata": {},
   "outputs": [],
   "source": [
    "import numpy as np\n",
    "import matplotlib.pyplot as plt"
   ]
  },
  {
   "cell_type": "markdown",
   "metadata": {},
   "source": [
    "## Introduction.\n",
    "\n",
    "The aim with this section is to show in detail how one can apply mathematics and programming to investigate spreading of diseases. The mathematical model is now a system of three differential equations with three unknown functions. To derive such a model, mainly intuition (common sense) could be used, so no specific background knowledge of diseases is required."
   ]
  },
  {
   "cell_type": "markdown",
   "metadata": {},
   "source": [
    "## Spreading of a Flu [COVID-19].\n",
    "\n",
    "Imagine a boarding school out in the country side. This school is a small and closed society. Suddenly, one or more of the pupils get a flu. It is expected that the flu may spread quite effectively or die out. The question is how many of the pupils and the school's staff will be affected. Some quite simple mathematics can help us to achieve insight into the dynamics of how the disease spreads.\n",
    "\n",
    "Let the mathematical function $S(t)$ count how many individuals, at time $t,$ that have the possibility to get infected. Here, $t$ may count hours or days, for instance. These individuals make up a category called susceptibles, labeled as S. Another category, I, consists of the individuals that are infected. Let $I(t)$ count how many there are in category I at time $t$. An individual having recovered from the disease is assumed to gain immunity. There is also a small possibility that an infected will die. In either case, the individual is moved from the I category to a category called the removed category, labeled with R. By leting $R(t)$ count the number of individuals in the $R$ category at time $t .$ Those who enter the $R$ category, cannot leave this category.\n",
    "To summarize, the spreading of this disease is essentially the dynamics of moving individuals from the S to the I and then to the R category:\n",
    "\n",
    "To summarize, the spreading of this disease is essentially the dynamics of moving individuals from the S to the I and then to the R category:\n",
    "\n",
    "<br><br/>\n",
    "<p align=\"center\"><img src=\"images/categories_SIR.png\" style=\"width:50%\"></p>\n",
    "<center> Fig. 1$\\quad$ XXXXX </center>\n",
    "<br><br/>\n",
    "<br><br/>\n",
    "\n",
    "Mathematics could be used to more precisely describe the exchange between the categories. The fundamental idea is to describe the changes that take place during a small time interval, denoted by $\\Delta t$\n",
    "\n",
    "The disease model is often referred to as a compartment model, where quantities are shuffled between compartments (here a synonym for categories) according to some rules. The rules express changes in a small time interval $\\Delta t,$ and from these changes it can let $\\Delta t$ go to zero and obtain derivatives. The resulting equations then go from difference equations (with finite $\\Delta t$ ) to differential equations $(\\Delta t \\rightarrow 0)$.\n",
    "By introducing a uniform mesh in time, $t_{n}=n \\Delta t, n=0, \\ldots, N_{t},$ and seek $S$ at the mesh points. The numerical approximation to $S$ at time $t_{n}$ is denoted by $S^{n} .$ Similarly, seeking the unknown values of $I(t)$ and $R(t)$ at the mesh points and introduce a similar notation $I^{n}$ and $R^{n}$ for the approximations to the exact values $I\\left(t_{n}\\right)$ and $R\\left(t_{n}\\right)$\n",
    "In the time interval $\\Delta t$ it is known that some people will be infected, so $S$ will decrease. Soon, by mathematics usage, it shall argue that there will be $\\beta \\Delta t S I$ new infected individuals in this time interval, where $\\beta$ is a parameter reflecting how easy people get infected during a time interval of unit length. If the loss in $S$ is $\\beta \\Delta t S I$, it is obtained that the change in $S$ is\n",
    "\n",
    "$$\n",
    "S^{n+1}-S^{n}=-\\beta \\Delta t S^{n} I^{n}\n",
    "$$   [Eq. 4.9]\n",
    "\n",
    "Dividing by $\\Delta t$ and letting $\\Delta t \\rightarrow 0$, makes the left-hand side approach $S^{\\prime}\\left(t_{n}\\right)$ such that it is obtained a differential equation\n",
    "\n",
    "$$\n",
    "S^{\\prime}=-\\beta S I\n",
    "$$   [Eq. 4.10]\n",
    "\n",
    "The reasoning in going from the difference equation [Eq. 4.9] to the differential equation [Eq. 4.10] follows exactly the steps explained in the section [Derivation of the model](https://github.com/Xiuhcoatl-013/Numerical-Methods/blob/master/notes/differential_equations/population_growth.ipynb)."
   ]
  },
  {
   "cell_type": "markdown",
   "metadata": {},
   "source": [
    "## A Forward Euler Method for The Differential Equation System"
   ]
  },
  {
   "cell_type": "markdown",
   "metadata": {},
   "source": [
    "## Programming the Numerical Method; The Special Case\n",
    "\n",
    "<br><br/>\n",
    "<p align=\"center\"><img src=\"images/SIR1.png\" style=\"width:50%\"></p>\n",
    "<center> Figure 28.$\\quad$ Natural evolution of a flu at a boarding school. </center>\n",
    "<br><br/>\n",
    "<br><br/>\n",
    "\n",
    "<br><br/>\n",
    "<p align=\"center\"><img src=\"images/SIR1b.png\" style=\"width:50%\"></p>\n",
    "<center> Figure 29.$\\quad$ Small outbreak of a flu at a boarding school ($\\beta$ is much smaller than in Figure 28). </center>\n",
    "<br><br/>\n",
    "<br><br/>"
   ]
  },
  {
   "cell_type": "markdown",
   "metadata": {},
   "source": [
    "## Outbreak or Not "
   ]
  },
  {
   "cell_type": "markdown",
   "metadata": {},
   "source": [
    "## Abstract Problem and Notation"
   ]
  },
  {
   "cell_type": "markdown",
   "metadata": {},
   "source": [
    "## Programming the Numerical Method; The General Case"
   ]
  },
  {
   "cell_type": "markdown",
   "metadata": {},
   "source": [
    "## Time-Restricted Immunity \n",
    "\n",
    "<br><br/>\n",
    "<p align=\"center\"><img src=\"images/categories_SIR_feedback.png\" style=\"width:50%\"></p>\n",
    "<center> Fig. XXX$\\quad$ XXXXX </center>\n",
    "<br><br/>\n",
    "<br><br/>\n",
    "\n",
    "\n",
    "\n",
    "<br><br/>\n",
    "<p align=\"center\"><img src=\"images/SIR2.png\" style=\"width:50%\"></p>\n",
    "<center> Figure 30.$\\quad$ Including loss of immunity. </center>\n",
    "<br><br/>\n",
    "<br><br/>\n",
    "\n",
    "\n",
    "\n",
    "<br><br/>\n",
    "<p align=\"center\"><img src=\"images/SIR2b.png\" style=\"width:50%\"></p>\n",
    "<center> Figure 31.$\\quad$ Increasing $\\beta$ and reducing $\\nu$ compared to Figure 30. </center>\n",
    "<br><br/>\n",
    "<br><br/>\n",
    "\n",
    "\n",
    "\n",
    "\n",
    "\n",
    "\n",
    "\n",
    "\n"
   ]
  },
  {
   "cell_type": "markdown",
   "metadata": {},
   "source": [
    "## Incorporating Vaccination\n",
    "\n",
    "<br><br/>\n",
    "<p align=\"center\"><img src=\"images/categories_SIRV2.png\" style=\"width:50%\"></p>\n",
    "<center> Fig. XXX$\\quad$ XXXXX </center>\n",
    "<br><br/>\n",
    "<br><br/>\n",
    "\n",
    "\n",
    "\n",
    "<br><br/>\n",
    "<p align=\"center\"><img src=\"images/SIR1b.png\" style=\"width:50%\"></p>\n",
    "<center> Figure 32.$\\quad$ The effect of vaccination: $p=0005$ (left) and $p=0.0001$ (right). </center>\n",
    "<br><br/>\n",
    "<br><br/>\n",
    "\n",
    "\n",
    "\n",
    "\n",
    "\n",
    "\n"
   ]
  },
  {
   "cell_type": "markdown",
   "metadata": {},
   "source": [
    "## Discontinuous Coefficients: A Vaccination Campaign\n",
    "\n",
    "<br><br/>\n",
    "<p align=\"center\"><img src=\"images/SIRV2.png\" style=\"width:50%\"></p>\n",
    "<center> Figure 33.$\\quad$  The Effect of a Vaccination Campaign. </center>\n",
    "<br><br/>\n",
    "<br><br/>\n",
    "\n"
   ]
  },
  {
   "cell_type": "markdown",
   "metadata": {},
   "source": [
    "## Incorporating The Efects of Metapopulation Dynamics"
   ]
  },
  {
   "cell_type": "markdown",
   "metadata": {},
   "source": [
    "## Incorporating The Efects of Medical Errors"
   ]
  },
  {
   "cell_type": "markdown",
   "metadata": {},
   "source": [
    "## Incorporating The Efects of Virus Mutations"
   ]
  },
  {
   "cell_type": "markdown",
   "metadata": {},
   "source": []
  }
 ],
 "metadata": {
  "kernelspec": {
   "display_name": "Python 3",
   "language": "python",
   "name": "python3"
  },
  "language_info": {
   "codemirror_mode": {
    "name": "ipython",
    "version": 3
   },
   "file_extension": ".py",
   "mimetype": "text/x-python",
   "name": "python",
   "nbconvert_exporter": "python",
   "pygments_lexer": "ipython3",
   "version": "3.7.6"
  }
 },
 "nbformat": 4,
 "nbformat_minor": 2
}
