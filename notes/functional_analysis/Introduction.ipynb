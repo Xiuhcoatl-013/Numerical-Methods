{
 "cells": [
  {
   "cell_type": "markdown",
   "metadata": {},
   "source": [
    "# Functional Analysis and Partial Differential Equations"
   ]
  },
  {
   "cell_type": "markdown",
   "metadata": {},
   "source": [
    "## What is functional analysis?\n",
    "\n",
    "Functional analysis is, roughly speaking, analysis on infinite dimensional spaces. The functional analytic point of view has meanwhile become essential in many areas of mathematics, e.g. in\n",
    "\n",
    "  - Geometry and topology (index theorems, loop spaces, the diffeomorphism group of a manifold as an infinite dimensional Lie group, ... )\n",
    "  - Numerical analysis (seemingly very different approximation of a problem often correspond simply to different choices of bases in an infinite dimensional space; robust behaviour of very large finite dimensional approximation is often related to good estimates for the infinite dimensional problem)\n",
    "  - Probability\n",
    "  - Partial differential equations\n",
    "  - Mathematical physics (self adjoint operators, spectral theory, ...)\n",
    "\n",
    "This notes will give an introduction to functional analysis and covers in particular the central theorems of linear functional analysis. The notes are also suitable for students, who have not followed some course of 'Introduction to partial differential equations'. Partial differential equations will be used as examples of applications of methods from functional analysis, but no previous knowledge of partial differential equations is assumed. A typical problem is the following. Let $X$ and $Y$ be infinite (normed, metric, topological, ... ) vector spaces and let $A: X \\rightarrow Y$ be a linear and continuous map. Under which conditions does $A$ have a continuous inverse? An important theorem of linear algebra states that for $X=Y=\\mathbb{R}^{d}$ having $A$ injective $\\Leftrightarrow A$ surjective $\\Leftrightarrow A^{-1}$ exists and is continuous. This is no longer true for infinite dimensional spaces.\n",
    "\n",
    "Here is an example from the theory of partial differential equations. Let\n",
    "$X$ denote the space $C^{2}(U)$ of twice differentiable functions from a bounded and open set $U \\subset \\mathbb{R}^{n}$ to $\\mathbb{R}$ with bounded second derivatives, which converge to 0 on $\\partial U .$ Let $Y$ be the corresponding space of continuous maps and bounded maps from $U$ to $\\mathbb{R}$ and let $A$ be the Laplace operator $\\Delta=\\sum_{j} \\frac{\\partial^{2}}{\\partial x_{j}^{2}}$ The question of the solvability of the PDE $\\Delta u=f$ is thus translated into the question of the invertibility of a certain operator. In this example it happens that $A$ is injective, but not surjective. One obtains a much better theory if one replaces the classical spaces $C^{2}$ and $C^{0}$ by Sobolev spaces.\n",
    "\n",
    "The notes will cover four big themes:\n",
    "\n",
    "   - Spaces and topologies/notions of convergence\n",
    "   - Linear operators\n",
    "   - Hilbert spaces\n",
    "   - Eigenvalues and spectral theory"
   ]
  },
  {
   "cell_type": "markdown",
   "metadata": {},
   "source": [
    "## 1 Spaces and topologies/notions of convergence\n",
    "\n",
    "An important theorem of analysis states that a subset $E$ of $\\mathbb{R}^{n}$ is compact if and only if it is bounded and closed. As a result, every bounded sequence in $\\mathbb{R}^{n}$ has a convergent subsequence.\n",
    "\n",
    "This assertion does not hold in infinite dimensional spaces. Compactness is nonetheless a key property. It will thus introduced a new set of topologies (the weak topology and the weak* topology), for which good compactness properties hold.\n",
    "\n",
    "Another important aspect is that the classical function spaces such as the space $C^{k}$ of $k$ times differentiable functions are not well adapted to other natural mathematical structures. On $C^{1}$, for example, one can define a scalar product\n",
    "\n",
    "$$\n",
    "\\langle u, v\\rangle:=\\int u v+\\nabla u \\cdot \\nabla v\n",
    "$$\n",
    "\n",
    "Nonetheless the space $C^{1}$ is not complete under the corresponding norm $\\|u\\|:=\\langle u, u\\rangle^{1 / 2}$. The completion leads to the Sobolev space $W^{1,2}$ and $\\mathrm{we}$ will study the central properties of Sobolev spaces (imbedding theorems into classical spaces, Poincaré inequality, approximation properties, ...)."
   ]
  },
  {
   "cell_type": "markdown",
   "metadata": {},
   "source": [
    "## 2 Linear operators\n",
    "\n",
    "Key theorems are the Hahn-Banach theorem (a continuous linear functional on a subspace can be extended to the whole space), Baire's theorem and the closed graph theorem. Baire's theorem has a number of strong consequences,\n",
    "for example the principle of uniform boundedness: A family of linear and continuous maps $T_{j}$ from a Banach space $X$ to a Banach space $Y$ which is pointwise bounded is already uniformly bounded, it is:\n",
    "\n",
    "$$\n",
    "\\sup _{j}\\left\\|T^{j} x\\right\\|<\\infty \\quad \\forall x \\quad \\Rightarrow \\sup _{j} \\sup _{x:\\|x\\| \\leq 1}\\left\\|T^{j} x\\right\\|<\\infty\n",
    "$$"
   ]
  },
  {
   "cell_type": "markdown",
   "metadata": {},
   "source": [
    "## 3 Hilbert spaces\n",
    "\n",
    "A Hilbert space $H$ is a vector spaces with a scalar product which is closed under the norm induced by the scalar product. A key property is that for every closed subspace $U$ and every $x \\in H$ there exists a unique best approximation of $y \\in U$ of $x$. Moreover $y$ is given by the orthogonal projection of $x$ onto $U$\n",
    "\n",
    "This simple geometric fact has strong consequence, for example the Riesz representation theorem (every linear and continuous functional $T: H \\rightarrow \\mathbb{R}$ is of the form $T(x)=\\langle z, x\\rangle \\text { for some } z \\in H)$ and the Lax-Milgram theorem. This leads to a new approach for the solution of the equation $A x=y$. One considers the bilinear form $a(x, z):=\\langle A x, z\\rangle$ and look for solutions of the equation $a(x, z)=(y, z) \\forall z$. In this way the PDE $-\\Delta u=f$ in $U, u=0$ on $\\partial U$ can be reformulated as\n",
    "\n",
    "$$\n",
    "\\int_{U} \\nabla u \\nabla \\varphi=\\int_{U} f \\varphi \\quad \\forall \\varphi\n",
    "$$\n",
    "\n",
    "(to see this, multiply the equation by $\\varphi$ and integrate by parts). The left hand side of the equation defines a scalar product on the space $W_{0}^{1,2}$ of Sobolev functions with zero boundary values and for fixed $f \\in L^{2}(U)$, the right hand side defines a continuous linear map from $W_{0}^{1,2}$ to $\\mathbb{R}$. Thus, the Riesz representation theorem yields the existence and uniqueness of a solution $u \\in W_{0}^{1,2}$. The Lax-Milgram theorem yields existence and uniqueness for general bilinear forms which are continuous and coercive (it is $a(x, x) \\geq$ $c\\|x\\|^{2}, c>0$ ). In this way, one immediately obtains existence and uniqueness of solutions of general partial differential equations $-\\sum_{i, j} \\partial_{i}\\left(a_{i j}(x) \\partial_{j} u(x)\\right)=$ $f$ as long as the coefficients are bounded (and measurable) and elliptic (i.e., $\\sum a_{i j} \\xi_{i} \\xi_{j} \\geq c|x|^{2} \\quad \\forall \\xi \\in \\mathbb{R}^{n}$, with $c>0$).\n",
    "\n",
    "This Hilbert space approach does not only lead to a very flexible and powerful notion of solutions but also creates a rigorous link to the natural minimization principles in physics. At the same time the Hilbert space approach leads to a very natural understanding and analysis of numerical approximation schemes, which often corresponds to an approximation in a well chosen finite dimensional subspace."
   ]
  },
  {
   "cell_type": "markdown",
   "metadata": {},
   "source": [
    "## 4 Eigenvalues and spectral theory\n",
    "\n",
    "An important theorem of linear algebra states that a symmetric matrix has an orthonormal basis of eigenvectors. It will be proved a generalization of this result to compact and symmetric operators on a Hilbert space. For natural choices of the operator (usually the inverse of a differential operator) the corresponding orthonormal systems of eigenfunctions yield a unification and generalization of a number of classical orthonormal systems (Fourier series, Legendre polynomials, spherical harmonics, ... ).\n",
    "\n",
    "For noncompact bounded or unbounded symmetric (or self adjoint) operators $A$ one needs a generalization of the concept of an eigenvalue. One says that $\\lambda \\in \\mathbb{C}$ belongs to the spectrum of $A$ if the operator $\\lambda-A$ does not have a continuous inverse. The concept of spectrum is a central notion in many areas of mathematics ranging from mathematical physics to number theory (Selberg trace formula)."
   ]
  },
  {
   "cell_type": "code",
   "execution_count": null,
   "metadata": {},
   "outputs": [],
   "source": []
  }
 ],
 "metadata": {
  "kernelspec": {
   "display_name": "Python 3",
   "language": "python",
   "name": "python3"
  },
  "language_info": {
   "codemirror_mode": {
    "name": "ipython",
    "version": 3
   },
   "file_extension": ".py",
   "mimetype": "text/x-python",
   "name": "python",
   "nbconvert_exporter": "python",
   "pygments_lexer": "ipython3",
   "version": "3.7.6"
  }
 },
 "nbformat": 4,
 "nbformat_minor": 2
}
