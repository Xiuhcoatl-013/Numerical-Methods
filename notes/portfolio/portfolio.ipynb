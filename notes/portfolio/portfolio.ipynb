{
 "cells": [
  {
   "cell_type": "markdown",
   "metadata": {},
   "source": [
    "# Portfolio"
   ]
  },
  {
   "cell_type": "markdown",
   "metadata": {},
   "source": [
    "## Part I\n",
    "\n",
    "\n",
    "\n",
    "Write down under the next ideas:\n",
    "\n",
    "__By part of the professors__ attending this course is required a proposal for some topic they were interested to present on them next future math courses as an embedded system application, running in real time. The idea is the students experience how mathematics are involved in the development of real-world technology. As part of the activities for the involved NXP engineers, will be related on supporting this activity for the next coming steps.\n",
    "\n",
    "__By part of the students__ it is require enlisting the topics each one has perceived are for more importance in the sense it provides some skill, or topic needed to advance in the selected investigation project. please include a brief description on how each specific selected topic is pretended to be used.\n"
   ]
  },
  {
   "cell_type": "code",
   "execution_count": null,
   "metadata": {},
   "outputs": [],
   "source": []
  },
  {
   "cell_type": "markdown",
   "metadata": {},
   "source": [
    "## Part II\n",
    "\n",
    "The next exercises swept under the next topics:\n",
    "\n",
    "* Algebra\n",
    "* Numerical Differentiation\n",
    "* Optimization\n",
    "* Numerical Integration\n",
    "* Differential Equaitons\n",
    "\n",
    "All the references to perform over the exercises are contained onto the [lecture notes](https://github.com/Xiuhcoatl-013/Numerical-Methods), the idea is to develop as much as possible over all the exercises. Everybody is encouraged to construct them own functions to aboard every single part of the exercises, but please do not hesitate in create small work teams in order to get across with ideas for supporting each other’s.\n",
    "As philosophy during the course, it is required for any proprietary algorithm to be evaluated with available trustable references. For such purpose, it has included some recommendations to inbuild Python library under disposal functions for comparison purposes.\n"
   ]
  },
  {
   "cell_type": "code",
   "execution_count": null,
   "metadata": {},
   "outputs": [],
   "source": []
  },
  {
   "cell_type": "markdown",
   "metadata": {},
   "source": [
    "### Algebra\n",
    "\n",
    "> #### Matrix invertion\n",
    "\n",
    "> Write a function called `matrix_inverse` which takes input parameters `A` as a square matrix type of any dimension, and returns the inverse of such matrix in the case it were invertible. In the case it were not invertible the function prints the statement \"Singular Matrix\" and returns `None`. "
   ]
  },
  {
   "cell_type": "markdown",
   "metadata": {},
   "source": [
    "> __Solution__:"
   ]
  },
  {
   "cell_type": "code",
   "execution_count": null,
   "metadata": {},
   "outputs": [],
   "source": []
  },
  {
   "cell_type": "markdown",
   "metadata": {},
   "source": [
    "### Numerical Differentiation\n",
    "\n",
    "> #### Central Difference Formula\n",
    "\n",
    "> Write a function called `derivatives` which takes input parameters $f$, $a$, $n$ and $h$ (with default value `h = 0.001`) and returns approximations of the derivatives $f'(a)$, $f''(a)$, $\\dots$, $f^{(n)}(a)$ (as a NumPy array) using the formula\n",
    "\n",
    "> $$\n",
    "f^{(n)}(a) \\approx \\frac{1}{2^n h^n} \\sum_{k=0}^n (-1)^k {n \\choose k} f \\left( a + ( n - 2k ) h \\right)\n",
    "$$\n",
    "\n",
    "> Use either `scipy.misc.factorial` or `scipy.misc.comb` to compare on the computations for $n$ choose $k$:\n",
    "\n",
    "> $$\n",
    "{n \\choose k} = \\frac{n!}{k!(n-k)!}\n",
    "$$"
   ]
  },
  {
   "cell_type": "markdown",
   "metadata": {},
   "source": [
    "> __Solution__:"
   ]
  },
  {
   "cell_type": "code",
   "execution_count": null,
   "metadata": {},
   "outputs": [],
   "source": []
  },
  {
   "cell_type": "markdown",
   "metadata": {},
   "source": [
    "> #### Taylor Polynomials\n",
    "\n",
    "> Write a function called `taylor` which takes input parameters $f$, $a$, $n$ and $L$ and plots both $f(x)$ and the Taylor polynomial $T_n(x)$ of $f(x)$ at $x=a$ of degree $n$\n",
    "\n",
    "> $$\n",
    "T_n(x) = \\sum_{k=0}^n \\frac{f^{(k)}(a)}{k!}(x - a)^k\n",
    "$$\n",
    "\n",
    "> on the interval $[a-L,a+L]$ (in the same figure).\n",
    "\n",
    ">* Apply the ideas presented in [Numerical Optimization Management for Embedded Systems - Oscar Hinojosa [Lecture Notes].ppt]() to find a more fast running implementation for the `taylor` proprietary function."
   ]
  },
  {
   "cell_type": "markdown",
   "metadata": {},
   "source": [
    "> __Solution__:"
   ]
  },
  {
   "cell_type": "code",
   "execution_count": null,
   "metadata": {},
   "outputs": [],
   "source": []
  },
  {
   "cell_type": "markdown",
   "metadata": {},
   "source": [
    "### Optimization\n",
    "\n",
    "> #### Newton's Method\n",
    "\n",
    "> Write a function called `newton` which takes input parameters $f$, $x_0$, $h$ (with default value 0.001), `tolerance` (with default value 0.001) and `max_iter` (with default value 100). The function implements Newton's method to approximate a solution of $f(x) = 0$. In other words, compute the values of the recursive sequence starting at $x_0$ and defined by\n",
    "\n",
    "> $$\n",
    "x_{n+1} = x_n - \\frac{f(x_n)}{f'(x_n)}\n",
    "$$\n",
    "\n",
    "> Use an propetary implemetation for the central difference formula with step size $h$ to approximate the derivative $f'(x_n)$. The desired result is that the method converges to an approximate root of $f(x)$ however there are several possibilities:\n",
    "\n",
    "> 1. The sequence reaches the desired tolerance $|f(x_n)| \\leq \\mathtt{tolerance}$ and <code>newton</code> returns the value $x_n$.\n",
    "> 2. The number of iterations exceeds the maximum number of iterations `max_iter`, the function prints the statement \"Maximum iterations exceeded\" and returns `None`.\n",
    "> 3. A zero derivative is computed $f'(x_n) = 0$, the function prints the statement \"Zero derivative\" and returns `None`."
   ]
  },
  {
   "cell_type": "markdown",
   "metadata": {},
   "source": [
    "> __Solution__:"
   ]
  },
  {
   "cell_type": "code",
   "execution_count": null,
   "metadata": {},
   "outputs": [],
   "source": []
  },
  {
   "cell_type": "markdown",
   "metadata": {},
   "source": [
    "### Numerical Integration\n",
    "\n",
    "> #### Trapezoid Rule\n",
    "\n",
    "> 1. Find $f''(x)$ for $f(x) = \\ln( \\ln x)$.\n",
    "> 2. Prove $|f''(x)| \\leq \\displaystyle \\frac{2}{e^2}$ for $x \\geq e$.\n",
    "> 3. Write a function called `log_log` which takes input parameters `u` and `abs_tolerance` such that $u \\geq e$ and `abs_tolerance` is a positive number (with default value 0.0001). The function uses the trapezoid rule to compute and return an approximation of the integral\n",
    "\n",
    "> $$\n",
    "\\int_e^u \\ln( \\ln x) dx\n",
    "$$\n",
    "\n",
    "> The number $N$ of subintervals used in the trapezoid rule must be large enough to guarantee that the approximation is within `abs_tolerance` of the true value. To compare with propietary function, may use `scipy.integrate.trapz`."
   ]
  },
  {
   "cell_type": "markdown",
   "metadata": {},
   "source": [
    "> __Solution__:"
   ]
  },
  {
   "cell_type": "code",
   "execution_count": null,
   "metadata": {},
   "outputs": [],
   "source": []
  },
  {
   "cell_type": "markdown",
   "metadata": {},
   "source": [
    "> #### Simpson's Rule\n",
    "\n",
    "> 1. Find $f''''(x)$ for $f(x) = e^{-x^2}$.\n",
    "> 2. Plot $f''''(x)$ for $x \\in [0,5]$. Determine a bound $M$ such that $|f''''(x)| \\leq M$ for $x \\geq 0$.\n",
    "> 3. Write a function called `erf` which takes input parameters `u` and `abs_tolerance` (with default value 0.0001) such that both are positive numbers. The function uses Simpson's rule to compute and return an approximation of the integral\n",
    "\n",
    "> $$\n",
    "\\int_0^u e^{-x^2} dx\n",
    "> $$\n",
    "\n",
    "> The number $N$ of subintervals used in Simpson's rule must be large enough to guarantee that the approximation is within `abs_tolerance` of the true value. To test on propietary function, may refer to `scipy.integrate.simps`"
   ]
  },
  {
   "cell_type": "markdown",
   "metadata": {},
   "source": [
    "> __Solution__:"
   ]
  },
  {
   "cell_type": "code",
   "execution_count": null,
   "metadata": {},
   "outputs": [],
   "source": []
  },
  {
   "cell_type": "markdown",
   "metadata": {},
   "source": [
    "> #### Arc length\n",
    "\n",
    "> Write a function called `arc_length` which takes parameters `f`, `a`, `b`, `h` and `N` and returns an approximation of the arc length of $f(x)$ from $a$ to $b$\n",
    "\n",
    "> $$\n",
    "L \\approx \\int_a^b \\sqrt{ 1 + \\left( f'(x) \\right)^2 } dx\n",
    "$$\n",
    "\n",
    "> The function uses the trapezoid rule (test with `scipy.integrate.trapz`) to estimate the integral and the central difference formula to approximate $f'(x)$. Note that is not posible to use the central difference formula at the endpoints because they use $x$ values outside the interval $[a,b]$ and the computational function may not be defined there."
   ]
  },
  {
   "cell_type": "markdown",
   "metadata": {},
   "source": [
    "> __Solution__:"
   ]
  },
  {
   "cell_type": "code",
   "execution_count": null,
   "metadata": {},
   "outputs": [],
   "source": []
  },
  {
   "cell_type": "markdown",
   "metadata": {},
   "source": [
    "### Differential Equations"
   ]
  },
  {
   "cell_type": "markdown",
   "metadata": {},
   "source": [
    "> #### Geometric Construction of The Forward Euler Method\n",
    "\n",
    "> The section [Understanding The Forward Euler method](https://github.com/Xiuhcoatl-013/Numerical-Methods/blob/master/notes/differential_equations/population_growth.ipynb) describes a geometric interpretation of the Forward Euler method. This exercise will demonstrate the geometric construction of the solution in detail. Consider the differential equation \n",
    "\n",
    "> $$u^{\\prime}=u$$ \n",
    "\n",
    "> with \n",
    "\n",
    "> $$u(0)=1$$\n",
    "\n",
    "> Using time steps $\\Delta t=1$\n",
    "\n",
    "> * Start at $t=0$ and draw a straight line with slope $u^{\\prime}(0)=u(0)=1 .$ Go one time step forward to $t=\\Delta t$ and mark the solution point on the line.\n",
    "> * Draw a straight line through the solution point $\\left(\\Delta t, u^{1}\\right)$ with slope $u^{\\prime}(\\Delta t)=u^{1}$. Go one time step forward to $t=2 \\Delta t$ and mark the solution point on the line.\n",
    "> * Draw a straight line through the solution point $\\left(2 \\Delta t, u^{2}\\right)$ with slope $u^{\\prime}(2 \\Delta t)=u^{2} .$ Go one time step forward to $t=3 \\Delta t$ and mark the solution point on the line.\n",
    "> * Set up the Forward Euler scheme for the problem $u^{\\prime}=u$. Calculate $u^{1}, u^{2}$, and $u^{3}$. Check that the numbers are the same as obtained in a)-c)."
   ]
  },
  {
   "cell_type": "markdown",
   "metadata": {},
   "source": [
    "> __Solution__:"
   ]
  },
  {
   "cell_type": "code",
   "execution_count": null,
   "metadata": {},
   "outputs": [],
   "source": []
  },
  {
   "cell_type": "markdown",
   "metadata": {},
   "source": [
    "> #### Lorenz Equations\n",
    "\n",
    "> The Lorenz equations are the system of nonlinear differential equations\n",
    "\n",
    "> $$\n",
    "\\begin{align}\n",
    "\\frac{dx}{dt} &= \\sigma(y - x) \\\\\\\n",
    "\\frac{dy}{dt} &= x(\\rho - z) - y \\\\\\\n",
    "\\frac{dz}{dt} &= xy - \\beta z\n",
    "\\end{align}\n",
    "$$\n",
    "\n",
    "> where $\\sigma$, $\\rho$ and $\\beta$ are positive numbers. Write a function called `lorenz` which takes input parameters `sigma`, `rho`, `beta`, `u0`, `t0`, `tf`, `N` and `plot_vars` (with default value `[0,1]`). The function computes and plots a numerical approximation of the corresponding solution of the Lorenz equations, may consider the use of `scipy.integrate.odeint` to test the propietary funtions. \n",
    "\n",
    "> The input parameters are:\n",
    "\n",
    "> * `sigma`, `rho` and `beta` define the parameters $\\sigma$, $\\rho$ and $\\beta$\n",
    "> * `u0` is a list of numbers of length 3 defining the initial conditions $[x(t_0),y(t_0),z(t_0)]$\n",
    "> * `t0` is the start of the interval of integration $[t_0,t_f]$\n",
    "> * `tf` is the end of the interval of integration $[t_0,t_f]$\n",
    "> * `N` is an integer specifying the number of evenly spaced points from $t_0$ to $t_f$ (inclusively) over which to compute the solution of the system\n",
    "> * `plot_vars` is a list of length 2 specifying which 2 components to plot where $x=0$, $y=1$ and $z=2$. For example, if `plot_vars` is $[0,1]$ then plot the solution $x$ versus $y$. If `plot_vars` is $[1,2]$ then plot the solution $y$ versus $z$. Note $x$ versus $y$ means $x$ is the horizontal axis and $y$ is the vertical. Default value is `[0,1]` which plots $x$ versus $y$.\n",
    "\n",
    "> The function `lorenz` returns a 2D NumPy array with 4 columns:\n",
    "\n",
    "> * column at index 0 is the array of $N$ evenly spaced $t$ values from $t_0$ to $t_f$ (inclusively)\n",
    "> * column at index 1 is the array of $x$ values of the solution\n",
    "> * column at index 2 is the array of $y$ values of the solution\n",
    "> * column at index 3 is the array of $z$ values of the solution\n",
    "\n",
    "> * Finally explore the 3D ploting, considering the three variables $x$, $y$ and $z$ together."
   ]
  },
  {
   "cell_type": "markdown",
   "metadata": {},
   "source": [
    "> __Solution__:"
   ]
  },
  {
   "cell_type": "code",
   "execution_count": null,
   "metadata": {},
   "outputs": [],
   "source": []
  },
  {
   "cell_type": "markdown",
   "metadata": {},
   "source": [
    "> #### Damped Oscillator\n",
    "\n",
    "> Write a function called `damping` which takes input parameters `m`, `b`, `k`, `F`, `u0`, `t0`, `tf` and `N` to compute a numerical approximation of the corresponding solution of the nonlinear damping equation:\n",
    "\n",
    "> $$\n",
    "m y'' + b |y'| y' + ky = F(t)\n",
    "$$\n",
    "\n",
    "> The input parameters are:\n",
    "\n",
    "> * `m`, `b` and `k` are positive numbers in the nonlinear damping equation\n",
    "> * `F` is a function of one variable $F(t)$ in the nonlinear damping equation\n",
    "> * `u0` is a list of numbers of length 2 defining the initial conditions $[y(t_0),y'(t_0)]$\n",
    "> * `t0` is the start of the interval of integration $[t_0,t_f]$\n",
    "> * `tf` is the end of the interval of integration $[t_0,t_f]$\n",
    "> * `N` is an integer specifying the number of evenly spaced points from $t_0$ to $t_f$ (inclusively) over which to compute the solution\n",
    "\n",
    "> The function `damping` plots the approximation of the solution $y(t)$ and returns a 2D Numpy array with 2 columns:\n",
    "\n",
    "> * column at index 0 is the array of $N$ evenly spaced $t$ values from $t_0$ to $t_f$ (inclusively)\n",
    "> * column at index 1 is the array of $y$ values of the solution \n",
    "\n",
    "> To compare with propietary function, may consider the use of `scipy.integrate.odeint` "
   ]
  },
  {
   "cell_type": "markdown",
   "metadata": {},
   "source": [
    "> __Solution__:"
   ]
  },
  {
   "cell_type": "code",
   "execution_count": null,
   "metadata": {},
   "outputs": [],
   "source": []
  }
 ],
 "metadata": {
  "kernelspec": {
   "display_name": "Python 3",
   "language": "python",
   "name": "python3"
  },
  "language_info": {
   "codemirror_mode": {
    "name": "ipython",
    "version": 3
   },
   "file_extension": ".py",
   "mimetype": "text/x-python",
   "name": "python",
   "nbconvert_exporter": "python",
   "pygments_lexer": "ipython3",
   "version": "3.7.6"
  }
 },
 "nbformat": 4,
 "nbformat_minor": 2
}
