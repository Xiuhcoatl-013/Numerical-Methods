{
 "cells": [
  {
   "cell_type": "markdown",
   "metadata": {},
   "source": [
    "# Arduino PID Control Tutorial\n",
    "\n",
    "__Table of Contents__\n",
    "1. Arduino PID Control Tutorial\n",
    "2. What is the PID?\n",
    "3. Proportional Control\n",
    "4. Integral Control\n",
    "5. Derivative Control\n",
    "6. Implementation of PID in code\n",
    "7. Arduino PID Library\n",
    "\n",
    "\n",
    "In control systems, a controller corrects the output of a particular system to a\n",
    "desired input in the presence of errors and disturbances. The most popular type of controller is PID, which is an acronym for Proportional, Integral and Derivative (Proportional, Integral and Derivative). In this Arduino PID control tutorial, we will show you, how you can use this type of controller in your project."
   ]
  },
  {
   "cell_type": "markdown",
   "metadata": {},
   "source": [
    "## What is a PID control?\n",
    "\n",
    "As mentioned earlier, PID is short for Proportional, Integral, and Derivative. The name comes from the methods of how this controller handles disturbances in the system. however, this type of controller is only found in feedback systems. We suggest reading a material written specifically for this topic, but We will do our best to explain it here as simply as possible.\n",
    "\n",
    "A feedback system is a system in which part of the output is \"feedback\" to the input. For example, you can have a project that controls the fire in the oven. Below we have a simple illustration:\n",
    "\n",
    "<br><br/>\n",
    "<p align=\"center\"><img src=\"images/Control_de_temperatura_con_PID.jpg\" style=\"width:50%\"></p>\n",
    "<center> Figure 1.$\\quad$ Temperature control with PID. </center>\n",
    "<br><br/>\n",
    "<br><br/>\n",
    "\n",
    "You want to keep the temperature in the oven until a certain point of arrival. A sensor installed in the oven determines the temperature at any time. This sensor, in this case, provides the feedback as a reference on the increase or decrease of the required temperature. The difference between the feedback sensor value and a temperature set point is the error."
   ]
  },
  {
   "cell_type": "markdown",
   "metadata": {},
   "source": [
    "## On-Off Control\n",
    "\n",
    "To give you an idea of the basic principles of PID, let’s compare On-Off control and PID. The most basic and straightforward method for controlling a system is the On-Off method. Most HVAC systems, refrigerators use this method. For example in a fridge, it cools the inside until the desired temperature is reached, and then turn off the cooler, until it reaches a set amount above the desired temperature. See the diagram below:\n",
    "\n",
    "\n",
    "\n",
    "<br><br/>\n",
    "<p align=\"center\"><img src=\"images/on-off-control.jpg\" style=\"width:50%\"></p>\n",
    "<center> Figure 3.$\\quad$ On-Off Control. </center>\n",
    "<br><br/>\n",
    "<br><br/>"
   ]
  },
  {
   "cell_type": "markdown",
   "metadata": {},
   "source": [
    "## How PID Control is Different\n",
    "\n",
    "PID control uses a different approach and achieves a better result. Let’s go back to our fridge example, instead of turning the cooling unit fully on and fully off, a PID controller will adjust how hard the cooling unit is working to that the temperature stays as close as possible to the desired value, with little variation:\n",
    "\n",
    "\n",
    "\n",
    "<br><br/>\n",
    "<p align=\"center\"><img src=\"images/pid_performance.png\" style=\"width:50%\"></p>\n",
    "<center> Figure 3.$\\quad$ PID Controller Performance. </center>\n",
    "<br><br/>\n",
    "<br><br/>\n",
    "\n",
    "\n",
    "\n",
    "Under the hood, what it’s doing is finding the difference (a.k.a error) between the desired temperature and the actual measured temperature, and then determining how much heating/cooling to apply to get it to our desired temperature while minimizing the overshot. So 3 “simple” words: Proportional, Integral and Derivative. Useful, right? "
   ]
  },
  {
   "cell_type": "markdown",
   "metadata": {},
   "source": [
    "## Proportional Control\n",
    "\n",
    "Proportional control refers to a review that is proportional to the magnitude of the error. Let's say the controller in our example is an electronic valve to control the fuel to the furnace. If the error is small, the valve will release a small amount of fuel to match the set point and feedback. If the error is large, the valve should release more fuel."
   ]
  },
  {
   "cell_type": "markdown",
   "metadata": {},
   "source": [
    "## Integral Control\n",
    "\n",
    "Proportional control produces a shift in its correction due to disturbances. The Integral controller has the ability to eliminate this offset and reset the error to zero. This controller produces an adjustment that is based on the accumulated error over time. Without comprehensive monitoring, the system cannot cope with error trends.\n",
    "\n",
    "Using our example above, a drift may be present when the fuel valve did not return to its original position when its fuel output was increased and then decreased. The integral controller will detect this and turn the fuel valve to its original position."
   ]
  },
  {
   "cell_type": "markdown",
   "metadata": {},
   "source": [
    "## Derivative Control\n",
    "\n",
    "Finally, the Derivatives control deals with the rate of change of the error. If the integral control examines the history of the error, the derived control predicts the error. Basically, the amount of correction will be based on how quickly the error changes. This type of controller works best with dynamic errors that proportional and integral controllers cannot deal with.\n",
    "\n",
    "Let's say the temperature in the oven goes from 130 ° C to 140 ° C against a set point of 120 ° C in 2 seconds. The proportional and integral controllers will respond to the magnitude of the error, but they will have a hard time catching up on how quickly the error occurred. The derivative controller can deal with this because it has been observing the rate of change of the error from the beginning."
   ]
  },
  {
   "cell_type": "markdown",
   "metadata": {},
   "source": [
    "## A feedback system with a PID controller:\n",
    "\n",
    "<br><br/>\n",
    "<p align=\"center\"><img src=\"images/sistema-de-retroalimentación-con-un-controlador-PID.jpg\" style=\"width:70%\"></p>\n",
    "<center> Figure 2.$\\quad$ Feedback System with a PID Controller. </center>\n",
    "<br><br/>\n",
    "<br><br/>\n",
    "\n",
    "Here the input variable or set point is $r (t)$, the output variable is $y (t)$, the controlled variable is $u(t)$ and the error is $e(t)$. Continuing with our oven example, $r(t)$ would be the desired temperature and $y(t)$ is the actual temperature; $\\mathrm{e}(\\mathrm{t})$ is the difference between the desired temperature and the actual temperature; $u(t) $ is the sum of the corrections of the PID controllers that is fed to the plant that is the fuel valve.\n",
    "\n",
    "Please note that a PID controller cannot be used out of the box. Tuning must be done to ensure the desired performance is achieved. This is done by carefully changing the constants $\\mathrm {K}$ as shown in the diagram above. These constants must be determined in advance and modified based on the actual response of the system until optimal values are reached.\n",
    "\n",
    "PID control is a great tool to have in your toolbelt since it’s the foundation of a bunch of cool applications where minimal variation of the system is critical. For example, flight controllers, incubators, levitating ping-pong balls, cruise control, soldering irons and much more!"
   ]
  },
  {
   "cell_type": "markdown",
   "metadata": {},
   "source": [
    "## PID implementation in code\n",
    "\n",
    "To implement a PID controller in an Arduino code or program, five parameters must be known: proportional, integral and derivative constants, input value, and arrival value.\n",
    "\n",
    "The PID calculation must be within a loop function. The first part of the function should be to determine the elapsed time. On Arduino, the current time can be determined by ___millis ()___ and the elapsed time is just:"
   ]
  },
  {
   "cell_type": "code",
   "execution_count": 8,
   "metadata": {},
   "outputs": [
    {
     "ename": "NameError",
     "evalue": "name 'millis' is not defined",
     "output_type": "error",
     "traceback": [
      "\u001b[1;31m---------------------------------------------------------------------------\u001b[0m",
      "\u001b[1;31mNameError\u001b[0m                                 Traceback (most recent call last)",
      "\u001b[1;32m<ipython-input-8-8fa8162ccd63>\u001b[0m in \u001b[0;36m<module>\u001b[1;34m\u001b[0m\n\u001b[1;32m----> 1\u001b[1;33m \u001b[0mcurrentTime\u001b[0m \u001b[1;33m=\u001b[0m \u001b[0mmillis\u001b[0m\u001b[1;33m(\u001b[0m\u001b[1;33m)\u001b[0m\u001b[1;33m;\u001b[0m\u001b[1;33m\u001b[0m\u001b[1;33m\u001b[0m\u001b[0m\n\u001b[0m\u001b[0;32m      2\u001b[0m \u001b[0melapsedTime\u001b[0m \u001b[1;33m=\u001b[0m \u001b[0mcurrentTime\u001b[0m \u001b[1;33m-\u001b[0m \u001b[0mpreviousTime\u001b[0m\u001b[1;33m;\u001b[0m\u001b[1;33m\u001b[0m\u001b[1;33m\u001b[0m\u001b[0m\n",
      "\u001b[1;31mNameError\u001b[0m: name 'millis' is not defined"
     ]
    }
   ],
   "source": [
    "currentTime = millis();\n",
    "elapsedTime = currentTime - previousTime;"
   ]
  },
  {
   "cell_type": "markdown",
   "metadata": {},
   "source": [
    "Next, the error must be determined:"
   ]
  },
  {
   "cell_type": "code",
   "execution_count": null,
   "metadata": {},
   "outputs": [],
   "source": [
    "error = setPoint - input;"
   ]
  },
  {
   "cell_type": "markdown",
   "metadata": {},
   "source": [
    "Remember that the integral of the error is the cumulative error in time:"
   ]
  },
  {
   "cell_type": "code",
   "execution_count": null,
   "metadata": {},
   "outputs": [],
   "source": [
    "cumError += error * elapsedTime;"
   ]
  },
  {
   "cell_type": "markdown",
   "metadata": {},
   "source": [
    "The derivative of the error is the rate of change of the error:"
   ]
  },
  {
   "cell_type": "code",
   "execution_count": null,
   "metadata": {},
   "outputs": [],
   "source": [
    "rateError = (error - lastError)/elapsedTime;"
   ]
  },
  {
   "cell_type": "markdown",
   "metadata": {},
   "source": [
    "Lastly, the calculated output is:"
   ]
  },
  {
   "cell_type": "code",
   "execution_count": null,
   "metadata": {},
   "outputs": [],
   "source": [
    "output = Kp * error + Ki * cumError + Kd * rateError;"
   ]
  },
  {
   "cell_type": "markdown",
   "metadata": {},
   "source": [
    "Here, the Kp, Ki, and Kd are the default constants.\n",
    "\n",
    "Finally, the variables must be annotated for the next iteration:"
   ]
  },
  {
   "cell_type": "code",
   "execution_count": null,
   "metadata": {},
   "outputs": [],
   "source": [
    "lastError = error;\n",
    "previousTime = currentTime;"
   ]
  },
  {
   "cell_type": "markdown",
   "metadata": {},
   "source": [
    "Let's try a more concrete example. Imagine a wheel attached to a motor. We want the wheel to remain in the indicated position:\n",
    "\n",
    "<br><br/>\n",
    "<p align=\"center\"><img src=\"images/ejemplo-PID-rueda.jpg\" style=\"width:50%\"></p>\n",
    "<center> Figure 3.$\\quad$ Example of a PID Controller. </center>\n",
    "<br><br/>\n",
    "<br><br/>\n",
    "\n",
    "A rotary encoder on the wheel gives the angle in degrees of the current position of the wheel. At the desired position of the wheel, the angle is zero.\n",
    "\n",
    "What we want is for the motor to turn when the wheel is out of position. In addition, the motor is controlled through pulse width modulation. The wider the pulse, the further the motor spins.\n",
    "\n",
    "Next, let's implement this simple control system using an Arduino. Here is the code:"
   ]
  },
  {
   "cell_type": "code",
   "execution_count": null,
   "metadata": {},
   "outputs": [],
   "source": [
    "//PID constants\n",
    "double kp = 2\n",
    "double ki = 5\n",
    "double kd = 1\n",
    "\n",
    "unsigned long currentTime, previousTime;\n",
    "double elapsedTime;\n",
    "double error;\n",
    "double lastError;\n",
    "double input, output, setPoint;\n",
    "double cumError, rateError;\n",
    "\n",
    "void setup(){}\n",
    "\n",
    "void loop(){\n",
    "input = analogRead(A0); //read from rotary encoder connected to A0\n",
    "output = computePID(input);\n",
    "delay(100);\n",
    "analogWrite(3, output); //control the motor based on PID value\n",
    "\n",
    "}\n",
    "\n",
    "double computePID(double inp){\n",
    "currentTime = millis(); //get current time\n",
    "elapsedTime = (double)(currentTime - previousTime); //compute time elapsed from previous computation\n",
    "\n",
    "error = Setpoint - inp; // determine error\n",
    "cumError += error * elapsedTime; // compute integral\n",
    "rateError = (error - lastError)/elapsedTime; // compute derivative\n",
    "\n",
    "double out = kp*error + ki*cumError + kd*rateError; //PID output\n",
    "\n",
    "lastError = error; //remember current error\n",
    "previousTime = currentTime; //remember current time\n",
    "\n",
    "return out; //have function return the PID output\n",
    "}"
   ]
  },
  {
   "cell_type": "markdown",
   "metadata": {},
   "source": [
    "In the loop function, the rotary encoder determines the current position of the wheel and its output value becomes a parameter for the computePID () function. This function returns a value to control the motor using PWM."
   ]
  },
  {
   "cell_type": "markdown",
   "metadata": {},
   "source": [
    "## Arduino PID Library\n",
    "\n",
    "We can further simplify the use of PIDs in Arduino projects with the help of Brett Beauregard's PID library. The library only requires you to specify the values ​​of kd, ki, kp and setpoint and you are good to go.\n",
    "\n",
    "Here is the PID_Basic.ino code that comes with the library. This code basically provides the same output as the code we provided above, but better:"
   ]
  },
  {
   "cell_type": "code",
   "execution_count": null,
   "metadata": {},
   "outputs": [],
   "source": [
    "#include <PID_v1.h>\n",
    "\n",
    "#define PIN_INPUT 0\n",
    "#define PIN_OUTPUT 3\n",
    "\n",
    "//Define Variables we'll be connecting to\n",
    "double Setpoint, Input, Output;\n",
    "\n",
    "//Specify the links and initial tuning parameters\n",
    "double Kp=2, Ki=5, Kd=1;\n",
    "PID myPID(&Input, &Output, &Setpoint, Kp, Ki, Kd, DIRECT);\n",
    "\n",
    "void setup()\n",
    "{\n",
    "//initialize the variables we're linked to\n",
    "Input = analogRead(PIN_INPUT);\n",
    "Setpoint = 100;\n",
    "\n",
    "//turn the PID on\n",
    "myPID.SetMode(AUTOMATIC);\n",
    "}\n",
    "\n",
    "void loop()\n",
    "{\n",
    "Input = analogRead(PIN_INPUT);\n",
    "myPID.Compute();\n",
    "analogWrite(PIN_OUTPUT, Output);\n",
    "}"
   ]
  },
  {
   "cell_type": "markdown",
   "metadata": {},
   "source": [
    "Here you can create a PID class and have as parameters the input, output, setpoint and k constants. To calculate the PID, just call the Compute () function. It also contains a SetMode () function that enables (AUTOMATIC) or disables (MANUAL) the PID. The complete list of functions used by the library can be found here [Arduino PID Library](https://playground.arduino.cc/Code/PIDLibrary/).\n",
    "\n",
    "We have said that the above code is better than the one provided because it _\"suppose to consider\"_ the limitations of the PID which is beyond the scope of this tutorial."
   ]
  },
  {
   "cell_type": "markdown",
   "metadata": {},
   "source": [
    "<br><br/>\n",
    "<p align=\"center\"><img style=\"float: right; margin: 0px 0px 15px 15px;\" src=\"images/Digital_PID_controller.png\" style=\"width:70%\"></p>\n",
    "<center> Figure 4.$\\quad$ Digitally Controlled Switched-Mode Power Converter. </center>\n",
    "<br><br/>\n",
    "<br><br/>\n"
   ]
  },
  {
   "cell_type": "markdown",
   "metadata": {},
   "source": [
    "# Dynamic Simulation in Python\n",
    "\n",
    "A step response is a common evaluation of the dynamics of a simulated system. A linear time invariant (LTI) system can be described equivalently as a transfer function, a state space model, or solved numerically with and ODE integrator. This tutorial shows how to simulate a first and second order system in Python.\n",
    "\n",
    "## Generic First Order System Simulation\n",
    "Consider a first order differential equation with constants $K_{p}=3$ and $\\tau_{p}=2$, input $u$, and output response $y$\n",
    "\n",
    "$$\n",
    "\\tau_{p} \\frac{d y}{d t}=-y+K_{p} u\n",
    "$$\n",
    "\n",
    "Three methods to represent this differential equation is as a \n",
    "\n",
    "*  1. Transfer Function\n",
    "\n",
    "$$\n",
    "\\frac{Y(s)}{U(s)}=\\frac{K_{p}}{\\tau_{p} s+1}\n",
    "$$\n",
    "\n",
    "\n",
    "\n",
    "* 2. State Space Model\n",
    "\n",
    "$$\n",
    "\\begin{aligned}\n",
    "\\dot{x} &=A x+B u \\\\\n",
    "y &=C x+D u \\\\\n",
    "A=-\\frac{1}{\\tau_{p}} \\quad B &=\\frac{K_{p}}{\\tau_{p}} \\quad C=1 \\quad D=0\n",
    "\\end{aligned}\n",
    "$$\n",
    "\n",
    "\n",
    "\n",
    "* 3. Semi-Explicit Differential Equation\n",
    "\n",
    "$$\n",
    "\\frac{d y}{d t}=-\\frac{1}{\\tau_{p}} y+\\frac{K_{p}}{\\tau_{p}} u\n",
    "$$\n",
    "\n",
    "Source code is included below to simulate a step response in these three forms."
   ]
  },
  {
   "cell_type": "code",
   "execution_count": 12,
   "metadata": {},
   "outputs": [
    {
     "data": {
      "image/png": "[encoded data removed]",
      "text/plain": [
       "<Figure size 432x288 with 1 Axes>"
      ]
     },
     "metadata": {
      "needs_background": "light"
     },
     "output_type": "display_data"
    }
   ],
   "source": [
    "import numpy as np\n",
    "from scipy import signal\n",
    "import matplotlib.pyplot as plt\n",
    "from scipy.integrate import odeint\n",
    "\n",
    "# Simulate taup * dy/dt = -y + K*u\n",
    "Kp = 3.0\n",
    "taup = 2.0\n",
    "\n",
    "# (1) Transfer Function\n",
    "num = [Kp]\n",
    "den = [taup,1]\n",
    "sys1 = signal.TransferFunction(num,den)\n",
    "t1,y1 = signal.step(sys1)\n",
    "\n",
    "# (2) State Space\n",
    "A = -1.0/taup\n",
    "B = Kp/taup\n",
    "C = 1.0\n",
    "D = 0.0\n",
    "sys2 = signal.StateSpace(A,B,C,D)\n",
    "t2,y2 = signal.step(sys2)\n",
    "\n",
    "# (3) DEFIRENTIAL EQUATION MODEL\n",
    "def model3(y,t):\n",
    "    u = 1\n",
    "    return (-y + Kp * u)/taup\n",
    "t3 = np.linspace(0,14,100)\n",
    "y3 = odeint(model3,0,t3)\n",
    "\n",
    "plt.figure(1)\n",
    "plt.plot(t1,y1,'b--',linewidth=3,label='Transfer Fcn')\n",
    "plt.plot(t2,y2,'g:',linewidth=2,label='State Space')\n",
    "plt.plot(t3,y3,'r-',linewidth=1,label='ODE Integrator')\n",
    "plt.xlabel('Time')\n",
    "plt.ylabel('Response (y)')\n",
    "plt.legend(loc='best')\n",
    "plt.show()"
   ]
  },
  {
   "cell_type": "markdown",
   "metadata": {},
   "source": [
    "## Generic Second Order System Simulation\n",
    "\n",
    "* 1. Laplace Domain, Transfer Function\n",
    "\n",
    "$$\n",
    "\\frac{Y(s)}{U(s)}=\\frac{K_{p}}{\\tau_{s}^{2} s^{2}+2 \\zeta \\tau_{s} s+1} e^{-\\theta_{p^{8}}}\n",
    "$$\n",
    "\n",
    "\n",
    "\n",
    "* 2. State Space Form\n",
    "\n",
    "$$\n",
    "\\begin{array}{c}\n",
    "{\\left[\\begin{array}{c}\n",
    "\\dot{x}_{1} \\\\\n",
    "\\dot{x}_{2}\n",
    "\\end{array}\\right]=\\left[\\begin{array}{cc}\n",
    "0 & 1 \\\\\n",
    "-\\frac{1}{\\tau_{2}^{2}} & -\\frac{2 \\zeta}{\\tau_{s}}\n",
    "\\end{array}\\right]\\left[\\begin{array}{l}\n",
    "x_{1} \\\\\n",
    "x_{2}\n",
    "\\end{array}\\right]+\\left[\\begin{array}{c}\n",
    "0 \\\\\n",
    "\\frac{K_{p}}{\\tau_{2}^{2}}\n",
    "\\end{array}\\right] u\\left(t-\\theta_{p}\\right)} \\\\\n",
    "y=\\left[\\begin{array}{cc}\n",
    "1 & 0\n",
    "\\end{array}\\right]\\left[\\begin{array}{l}\n",
    "x_{1} \\\\\n",
    "x_{2}\n",
    "\\end{array}\\right]+[0] u\n",
    "\\end{array}\n",
    "$$\n",
    "\n",
    "\n",
    "\n",
    "* 3. Second Order Differential Equation\n",
    "\n",
    "$$\n",
    "\\tau_{s}^{2} \\frac{d^{2} y}{d t^{2}}+2 \\zeta \\tau_{s} \\frac{d y}{d t}+y=K_{p} u\\left(t-\\theta_{p}\\right)\n",
    "$$"
   ]
  },
  {
   "cell_type": "code",
   "execution_count": 16,
   "metadata": {},
   "outputs": [
    {
     "data": {
      "image/png": "[encoded data removed]",
      "text/plain": [
       "<Figure size 432x288 with 1 Axes>"
      ]
     },
     "metadata": {
      "needs_background": "light"
     },
     "output_type": "display_data"
    }
   ],
   "source": [
    "import numpy as np\n",
    "from scipy import signal\n",
    "import matplotlib.pyplot as plt\n",
    "from scipy.integrate import odeint\n",
    "\n",
    "# tau * dy2/dt2 + 2*zeta*tau*dy/dt + y = Kp*u\n",
    "Kp = 1.0    # gain\n",
    "tau = 3.0   # time constant\n",
    "zeta = 0.25 # damping factor\n",
    "theta = 0.0 # no time delay\n",
    "du = 1.0    # change in u\n",
    "\n",
    "# (1) Transfer Function\n",
    "num = [Kp]\n",
    "den = [tau**2,2*zeta*tau,1]\n",
    "sys1 = signal.TransferFunction(num,den)\n",
    "t1,y1 = signal.step(sys1)\n",
    "\n",
    "# (2) State Space\n",
    "A = [[0.0,1.0],[-1.0/tau**2,-2.0*zeta/tau]]\n",
    "B = [[0.0],[Kp/tau**2]]\n",
    "C = [1.0,0.0]\n",
    "D = 0.0\n",
    "sys2 = signal.StateSpace(A,B,C,D)\n",
    "t2,y2 = signal.step(sys2)\n",
    "\n",
    "# (3) ODE Integrator\n",
    "def model3(x,t):\n",
    "    y = x[0]\n",
    "    dydt = x[1]\n",
    "    dy2dt2 = (-2.0*zeta*tau*dydt - y + Kp*du)/tau**2\n",
    "    return [dydt,dy2dt2]\n",
    "\n",
    "\n",
    "\n",
    "t3 = np.linspace(0,25,100)\n",
    "x3 = odeint(model3,[0,0],t3)\n",
    "y3 = x3[:,0]\n",
    "\n",
    "plt.figure(1)\n",
    "plt.plot(t1,y1*du,'b--',linewidth=3,label='Transfer Fcn')\n",
    "plt.plot(t2,y2*du,'g:',linewidth=2,label='State Space')\n",
    "plt.plot(t3,y3,'r-',linewidth=1,label='ODE Integrator')\n",
    "y_ss = Kp * du\n",
    "plt.plot([0,max(t1)],[y_ss,y_ss],'k:')\n",
    "plt.xlim([0,max(t1)])\n",
    "plt.xlabel('Time')\n",
    "plt.ylabel('Response (y)')\n",
    "plt.legend(loc='best')\n",
    "plt.savefig('images/2nd_order.png')\n",
    "plt.show()"
   ]
  },
  {
   "cell_type": "markdown",
   "metadata": {},
   "source": [
    "## Higher Order Simulation [Under Construction...]\n",
    "\n",
    "A simple higher order simulation is the combination of $n$ first order equations. The value of the time constant is $10/n$ in this example. The first equation is a first order differential expression.\n",
    "\n",
    "$$\n",
    "\\tau \\frac{d y_{1}}{d t}=-y_{1}+1\n",
    "$$\n",
    "\n",
    "Additional equations are also first order differential expressions for $i=2,3,...,n-1,n$.\n",
    "\n",
    "$$\n",
    "\\tau \\frac{d y_{i}}{d t}=-y_{i}+y_{i-1}\n",
    "$$"
   ]
  },
  {
   "cell_type": "markdown",
   "metadata": {},
   "source": [
    "# PID Controller Simulator\n",
    "\n",
    "A simulator is a useful tool to help evaluate changes in tuning before testing on a physical system. Use the PID simulator to find acceptable control performance that minimizes the integral absolute error between the setpoint and measured temperature. \n",
    "\n",
    "\n"
   ]
  },
  {
   "cell_type": "markdown",
   "metadata": {},
   "source": [
    "## Python Simple PID Controller Simulator\n",
    "It's a simple PID simulator in Python.</br>\n",
    "\n",
    "You can set kp, ki, kd, setpoint, dt, and the function will return a value.</br></br>\n",
    "\n",
    "\n",
    "The pid formula should be: </br></br>\n",
    "\n",
    "$$\n",
    "u(t)=K_{\\mathrm{p}} e(t)+K_{\\mathrm{i}} \\int_{0}^{t} e(\\tau) d \\tau+K_{\\mathrm{d}} \\frac{d e(t)}{d t}\n",
    "$$\n",
    "\n",
    "And what it looks like in Python:"
   ]
  },
  {
   "cell_type": "code",
   "execution_count": null,
   "metadata": {},
   "outputs": [],
   "source": [
    "import numpy as np\n",
    "import time\n",
    "import matplotlib.pyplot as plt\n",
    "from scipy.integrate import odeint\n",
    "\n",
    "\n",
    "\n",
    "# PID Parameters\n",
    "Kc   = 5.0\n",
    "tauI = 120.0 # sec\n",
    "tauD = 2.0   # sec\n",
    "\n",
    "#-----------------------------------------\n",
    "# PID Controller\n",
    "#-----------------------------------------\n",
    "# inputs ---------------------------------\n",
    "# sp = setpoint\n",
    "# sample = current plant sensing\n",
    "# sample_last = prior plant sensing\n",
    "# ierr = integral error\n",
    "# dt = time increment between measurements\n",
    "# outputs --------------------------------\n",
    "# ctrl_op = output of the PID controller\n",
    "# P = proportional contribution\n",
    "# I = integral contribution\n",
    "# D = derivative contribution\n",
    "def pid(sp,pv,pv_last,ierr,dt):\n",
    "    # Parameters in terms of PID coefficients\n",
    "    KP = Kp\n",
    "    KI = Kp/tauI\n",
    "    KD = Kp*tauD\n",
    "    # ubias for controller (initial condition)\n",
    "    ctrl_op0 = 0\n",
    "    # upper and lower bounds on Plant output level\n",
    "    ophi = 100\n",
    "    oplo = 0\n",
    "    # calculate the error\n",
    "    error = sp-sample\n",
    "    # calculate the integral error\n",
    "    ierr = ierr + KI * error * dt\n",
    "    # calculate the measurement derivative\n",
    "    dsample = (sample - sample_last) / dt\n",
    "    # calculate the PID output\n",
    "    P = KP * error\n",
    "    I = ierr\n",
    "    D = -KD * dsample\n",
    "    ctrl_op = ctrl_op0 + P + I + D\n",
    "    # implement anti-reset windup\n",
    "    if ctrl_op < oplo or ctrl_op > ophi:\n",
    "        I = I - KI * error * dt\n",
    "        # clip output\n",
    "        ctrl_op = max(oplo,min(ophi,op))\n",
    "    # return the controller output and PID contribution terms\n",
    "    return [ctrl_op,P,I,D]"
   ]
  },
  {
   "cell_type": "markdown",
   "metadata": {},
   "source": [
    "## PID Controller Callibration"
   ]
  },
  {
   "cell_type": "markdown",
   "metadata": {},
   "source": [
    "### Ziegler–Nichols method\n",
    "\n",
    "\n",
    "The [Ziegler-Nichols](http://www.mstarlabs.com/control/znrule.html) tuning method is a heuristic method of tuning a PID controller. It was developed by John G. Ziegler and Nathaniel B. Nichols. It is performed by setting the $I$ (integral) and $D$ (derivative) gains to zero. The $P$ (proportional) gain, $K_{p}$ is then increased (from zero) until it reaches the ultimate gain $K_{u}$, at which the output of the control loop has stable and consistent oscillations. $K_{u}$ and the oscillation\n",
    "period $T_{u}$ are then used to set the $P$, I, and D gains depending on the type of controller used and behaviour desired:\n",
    "\n",
    "__Table. Ziegler–Nichols Method__\n",
    "$$\n",
    "\\begin{array}{|c|c|c|c|c|c|}\n",
    "\\hline \\text { Control Type } & K_{p} & T_{i} & T_{d} & K_{i} & K_{d} \\\\\n",
    "\\hline \\mathrm{P} & 0.5 K_{\\mathrm{u}} & - & - & - & - \\\\\n",
    "\\hline \\mathrm{PI} & 0.45 K_{u} & T_{u} / 1.2 & - & 0.54 K_{u} / T_{u} & - \\\\\n",
    "\\hline \\mathrm{PD} & 0.8 K_{u} & - & T_{u} / 8 & - & K_{u} T_{u} / 10 \\\\\n",
    "\\hline \\text { classic PID }^{[2]} & 0.6 K_{u} & T_{u} / 2 & T_{u} / 8 & 1.2 K_{u} / T_{u} & 3 K_{u} T_{u} / 40 \\\\\n",
    "\\hline \\text { Pessen Integral Rule }^{[2]} & 7 K_{u} / 10 & 2 T_{u} / 5 & 3 T_{u} / 20 & 1.75 K_{u} / T_{u} & 21 K_{u} T_{u} / 200 \\\\\n",
    "\\hline \\text { some overshoot }[2] & K_{u} / 3 & T_{u} / 2 & T_{u} / 3 & 0.666 K_{u} / T_{u} & K_{u} T_{u} / 9 \\\\\n",
    "\\hline \\text { no overshoot }[2] & K_{u} / 5 & T_{u} / 2 & T_{u} / 3 & (2 / 5) K_{u} / T_{u} & K_{u} T_{u} / 15 \\\\\n",
    "\\hline\n",
    "\\end{array}\n",
    "$$\n",
    "\n",
    "The ultimate gain $\\left(K_{u}\\right)$ is defined as $1 / \\mathrm{M},$ where $\\mathrm{M}=$ the amplitude ratio, $K_{i}=K_{p} / T_{i}$ and $K_{d}=K_{p} T_{d}$\n",
    "These 3 parameters are used to establish the correction $u(t)$ from the error $e(t)$ via the equation:\n",
    "\n",
    "$$\n",
    "u(t)=K_{p}\\left(e(t)+\\frac{1}{T_{i}} \\int_{0}^{t} e(\\tau) d \\tau+T_{d} \\frac{d e(t)}{d t}\\right)\n",
    "$$\n",
    "which has the following transfer function relationship between error and controller output:\n",
    "$$\n",
    "u(s)=K_{p}\\left(1+\\frac{1}{T_{i} s}+T_{d} s\\right) e(s)=K_{p}\\left(\\frac{T_{d} T_{i} s^{2}+T_{i} s+1}{T_{i} s}\\right) e(s)\n",
    "$$\n",
    "\n",
    "<br><br/>\n",
    "<p align=\"center\"><img style=\"float: center; margin: 0px 0px 15px 15px;\" src=\"images/pid_performance.png\" style=\"width:70%\"></p>\n",
    "<center> Figure.$\\quad$ PID in time domine performance. </center>\n",
    "<br><br/>\n",
    "<br><br/>"
   ]
  },
  {
   "cell_type": "markdown",
   "metadata": {},
   "source": [
    "## PID Tuning\n",
    "\n",
    "A PID controller takes in parameters that affect it’s responsiveness and, consequently, how much it overshoots the set-point. Notice the three different lines in the diagram above? Each of them have different tuning parameters. Usually, it requires a little bit of experimentation to tune a PID controller for your use case.\n",
    "\n",
    "\n",
    "\n",
    "<br><br/>\n",
    "<p align=\"center\"><img style=\"float: center; margin: 0px 0px 15px 15px;\" src=\"images/pid_tuning.png\" style=\"width:70%\"></p>\n",
    "<center> Figure.$\\quad$ PID tuning. </center>\n",
    "<br><br/>\n",
    "<br><br/>"
   ]
  },
  {
   "cell_type": "markdown",
   "metadata": {},
   "source": [
    "### General Effect due to Gain Changing\n",
    "\n",
    "$$\n",
    "\\begin{array}{llll}\n",
    "\\text { PID Gain } & \\text { Percent } & & \\text { Steady-State } \\\\\n",
    "& \\text { Overshoot } & \\text { Settling Time } & \\text { Error } \\\\\n",
    "\\hline \\text { Increasing } K_{P} & \\text { Increases } & \\text { Minimal impact } & \\text { Decreases } \\\\\n",
    "\\text { Increasing } K_{i} & \\text { Increases } & \\text { Increases } & \\text { Zero steady-state error } \\\\\n",
    "\\text { Increasing } K_{D} & \\text { Decreases } & \\text { Decreases } & \\text { No impact } \\\\\n",
    "\\hline\n",
    "\\end{array}\n",
    "$$"
   ]
  },
  {
   "cell_type": "markdown",
   "metadata": {},
   "source": [
    "### Ziegler-Nichols Method Evaluation\n",
    "The Ziegler-Nichols tuning (represented by the 'Classic PID' equations in the table above) creates a \"quarter wave decay\". This is an acceptable result for some purposes, but not optimal for all applications.\n",
    "\n",
    "This tuning rule is meant to give PID loops best disturbance rejection.\n",
    "\n",
    "It yields an aggressive gain and overshoot - some applications wish to instead minimize or eliminate overshoot, and for these this method is inappropriate. In this case, the equations from the row labelled 'no overshoot' can be used to compute appropriate controller gains."
   ]
  },
  {
   "cell_type": "markdown",
   "metadata": {},
   "source": [
    "## PID Controller Callibration  [Type I]\n",
    "\n",
    "Using just the $K_p$ parameter, and the integral and derivative time contants [$\\tau_i$, $\\tau_d$]"
   ]
  },
  {
   "cell_type": "code",
   "execution_count": 17,
   "metadata": {
    "scrolled": false
   },
   "outputs": [
    {
     "data": {
      "application/vnd.jupyter.widget-view+json": {
       "model_id": "e59b5bb8915842f6ae0ef47260db21ba",
       "version_major": 2,
       "version_minor": 0
      },
      "text/plain": [
       "interactive(children=(FloatSlider(value=5.0, description='Kc', max=50.0, step=0.5), FloatSlider(value=100.0, d…"
      ]
     },
     "metadata": {},
     "output_type": "display_data"
    },
    {
     "name": "stdout",
     "output_type": "stream",
     "text": [
      "PID Simulator: Adjust Kc, tauI, and tauD to achieve lowest Integral Abs Error\n"
     ]
    }
   ],
   "source": [
    "import numpy as np\n",
    "%matplotlib inline\n",
    "import matplotlib.pyplot as plt\n",
    "from scipy.integrate import odeint\n",
    "import ipywidgets as wg\n",
    "from IPython.display import display\n",
    "\n",
    "n = 1301 # time points to plot\n",
    "tf = n - 1.0 # final time\n",
    "\n",
    "# Temp Control Lab FOPDT \n",
    "# [TCLab](https://www.amazon.com/TCLab-Laboratorio-Control-Temperatura/dp/B07GMFWMRY)\n",
    "# A first-order plus deadtime (FOPDT) model is a simple \n",
    "# approximation of the dynamic response (the transient \n",
    "# or time-response) of a process variable to an influence. \n",
    "# It's also called first-order lag plus deadtime (FOLPDT), \n",
    "# or “deadtime” may be replaced with “delay,” \n",
    "# changing the acronym to FOLPD.\n",
    "\n",
    "K_plant = 0.9\n",
    "tau_plant = 175.0\n",
    "theta_plant = 15.0\n",
    "\n",
    "ramp    = lambda m,x_init,y_init,t: m*(t-x_init) + y_init\n",
    "sinwave = lambda A,offset,t: A*np.sin(t)+offset\n",
    "\n",
    "\n",
    "def process(y,t,u):\n",
    "    dydt = (1.0/tau_plant) * (-(y-23.0) + K_plant * u)\n",
    "    return dydt\n",
    "\n",
    "def pidPlot(Kc,tauI,tauD):\n",
    "    y0 = 23.0                # initial condition\n",
    "    t  = np.linspace(0,tf,n) # create time vector\n",
    "    P  = np.zeros(n)         # initialize proportional term\n",
    "    I  = np.zeros(n)         # initialize integral term\n",
    "    D  = np.zeros(n)         # initialize derivative term\n",
    "    e  = np.zeros(n)         # initialize error\n",
    "    OP = np.zeros(n)         # initialize controller output\n",
    "    PV = np.ones(n)*y0       # initialize process variable\n",
    "    SP = np.ones(n)*y0       # initialize setpoint and create a segmented continues function\n",
    "    SP[10:100]   = ramp(((50-y0)/90),10.0,y0,np.linspace(10, 100, 90))          # ramp up\n",
    "    SP[100:300]  = 50.0                                                         # step up\n",
    "    SP[300:600]  = ramp(((40-50)/300),300.0,50.0,np.linspace(300, 600, 300))    # ramp down\n",
    "    SP[600:900]  = 40.0                                                         # step down \n",
    "    SP[900:1301] = sinwave(1.3,40.0,np.linspace(0,3*np.pi,401))                 # sin wave\n",
    "    iae = 0.0\n",
    "    \n",
    "    # loop through all time steps\n",
    "    for i in range(1,n):\n",
    "        \n",
    "        # simulate process for one time step\n",
    "        ts = [t[i-1],t[i]]         # time interval\n",
    "        y = odeint(process,y0,ts,args=(OP[max(0,i-int(theta_plant))],))\n",
    "        y0 = y[1]                  # record new initial condition\n",
    "        iae += np.abs(SP[i]-y0[0])\n",
    "        \n",
    "        # calculate new OP with PID\n",
    "        PV[i] = y[1]                           # record PV\n",
    "        e[i] = SP[i] - PV[i]                   # calculate error = SP - PV\n",
    "        dt = t[i] - t[i-1]                     # calculate time step\n",
    "        P[i] = Kc * e[i]                       # calculate proportional term\n",
    "        I[i] = I[i-1] + (Kc/tauI) * e[i] * dt  # calculate integral term\n",
    "        D[i] = -Kc * tauD * (PV[i]-PV[i-1])/dt # calculate derivative term\n",
    "        OP[i] = P[i] + I[i] + D[i]             # calculate new controller output\n",
    "        if OP[i]>=100:\n",
    "            OP[i] = 100.0\n",
    "            I[i] = I[i-1] # reset integral\n",
    "        if OP[i]<=0:\n",
    "            OP[i] = 0.0\n",
    "            I[i] = I[i-1] # reset integral            \n",
    "\n",
    "    # plot PID response\n",
    "    plt.figure(1,figsize=(15,7))\n",
    "    plt.subplot(2,2,1)\n",
    "    plt.plot(t,SP,'k-',linewidth=2,label='Setpoint (SP)')\n",
    "    plt.plot(t,PV,'r:',linewidth=2,label='Temperature (PV)')\n",
    "    plt.ylabel(r'T $(^oC)$')\n",
    "    plt.text(100,34,'Integral Abs Error:' + str(np.round(iae,2)))\n",
    "    plt.text(400,31,r'$K_c$: ' + str(np.round(Kc,0)))  \n",
    "    plt.text(400,28,r'$\\tau_I$: ' + str(np.round(tauI,0)) + ' sec')  \n",
    "    plt.text(400,25,r'$\\tau_D$: ' + str(np.round(tauD,0)) + ' sec')  \n",
    "    plt.legend(loc='best')\n",
    "    plt.subplot(2,2,2)\n",
    "    plt.plot(t,P,'g.-',linewidth=2,label=r'Proportional = $K_c \\; e(t)$')\n",
    "    plt.plot(t,I,'b-',linewidth=2,label=r'Integral = ' + \\\n",
    "             r'$\\frac{K_c}{\\tau_I} \\int_{i=0}^{n_t} e(t) \\; dt $')\n",
    "    plt.plot(t,D,'r--',linewidth=2,label=r'Derivative = ' + \\\n",
    "             r'$-K_c \\tau_D \\frac{d(PV)}{dt}$')  \n",
    "    plt.legend(loc='best')\n",
    "    plt.subplot(2,2,3)\n",
    "    plt.plot(t,e,'m--',linewidth=2,label='Error (e=SP-PV)')\n",
    "    plt.ylabel(r'$\\Delta T$ $(^oC)$')\n",
    "    plt.legend(loc='best')\n",
    "    plt.subplot(2,2,4)\n",
    "    plt.plot(t,OP,'b--',linewidth=2,label='Heater (OP)')\n",
    "    plt.legend(loc='best')\n",
    "    plt.xlabel('time')\n",
    "\n",
    "# Sliders\n",
    "Kc_slide = wg.FloatSlider(value=5.0,min=0.0,max=50.0,step=0.5)\n",
    "tauI_slide = wg.FloatSlider(value=100.0,min=20.0,max=180.0,step=5.0)\n",
    "tauD_slide = wg.FloatSlider(value=3.51,min=0.0,max=20.0,step=0.01)\n",
    "wg.interact(pidPlot, Kc=Kc_slide, tauI=tauI_slide, tauD=tauD_slide)\n",
    "print('PID Simulator: Adjust Kc, tauI, and tauD to achieve lowest Integral Abs Error')"
   ]
  },
  {
   "cell_type": "markdown",
   "metadata": {},
   "source": [
    "## PID Controller Callibration  [Type II]\n",
    "\n",
    "Using directly the $K_p$, $K_i$, $K_d$ values"
   ]
  },
  {
   "cell_type": "code",
   "execution_count": 19,
   "metadata": {},
   "outputs": [
    {
     "data": {
      "application/vnd.jupyter.widget-view+json": {
       "model_id": "",
       "version_major": 2,
       "version_minor": 0
      },
      "text/plain": [
       "interactive(children=(FloatSlider(value=5.0, description='Kp', max=50.0, step=0.5), FloatSlider(value=0.05, de…"
      ]
     },
     "metadata": {},
     "output_type": "display_data"
    },
    {
     "name": "stdout",
     "output_type": "stream",
     "text": [
      "PID Simulator: Adjust Kc, tauI, and tauD to achieve lowest Integral Abs Error\n"
     ]
    }
   ],
   "source": [
    "import numpy as np\n",
    "%matplotlib inline\n",
    "import matplotlib.pyplot as plt\n",
    "from scipy.integrate import odeint\n",
    "import ipywidgets as wg\n",
    "from IPython.display import display\n",
    "\n",
    "n = 1301 # time points to plot\n",
    "tf = n - 1.0 # final time\n",
    "\n",
    "# Temp Control Lab FOPDT \n",
    "# [TCLab](https://www.amazon.com/TCLab-Laboratorio-Control-Temperatura/dp/B07GMFWMRY)\n",
    "# A first-order plus deadtime (FOPDT) model is a simple \n",
    "# approximation of the dynamic response (the transient \n",
    "# or time-response) of a process variable to an influence. \n",
    "# It's also called first-order lag plus deadtime (FOLPDT), \n",
    "# or “deadtime” may be replaced with “delay,” \n",
    "# changing the acronym to FOLPD.\n",
    "K_plant = 0.9\n",
    "tau_plant = 175.0\n",
    "theta_plant = 15.0\n",
    "\n",
    "\n",
    "ramp    = lambda m,x_init,y_init,t: m*(t-x_init) + y_init\n",
    "sinwave = lambda A,offset,t: A*np.sin(t)+offset\n",
    "\n",
    "def process(y,t,u):\n",
    "    dydt = (1.0/tau_plant) * (-(y-23.0) + K_plant * u)\n",
    "    return dydt\n",
    "\n",
    "def pidPlot(Kp,Ki,Kd):\n",
    "    y0 = 23.0               # initial condition\n",
    "    t = np.linspace(0,tf,n) # create time vector\n",
    "    P = np.zeros(n)         # initialize proportional term\n",
    "    I = np.zeros(n)         # initialize integral term\n",
    "    D = np.zeros(n)         # initialize derivative term\n",
    "    e = np.zeros(n)         # initialize error\n",
    "    OP = np.zeros(n)        # initialize controller output\n",
    "    PV = np.ones(n)*23.0    # initialize process variable\n",
    "    SP = np.ones(n)*23.0    # initialize setpoint\n",
    "    SP[10:100]   = ramp(((50-y0)/90),10.0,y0,np.linspace(10, 100, 90))          # ramp up\n",
    "    SP[100:300]  = 50.0                                                         # step up\n",
    "    SP[300:600]  = ramp(((40-50)/300),300.0,50.0,np.linspace(300, 600, 300))    # ramp down\n",
    "    SP[600:900]  = 40.0                                                         # step down \n",
    "    SP[900:1301] = sinwave(1.3,40.0,np.linspace(0,3*np.pi,401))                 # sin wave\n",
    "    iae = 0.0 \n",
    "\n",
    "    # loop through all time steps\n",
    "    for i in range(1,n):\n",
    "        # simulate process for one time step\n",
    "        ts = [t[i-1],t[i]]         # time interval\n",
    "        y = odeint(process,y0,ts,args=(OP[max(0,i-int(theta_plant))],))\n",
    "        y0 = y[1]                  # record new initial condition\n",
    "        iae += np.abs(SP[i]-y0[0])\n",
    "        # calculate new OP with PID\n",
    "        PV[i] = y[1]               # record PV\n",
    "        e[i] = SP[i] - PV[i]       # calculate error = SP - PV\n",
    "        dt = t[i] - t[i-1]         # calculate time step\n",
    "        P[i] = Kp * e[i]           # calculate proportional term\n",
    "        I[i] = I[i-1] + (Ki) * e[i] * dt  # calculate integral term\n",
    "        D[i] = -Kd * (PV[i]-PV[i-1])/dt # calculate derivative term\n",
    "        OP[i] = P[i] + I[i] + D[i] # calculate new controller output\n",
    "        if OP[i]>=100:\n",
    "            OP[i] = 100.0\n",
    "            I[i] = I[i-1] # reset integral\n",
    "        if OP[i]<=0:\n",
    "            OP[i] = 0.0\n",
    "            I[i] = I[i-1] # reset integral            \n",
    "\n",
    "    # plot PID response\n",
    "    plt.figure(1,figsize=(15,7))\n",
    "    plt.subplot(2,2,1)\n",
    "    plt.plot(t,SP,'k-',linewidth=2,label='Setpoint (SP)')\n",
    "    plt.plot(t,PV,'r:',linewidth=2,label='Temperature (PV)')\n",
    "    plt.ylabel(r'T $(^oC)$')\n",
    "    plt.text(100,34,'Integral Abs Error:' + str(np.round(iae,2)))\n",
    "    plt.text(400,31,r'$K_c$: ' + str(np.round(Kp,0)))  \n",
    "    plt.text(400,28,r'$K_i$: ' + str(np.round(Ki,0)) + ' sec')  \n",
    "    plt.text(400,25,r'$K_d$: ' + str(np.round(Kd,0)) + ' sec')  \n",
    "    plt.legend(loc='best')\n",
    "    plt.subplot(2,2,2)\n",
    "    plt.plot(t,P,'g.-',linewidth=2,label=r'Proportional = $K_c \\; e(t)$')\n",
    "    plt.plot(t,I,'b-',linewidth=2,label=r'Integral = ' + \\\n",
    "             r'$\\frac{K_c}{\\tau_I} \\int_{i=0}^{n_t} e(t) \\; dt $')\n",
    "    plt.plot(t,D,'r--',linewidth=2,label=r'Derivative = ' + \\\n",
    "             r'$-K_c \\tau_D \\frac{d(PV)}{dt}$')  \n",
    "    plt.legend(loc='best')\n",
    "    plt.subplot(2,2,3)\n",
    "    plt.plot(t,e,'m--',linewidth=2,label='Error (e=SP-PV)')\n",
    "    plt.ylabel(r'$\\Delta T$ $(^oC)$')\n",
    "    plt.legend(loc='best')\n",
    "    plt.subplot(2,2,4)\n",
    "    plt.plot(t,OP,'b--',linewidth=2,label='Heater (OP)')\n",
    "    plt.legend(loc='best')\n",
    "    plt.xlabel('time')\n",
    "\n",
    "# Sliders\n",
    "Kc_slide = wg.FloatSlider(value=5.0,min=0.0,max=50.0,step=0.5)\n",
    "tauI_slide = wg.FloatSlider(value=0.05,min=0.0,max=1.0,step=0.001)\n",
    "tauD_slide = wg.FloatSlider(value=17.55,min=0.0,max=30.0,step=0.1)\n",
    "wg.interact(pidPlot, Kp=Kc_slide, Ki=tauI_slide, Kd=tauD_slide)\n",
    "print('PID Simulator: Adjust Kc, tauI, and tauD to achieve lowest Integral Abs Error')"
   ]
  },
  {
   "cell_type": "markdown",
   "metadata": {},
   "source": [
    "## Discrete-Time System Response\n",
    "\n",
    "The response of a discrete-time system, the time vector t must consider the the sample time $dT$ as part of the modeling. The simulated response of a second order discrete-time system to a ramp step input is shown in the next figure.\n",
    "\n",
    "<br><br/>\n",
    "<p align=\"center\"><img src=\"images/ResponseOfADiscreteTimeSystemStepedRampSignal.png\" style=\"width:70%\"></p>\n",
    "<center> Figure.$\\quad$ The Response of a Discrete Time System to a Steped Ramp Signal. </center>\n",
    "<br><br/>\n",
    "<br><br/>\n",
    "\n",
    "\n",
    "For instance, the response of a discrete-time system to a sine wave is shown in the follow figure. \n",
    "\n",
    "<br><br/>\n",
    "<p align=\"center\"><img src=\"images/ResponseOfADiscreteTimeSystemSinSignal.png\" style=\"width:70%\"></p>\n",
    "<center> Figure.$\\quad$ The Response of a Discrete Time System to a Sine Wave. </center>\n",
    "<br><br/>\n",
    "<br><br/>"
   ]
  },
  {
   "cell_type": "markdown",
   "metadata": {},
   "source": [
    "# Signal Processing"
   ]
  },
  {
   "cell_type": "markdown",
   "metadata": {},
   "source": [
    "## Cross-Correlation\n",
    "\n",
    "In signal processing, cross-correlation is a measure of similarity of two series as a function of the displacement\n",
    "of one relative to the other. This is also known as a sliding dot product or sliding inner-product. It is commonly\n",
    "used for searching a long signal for a shorter, known feature. It has applications in pattern recognition, single\n",
    "particle analysis, electron tomography, averaging, cryptanalysis, and neurophysiology. The cross-correlation is\n",
    "similar in nature to the convolution of two functions. In an autocorrelation, which is the cross-correlation of a\n",
    "signal with itself, there will always be a peak at a lag of zero, and its size will be the signal energy.\n",
    "\n",
    "In probability and statistics, the term cross-correlations refers to the correlations between the entries of two\n",
    "random vectors $\\mathbf{X}$ and $\\mathbf{Y}$, while the correlations of a random vector $\\mathbf{X}$ are the correlations between the entries\n",
    "of $\\mathbf{X}$ itself, those forming the correlation matrix of $\\mathbf{X}$. If each of $\\mathbf{X}$ and $\\mathbf{Y}$ is a scalar random variable which is\n",
    "realized repeatedly in a time series, then the correlations of the various temporal instances of $\\mathbf{X}$ are known as autocorrelations of $\\mathbf{X}$, and the cross-correlations of $\\mathbf{X}$ with $\\mathbf{Y}$ across time are temporal cross-correlations. In\n",
    "probability and statistics, the definition of correlation always includes a standardising factor in such a way that\n",
    "correlations have values between -1 and $+1 .$\n",
    "\n",
    "If $X$ and $Y$ are two independent random variables with probability density functions $f$ and $g$, respectively, then the probability density of the difference $Y-X$ is formally given by the cross-correlation (in the signal-processing sense) $f \\star g$; however, this terminology is not used in probability and statistics. In contrast, the convolution $f * g$ (equivalent to the cross-correlation of $f(t)$ and $g(-t)$ ) gives the probability density function of the sum $X+Y$\n",
    "\n",
    "## Cross-Correlation of Deterministic Signals\n",
    "\n",
    "For continuous functions $f$ and $g$, the cross-correlation is defined as:\n",
    "\n",
    "$$\n",
    "(f \\star g)(\\tau) \\triangleq \\int_{-\\infty}^{\\infty} \\overline{f(t)} g(t+\\tau) dt\n",
    "$$\n",
    "\n",
    "$$\n",
    "(f \\star g)(\\tau) \\triangleq \\int_{-\\infty}^{\\infty} \\overline{f(t-\\tau)} g(t) d t\n",
    "$$\n",
    "\n",
    "where $\\overline{f(t)}$ denotes the complex conjugate of $f(t),$ and $\\tau$ is the displacement, also known as lag (a feature in $f$ at $t$ occurs in $g$ at $t+\\tau)$.\n",
    "\n",
    "\n",
    "<br><br/>\n",
    "<p align=\"center\"><img style=\"float: right; margin: 0px 0px 15px 15px;\" src=\"images/Comparison_convolution_correlation.png\" style=\"width:90%\"></p>\n",
    "<center> Figure.$\\quad$ Comparison Convolution Correlation. </center>\n",
    "<br><br/>\n",
    "<br><br/>\n",
    "\n",
    "\n",
    "## Explanation\n",
    "\n",
    "As an example, consider two real valued functions $f$ and $g$ differing only by an unknown shift along the x-axis. One can use the cross-correlation to find how much $g$ must be shifted along the x-axis to make it identical to $f$. The formula essentially slides the $g$ function along the x-axis, calculating the integral of their product at each position. When the functions match, the value of $(f \\star g)$ is maximized. This is because when peaks (positive areas) are aligned, they make a large contribution to the integral. Similarly, when troughs (negative areas) align, they also make a positive contribution to the integral because the product of two negative numbers is positive.\n",
    "\n",
    "<br><br/>\n",
    "<p align=\"center\"><img style=\"float: right; margin: 0px 0px 15px 15px;\" src=\"images/Cross_correlation_animation.gif\" style=\"width:90%\"></p>\n",
    "<center> Figure.$\\quad$ Cross Correlation Visulization [sin/cos]. </center>[1]\n",
    "<br><br/>\n",
    "<br><br/>"
   ]
  },
  {
   "cell_type": "markdown",
   "metadata": {},
   "source": [
    "# Sistem Stability"
   ]
  },
  {
   "cell_type": "markdown",
   "metadata": {},
   "source": [
    "## Laplace Stability Conditions\n",
    "\n",
    "<br><br/>\n",
    "<p align=\"center\"><img src=\"images/laplace_stability_conditions.jpg\" style=\"width:70%\"></p>\n",
    "<center> Figure.$\\quad$ Laplace Stability Conditions. </center>\n",
    "<br><br/>\n",
    "<br><br/>"
   ]
  },
  {
   "cell_type": "markdown",
   "metadata": {},
   "source": [
    "## Understanding Stability of a System Using Laplace Transform\n",
    "\n",
    "<br><br/>\n",
    "<p align=\"center\"><img src=\"images/understand_stability_of_a_system_using_laplace_transform.jpg\" style=\"width:50%\"></p>\n",
    "<center> Figure.$\\quad$ Laplace Stability Conditions. </center>\n",
    "<br><br/>\n",
    "<br><br/>"
   ]
  },
  {
   "cell_type": "markdown",
   "metadata": {},
   "source": [
    "## Laplace and Fourier Transforms [Conecting Former Related Ideas]\n",
    "\n",
    "Examine the Fourier transform:\n",
    "\n",
    "$$\n",
    "\\hat{f}(\\omega)=\\int_{-\\infty}^{\\infty} f(t) e^{-i \\omega t} d x\n",
    "$$\n",
    "\n",
    "Essentially, it takes a test sine wave $\\left(e^{-i \\omega}\\right)$ with frequency $\\omega$ and determines how similar that sine wave is to your input function 1 . It determines this similarity, or \"cross-correlation\", by multiplying that sine wave with your input function across all time and integrates. If there is little similarity between this frequency $\\omega$ and your input, then this integration will be equal to zero.\n",
    "\n",
    "As could be observed, this test signal never changes amplitude and can only be used to examine the steady state behavior of the input.\n",
    "\n",
    "Now compare to the Laplace transform:\n",
    "\n",
    "$$\n",
    "F(s)=\\int_{0}^{\\infty} f(t) e^{-s t} d t\n",
    "$$\n",
    "\n",
    "Very similar, except now $s$ is complex and replaces the real (not complex) $\\omega$. In addition, the integration is now not for all time, ___but only the future.___\n",
    "\n",
    "The neat thing about raising to a complex power $s$ is that there is both a real and an imaginary component, so that if $s=a+i b$, then $e^{-s t}=e^{-a t} e^{-i b t}$. So now we have a sine wave that either grows exponentially, shrinks exponentially, or maintains a constant amplitude depending on the value of $a$.\n",
    "\n",
    "This test signal that can change over time, plus the fact that the integration now only starts at time 0 means that it can not be extracted the transient response from the input signal any more. $a$ and $b$ together determine a point on the complex plane (known here as the s-plane), whereas $\\omega$ will always be on the real line. This is the extra degree of freedom. This point defines the test signal used by the Laplace transform, and it can be seen the effects of moving the point around the complex s-plane in this image:\n",
    "\n",
    "\n",
    "<br><br/>\n",
    "<p align=\"center\"><img src=\"images/domain_of_Laplace_transforms.png\" style=\"width:39%\"></p>\n",
    "<center> Figure.$\\quad$ Domain of Laplace Transforms. </center>\n",
    "<br><br/>\n",
    "<br><br/>\n",
    "\n",
    "\n",
    "\n",
    "> [1] In reality, $e^{-i \\omega}=\\cos x+i \\sin x,$ so it's actually using both a cosine and a sine wave\n",
    "simultaneously (a rotating complex point) as the test function. This is how the Fourier transform\n",
    "gets phase information. That's also why the image above shows curly $3 \\mathrm{D}$ spirals, since the\n",
    "Laplace transform also has a rotating complex point. But it's easier to just think of it as a single\n",
    "sine wave."
   ]
  },
  {
   "cell_type": "markdown",
   "metadata": {},
   "source": [
    "## An s-Plane to z-Plane Mapping Example [From Continues to Discrete Time Domines]\n",
    "Given the various loci of points, a version of a correct 's-plane to z-plane mapping' diagram shown in the next Figure. \"A picture is worth a thousand words.\" \n",
    "\n",
    "<br><br/>\n",
    "<p align=\"center\"><img style=\"float: left; margin: 0px 0px 15px 15px;\" src=\"images/s-Plane_to_z-Plane_mapping.jpg\" style=\"width:90%\"></p>\n",
    "<center> Figure.$\\quad$ A Correct 's-Plane to z-Plane Conformal Mapping' diagram. </center>\n",
    "<br><br/>\n",
    "<br><br/>"
   ]
  },
  {
   "cell_type": "markdown",
   "metadata": {},
   "source": [
    "## Domine of Z Transforms\n",
    "\n",
    "<br><br/>\n",
    "<p align=\"center\"><img src=\"images/domain_of_Z_transforms.png\" style=\"width:50%\"></p>\n",
    "<center> Figure.$\\quad$ Domine of Z Transforms. </center>\n",
    "<br><br/>\n",
    "<br><br/>\n",
    "\n",
    "\n",
    "While the frequency axis is unbounded in the $s$ plane, it is finite (confined to the unit circle) in the $z$ plane, which is natural because the sampling rate is finite in the discrete-time case. As in the $s$ plane, the upper-half plane corresponds to positive frequencies while the lower-half plane corresponds to negative frequencies. Inside the unit circle, we have decaying (stable) exponential envelopes, while outside the unit circle, we have growing (unstable) exponential envelopes. Along the positive real axis ( re $\\{z\\}>0, \\quad$ im $\\{z\\}=0$ ), we have pure exponentials,\n",
    "but along the negative real axis ( re $\\{z\\}<0, \\quad$ im $\\{z\\}=0$ ), we have exponentially enveloped\n",
    "sampled sinusoids at frequency $f_{s} / 2$ (exponentially enveloped alternating sequences). The\n",
    "negative real axis in the $z$ plane is normally a place where all signal $z$ transforms should be zero, and all system responses should be highly attenuated, since there should never be any energy at exactly half the sampling rate (where amplitude and phase are ambiguously linked). Every point in the $z$ plane can be said to correspond to sampled generalized complex sinusoids of the form $x(n)=.4 z^{n}=\\mathcal{A}\\left[e^{s T}\\right]^{n}, n \\geq 0,$ with special cases being sampled complex\n",
    "\n",
    "sinusoids $\\mathcal{A e}^{j \\omega n T}$, sampled real exponentials $A e^{\\sigma n T},$ and the constant sequence $x=[1,1,1, \\ldots]$ (dc). In summary, the exponentially enveloped (' generalized\") complex\n",
    "sinusoid is the fundamental signal upon which other signals are \"projected\" in order to compute a Laplace transform in the continuous-time case, or a $z$ transform in the discretetime case. As a special case, if the exponential envelope is eliminated (set to 1 ), leaving only a complex sinusoid, then the projection reduces to the Fourier transform in the continuoustime case, and either the DFT (finite length) or DTFT (infinite length) in the discrete-time case. Finally, there are still other variations, such as short-time Fourier transforms (STFT) and wavelet transforms, which utilize further modifications such as projecting onto windowed complex sinusoids."
   ]
  },
  {
   "cell_type": "markdown",
   "metadata": {},
   "source": [
    "# EXPECTING HAS BEEN NOTED THE RELATION WITH ONE DIMENSIONAL CALCULUS AND THE EXPANSION TO CALCULUS OVER MATRIX REPRESENTATIONS FOR SYSTEM MODELING [ONE OF THE REASONS THAT ALGEBRAIC OPERATIVE WERE ABORDED FROM THE BEGINNING OF THESE SET OF ROUNDS] . BUT NOT JUST THESE. AS JUST FLASHED FEW PARAGRAPHS BEFORE. ALL THE IDEAS BEFORE COULD BE EXPANDED OVER THE COMPLEX FIELD AS WELL.\n",
    "\n",
    "\n",
    "# ONE LAST ASTONISHING EXPANSION THEN REMAINDS [to back and forth from maths to real word, passing through programming]\n",
    "\n",
    ">>> ## IN ANY CASE, SUCH IDEAS ARE FOR BE TOLD, RIGHT NOW NOT.\n",
    "### BUT NEVER KNOWS, MAYBE WE WILL MEET AGAIN IN ANOTHER TIME FOR MORE AWAKENING, BY SURE ...\n",
    "\n",
    "<br><br/>\n",
    "<p align=\"center\"><img src=\"images/Spirule.jpg\" style=\"width:50%\"></p>\n",
    "<center> Figure.$\\quad$ THE SPIRULE [COMPLEX ANALYSIS COURSE]. </center>\n",
    "<br><br/>\n",
    "<br><br/>\n",
    "\n",
    "\n",
    "\n"
   ]
  },
  {
   "cell_type": "code",
   "execution_count": null,
   "metadata": {},
   "outputs": [],
   "source": []
  },
  {
   "cell_type": "code",
   "execution_count": null,
   "metadata": {},
   "outputs": [],
   "source": []
  }
 ],
 "metadata": {
  "kernelspec": {
   "display_name": "Python 3",
   "language": "python",
   "name": "python3"
  },
  "language_info": {
   "codemirror_mode": {
    "name": "ipython",
    "version": 3
   },
   "file_extension": ".py",
   "mimetype": "text/x-python",
   "name": "python",
   "nbconvert_exporter": "python",
   "pygments_lexer": "ipython3",
   "version": "3.7.6"
  }
 },
 "nbformat": 4,
 "nbformat_minor": 4
}
