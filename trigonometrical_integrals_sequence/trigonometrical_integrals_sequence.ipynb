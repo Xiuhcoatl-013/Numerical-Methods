{
 "cells": [
  {
   "cell_type": "markdown",
   "metadata": {},
   "source": [
    "# Trigonometrical Integrals Sequence\n",
    "\n",
    "\n",
    "For this note, it is considered the behaviour of the sequence of integrals\n",
    "\n",
    "$$\n",
    "\\int_{0}^{\\infty} \\cos a_{1} x \\cos a_{2} x \\ldots \\cos a_{n} x \\frac{\\sin b x}{x} d x\n",
    "$$\n",
    "\n",
    "which exhibits an amusing behaviour."
   ]
  },
  {
   "cell_type": "code",
   "execution_count": null,
   "metadata": {},
   "outputs": [],
   "source": []
  },
  {
   "cell_type": "markdown",
   "metadata": {},
   "source": [
    "Consider the following (true) statements which anyone could to try to verify, just for fun, on any computer algebra package of them own preferences:\n",
    "\n",
    "$$\n",
    "\\begin{array}{l}\n",
    "\\int_{0}^{\\infty} \\cos x \\frac{\\sin 4 x}{x} d x=1.57079632679 \\ldots \\\\\n",
    "\\int_{0}^{\\infty} \\cos x \\cos \\frac{x}{2} \\frac{\\sin 4 x}{x} d x=1.57079632679 \\ldots \\\\\n",
    "\\int_{0}^{\\infty} \\cos x \\cos \\frac{x}{2} \\cos \\frac{x}{3} \\frac{\\sin 4 x}{x} d x=1.57079632679 \\ldots\n",
    "\\end{array}\n",
    "$$\n",
    "\n",
    "and so on, as far as\n",
    "\n",
    "$$\n",
    "\\int_{0}^{\\infty} \\cos x \\cos \\frac{x}{2} \\cos \\frac{x}{3} \\cdots \\cos \\frac{x}{30} \\frac{\\sin 4 x}{x} d x=1.57079632679 \\dots\n",
    "$$\n",
    "but this is followed by\n",
    "$$\n",
    "\\int_{0}^{\\infty} \\cos x \\cos \\frac{x}{2} \\cos \\frac{x}{3} \\cdots \\cos \\frac{x}{31} \\frac{\\sin 4 x}{x} d x=1.57079632533 \\dots\n",
    "$$\n",
    "The $1.57079 \\ldots$ is screaming $\\frac{\\pi}{2},$ but one moment, is the blip on the 31-st term a rounding error or the start of a pattern breaking down? WTF!!!"
   ]
  },
  {
   "cell_type": "code",
   "execution_count": null,
   "metadata": {},
   "outputs": [],
   "source": []
  },
  {
   "cell_type": "markdown",
   "metadata": {},
   "source": []
  },
  {
   "cell_type": "code",
   "execution_count": null,
   "metadata": {},
   "outputs": [],
   "source": []
  },
  {
   "cell_type": "markdown",
   "metadata": {},
   "source": [
    "Let start the analysis with a lemma.\n",
    "\n",
    "Lemma: Let $a, b$ be real numbers with $b>0$. Then:\n",
    "\n",
    "- (a) $\\int_{0}^{\\infty} \\frac{\\sin b x}{x} d x=\\frac{\\pi}{2}$\n",
    "- (b) $\\int_{0}^{\\infty} \\cos a x \\frac{\\sin b x}{x} d x=\\frac{\\pi}{2}$ if $|a|<b, \\frac{\\pi}{4}$ if $|a|=b,$ and 0 if $|a|>b$"
   ]
  },
  {
   "cell_type": "markdown",
   "metadata": {},
   "source": [
    "Proof:\n",
    "\n",
    "- (a) Substitute $t=b x$ into the standard improper integral $\\int_{0}^{\\infty} \\frac{\\sin t}{t} d t=\\frac{\\pi}{2}$\n",
    "- (b) $\\int_{0}^{\\infty} \\cos a x \\frac{\\sin b x}{x} d x=\\int_{0}^{\\infty} \\cos |a| x \\frac{\\sin b x}{x} d x =\\frac{1}{2} \\int_{0}^{\\infty} \\frac{\\sin (b+|a| x)+\\sin (b-|a| x)}{x} d x$\n",
    "\n",
    "Using (a), the latter integral evaluates to $\\frac{1}{2}\\left(\\frac{\\pi}{2}+\\frac{\\pi}{2}\\right)$ if $|a|<b,$ to $\\frac{1}{2}\\left(\\frac{\\pi}{2}+0\\right)$ if $|a|=b,$ and to $\\frac{1}{2}\\left(\\frac{\\pi}{2}-\\frac{\\pi}{2}\\right)$ if $|a|>b$"
   ]
  },
  {
   "cell_type": "code",
   "execution_count": null,
   "metadata": {},
   "outputs": [],
   "source": []
  },
  {
   "cell_type": "markdown",
   "metadata": {},
   "source": [
    "Now the main concern:\n",
    "\n",
    "Let $a_{1}, \\ldots, a_{n}, b$ be positive real numbers with $a_{1}+\\ldots+a_{n}<b$\n",
    "\n",
    "Then $\\int_{0}^{\\infty} \\cos a_{1} x \\cos a_{2} x \\ldots \\cos a_{n} x \\frac{\\sin b x}{x} d x=\\frac{\\pi}{2}$\n",
    "\n",
    "Proof: By repeated use of the factor formulae, we obtain some of the 'lesser-spotted' trigonometrical identities:\n",
    "\n",
    "$$\n",
    "\\cos a_{1} x \\cos a_{2} x \\equiv \\frac{1}{2}\\left[\\cos \\left(a_{1}+a_{2}\\right) x+\\cos \\left(a_{1}-a_{2}\\right) x\\right]\n",
    "$$\n",
    "\n",
    "$$\\cos a_{1} x \\cos a_{2} x \\cos a_{3} x \\equiv \\frac{1}{4}\\left[\\cos \\left(a_{1}+a_{2}+a_{3}\\right) x+\\cos \\left(a_{1}+a_{2}-a_{3}\\right) x+\\cos \\left(a_{1}-a_{2}+a_{3}\\right) x+\\cos \\left(a_{1}-a_{2}-a_{3}\\right) x\\right]\n",
    "$$\n",
    "\n",
    "with, in general,\n",
    "\n",
    "$$\n",
    "\\cos a_{1} x \\cos a_{2} x \\ldots \\cos a_{n} x \\equiv \\frac{1}{2^{n-1}} \\sum_{e_{n}=1} \\cos \\left(a_{1}+\\varepsilon_{2} a_{2}+\\ldots+\\varepsilon_{n} a_{n}\\right) x\n",
    "$$ [Eq. 1]"
   ]
  },
  {
   "cell_type": "markdown",
   "metadata": {},
   "source": [
    "since, for each of the $2^{n-1}$ choices of signs $\\left(\\varepsilon_{i}\\right),\\left|a_{1}+\\varepsilon_{2} a_{2}+\\ldots+\\varepsilon_{n} a_{n}\\right|$\n",
    "$<a_{1}+a_{2}+\\ldots+a_{n}<b,$ the lemma ensures that\n",
    "\n",
    "$$\n",
    "\\int_{0}^{\\infty} \\cos \\left(a_{1}+\\varepsilon_{2} a_{2}+\\ldots+\\varepsilon_{n} a_{n}\\right) x \\frac{\\sin b x}{x} d x=\\frac{\\pi}{2}\n",
    "$$\n",
    "\n",
    "so that, by [Eq.1]\n",
    "\n",
    "$$\n",
    "\\int_{0}^{\\infty} \\cos a_{1} x \\cos a_{2} x \\ldots \\cos a_{n} x \\frac{\\sin b x}{x} d x=\\frac{1}{2^{n-1}} 2^{n-1} \\frac{\\pi}{2}=\\frac{\\pi}{2}\n",
    "$$\n",
    "\n",
    "as claimed."
   ]
  },
  {
   "cell_type": "markdown",
   "metadata": {},
   "source": [
    "\n",
    "\n",
    "\n",
    "Now it is possible to explain the behaviour of the perplexing sequence highlighted above. Let $\\left(a_{n}\\right)$ be a strictly decreasing sequence of positive real numbers and suppose that, for some $n \\geqslant 2, a_{1}+a_{2}+\\ldots+a_{n-1}<b<$ $a_{1}+a_{2}+\\ldots+a_{n-1}+a_{n} .$ By the resut of the proofs above,\n",
    "\n",
    "$$\n",
    "\\int_{0}^{\\infty} \\cos a_{1} x \\cos a_{2} x \\ldots \\cos a_{k} x \\frac{\\sin b x}{x} d x=\\frac{\\pi}{2}\n",
    "$$\n",
    "\n",
    "for all $1<k \\leq n-1$"
   ]
  },
  {
   "cell_type": "code",
   "execution_count": null,
   "metadata": {},
   "outputs": [],
   "source": []
  },
  {
   "cell_type": "markdown",
   "metadata": {},
   "source": [
    "But, in [Eq. 1], $a_{1}+\\ldots+a_{n}>b$ with $-b<a_{1}+\\varepsilon_{2} a_{2}+\\ldots+\\varepsilon_{n} a_{n}<b$ for\n",
    "all other choices of signs. Thus, by the lemma applied to each of the terms in [Eq.1]\n",
    "\n",
    "$$\n",
    "\\int_{0}^{\\infty} \\cos a_{1} x \\cos a_{2} x \\ldots \\cos a_{n} x \\frac{\\sin b x}{x} d x=\\frac{1}{2^{n-1}}\\left[0+\\left(2^{n-1}-1\\right) \\frac{\\pi}{2}\\right]=\\frac{\\pi}{2}\\left(1-\\frac{1}{2^{n-1}}\\right)\n",
    "$$\n",
    "\n",
    "The opening sequence is thus fully explained by the fact that\n",
    "\n",
    "$$\n",
    "\\frac{1}{1}+\\frac{1}{2}+\\ldots+\\frac{1}{30}<4<\\frac{1}{1}+\\frac{1}{2}+\\ldots+\\frac{1}{30}+\\frac{1}{31}\n",
    "$$\n",
    "\n",
    "so that $\\int_{0}^{\\infty} \\cos x \\cos \\frac{x}{2} \\ldots \\cos \\frac{x}{k} \\frac{\\sin 4 x}{x} d x=\\frac{\\pi}{2}$ for all $1 \\leqslant k \\leqslant 30$ \n",
    "\n",
    "but $\\int_{0}^{\\infty} \\cos x \\cos \\frac{x}{2} \\ldots \\cos \\frac{x}{31} \\frac{\\sin 4 x}{x} d x=\\frac{\\pi}{2}\\left(1-\\frac{1}{2^{30}}\\right)$ - the pattern really does start breaking down! \n",
    "\n",
    "Rather agreeably, replacing $\\sin 4 x$ by $\\sin 5 x, \\sin 6 x, \\ldots,$ it can be possible to make the initial sequence of $\\left(\\frac{1}{2} \\pi\\right)$ s as long as it were like and the ensuing breakdown as imperceptible as well."
   ]
  },
  {
   "cell_type": "markdown",
   "metadata": {},
   "source": [
    "Indeed, since $\\sum_{r=1}^{n} \\frac{1}{r} \\approx \\ln n+\\gamma$ donde donde γ es la constante de [Euler-Mascheroni](https://en.wikipedia.org/wiki/Euler%E2%80%93Mascheroni_constant) replacing $\\sin 4 x$ by $\\sin b x,$ with $b$ a whole number, generates an initial sequence of $\\left(\\frac{1}{2} \\pi\\right) \\mathrm{s}$ of length approximately $e^{b-\\gamma}$ with a 'breakdown-blip' of approximately $\\frac{\\pi}{2}\\left(1-\\frac{1}{2^{e^{b}-y}}\\right)$.\n",
    "\n",
    "It is also worth noting that, because $\\sum_{r=1}^{n} \\frac{1}{r}$ is never an integer, the '$\\pi / 4$ - case' in part\n",
    "(b) of the lemma cannot arise here. And, of course, if $\\sum a_{n}$ is a convergent series of positive real numbers with $\\sum_{n=1}^{\\infty} a_{n}<b,$ then $\\int_{0}^{\\infty} \\cos a_{1} x \\cos a_{2} x \\ldots \\cos a_{n} x \\frac{\\sin b x}{x} d x$ is a constant sequence, being equal to $\\frac{1}{2} \\pi$ for all $n \\geqslant 1$"
   ]
  },
  {
   "cell_type": "code",
   "execution_count": 22,
   "metadata": {},
   "outputs": [
    {
     "data": {
      "text/plain": [
       "2.8289682539682537"
      ]
     },
     "execution_count": 22,
     "metadata": {},
     "output_type": "execute_result"
    }
   ],
   "source": [
    "a = 1+1/2+1/3+1/4+1/5+1/6+1/7+1/8+1/9\n",
    "a"
   ]
  },
  {
   "cell_type": "code",
   "execution_count": 23,
   "metadata": {},
   "outputs": [
    {
     "data": {
      "text/plain": [
       "2.7744402422377523"
      ]
     },
     "execution_count": 23,
     "metadata": {},
     "output_type": "execute_result"
    }
   ],
   "source": [
    "import numpy as np\n",
    "np.log(9) + 0.57721566490153286060651209008240243104215933593992"
   ]
  },
  {
   "cell_type": "markdown",
   "metadata": {},
   "source": [
    "In principle, the method used in the proof of the main concer, can be used to evaluate $\\int_{0}^{\\infty} \\cos a_{1} x \\cos a_{2} x \\ldots \\cos a_{n} x \\frac{\\sin b x}{x} d x$ for any $a_{1}, a_{2}, \\ldots, a_{n}>0$ (not just with $a_{1}+a_{2}+\\ldots+a_{n}<b$ ): the sum in [Eq. 1] splits into three pieces according as $\\left|a_{1}+\\varepsilon_{2} a_{2}+\\ldots+\\varepsilon_{n} a_{n}\\right|<b,=b,>b$. For example, the choice $a_{1}=a_{2}=\\ldots=a_{n}=1$ and $b=n$ yields\n",
    "\n",
    "$$\n",
    "\\int_{0}^{\\infty} \\cos ^{n} x \\frac{\\sin n x}{x} d x=\\frac{1}{2^{n-1}}\\left[\\frac{\\pi}{4}+\\left(2^{n-1}-1\\right) \\frac{\\pi}{2}\\right]=\\frac{\\pi}{2}\\left(1-\\frac{1}{2^{n}}\\right)\n",
    "$$"
   ]
  },
  {
   "cell_type": "markdown",
   "metadata": {},
   "source": [
    "(Incidentally, in this case, [Eq.1] provides an alternative to the use of de Moivre's theorem in deriving an expression for $\\cos ^{n} x$ in terms of multiple angles: counting the signs in [Eq.1] shows that:\n",
    "\n",
    "$$\n",
    "\\cos ^{n} x=\\frac{1}{2^{n-1}} \\sum_{k=0}^{n-1}\\left(\\begin{array}{c}\n",
    "n-1 \\\\\n",
    "k\n",
    "\\end{array}\\right) \\cos (n-2 k) x\n",
    "$$\n",
    "\n",
    "which equals $\\frac{1}{2^{n-1}} \\sum_{k=0}^{\\frac{1}{2}(n-1)}\\left(\\begin{array}{l}n \\\\ k\\end{array}\\right) \\cos (n-2 k) x$ if $n$ is odd and\n",
    "\n",
    "$$\n",
    "\\frac{1}{2^{n-1}}\\left[\\sum_{k=0}^{\\frac{1}{2} n-1}\\left(\\begin{array}{l}\n",
    "n \\\\\n",
    "k\n",
    "\\end{array}\\right) \\cos (n-2 k) x+\\left(\\begin{array}{c}\n",
    "n-1 \\\\\n",
    "\\frac{1}{2} n\n",
    "\\end{array}\\right)\\right]\n",
    "$$\n",
    "\n",
    "if $n$ is even, on pairing terms.)"
   ]
  },
  {
   "cell_type": "markdown",
   "metadata": {},
   "source": [
    "Finally, by the way, a generalisation due to Störmer in the 19 th century, which combines this main example with sinc integrals may be found buried in the pages of [E. T. Whittaker \\& G. N. Watson, A course of modern analysis (4th ed), Cambridge University Press (1927) p. 122], as an exercise in the chapter on the theory of residues:\n",
    "\n",
    "If $\\phi_{1}, \\phi_{2}, \\ldots, \\phi_{n}, \\alpha_{1}, a_{2}, \\ldots, a_{m}, a$ are positive real numbers, then\n",
    "\n",
    "$$\n",
    "\\int_{0}^{\\infty} \\frac{\\sin \\phi_{1} x \\sin \\phi_{2} x}{\\phi_{1} x} \\ldots \\frac{\\sin \\phi_{n} x}{\\phi_{n} x} \\cos \\alpha_{1} x \\cos \\alpha_{2} x \\ldots \\cos \\alpha_{m} x \\frac{\\sin a x}{x} d x=\\frac{\\pi}{2}\n",
    "$$\n",
    "\n",
    "provided $a>\\phi_{1}+\\phi_{2}+\\ldots+\\phi_{n}+\\alpha_{1}+\\alpha_{2}+\\ldots+a_{m}$"
   ]
  },
  {
   "cell_type": "code",
   "execution_count": null,
   "metadata": {},
   "outputs": [],
   "source": []
  },
  {
   "cell_type": "code",
   "execution_count": null,
   "metadata": {},
   "outputs": [],
   "source": []
  },
  {
   "cell_type": "code",
   "execution_count": null,
   "metadata": {},
   "outputs": [],
   "source": []
  },
  {
   "cell_type": "code",
   "execution_count": null,
   "metadata": {},
   "outputs": [],
   "source": []
  },
  {
   "cell_type": "markdown",
   "metadata": {},
   "source": [
    "## Exercises\n",
    "\n",
    "*Under construction* "
   ]
  }
 ],
 "metadata": {
  "kernelspec": {
   "display_name": "Python 3",
   "language": "python",
   "name": "python3"
  },
  "language_info": {
   "codemirror_mode": {
    "name": "ipython",
    "version": 3
   },
   "file_extension": ".py",
   "mimetype": "text/x-python",
   "name": "python",
   "nbconvert_exporter": "python",
   "pygments_lexer": "ipython3",
   "version": "3.7.6"
  }
 },
 "nbformat": 4,
 "nbformat_minor": 2
}
